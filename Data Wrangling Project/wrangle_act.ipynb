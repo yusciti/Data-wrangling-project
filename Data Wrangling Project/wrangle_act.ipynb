{
 "cells": [
  {
   "cell_type": "markdown",
   "id": "836be856",
   "metadata": {},
   "source": [
    "# INTRODUCTION\n",
    "In the course of learning data analyst. it has become neccesary to test my data wrangling knowledge which is one of the most difficult stage in data analyst course due to getting, cleaning and tiding of dirty and unkept data.\n",
    "In this project we are to investigate the rating of dogs by Twitter user, why did Twitter users rated some particular breeds of dog compared to others.\n",
    "We are going to centered our focus on dog phases which include doggo, floofer, pupper and puppo\n",
    "1 - Puppies are considered puppies within the first 8 month after born, a todler stage\n",
    "2 - Doggo are considered doggo whey are four years old i.e adulhood stage\n",
    "4 - Floofer are considered fllofer when dog is fully grown\n",
    "4 - Puppo is a transisitional phase between pupper & doggo i.e equivalent to teenage dog\n",
    "\n",
    "Data from Twitter was used in the project and the dataset used is listed bellow, however some columns will be renamed in the process of cleaning the data likewise some will be deleted\n",
    "\n",
    "### 1- Twitter_archive dataset\n",
    "This dataset is characterised by the following columns:\n",
    " 0   tweet_id                     \n",
    " 1   in_reply_to_status_id       \n",
    " 2   in_reply_to_user_id         \n",
    " 3   timestamp                   \n",
    " 4   source                      \n",
    " 5   text                       \n",
    " 6   retweeted_status_id         \n",
    " 7   retweeted_status_user_id    \n",
    " 8   retweeted_status_timestamp  \n",
    " 9   expanded_urls                \n",
    " 10  rating_numerator             \n",
    " 11  rating_denominator           \n",
    " 12  name                         \n",
    " 13  doggo                       \n",
    " 14  floofer                     \n",
    " 15  pupper                      \n",
    " 16  puppo \n",
    "\n",
    "###  2- Image_prediction dataset\n",
    "This dataset is characterised by the following columns:\n",
    "\n",
    " 0    tweet_id    \n",
    " 1    jpg_url     \n",
    " 2    img_num     \n",
    " 3    p1       \n",
    " 4    p1_conf     \n",
    " 5    p1_dog      \n",
    " 6    p2     \n",
    " 7    p2_conf  \n",
    " 8    p2_dog  \n",
    " 9    p3         \n",
    " 10   p3_conf     \n",
    " 11   p3_dog  \n",
    " \n",
    "### 3- Twitter_Json file\n",
    "\n",
    " 0   created_at                     \n",
    " 1   id                                      \n",
    " 2   id_str                                     \n",
    " 3   full_text                                  \n",
    " 4   truncated                                    \n",
    " 5   display_text_range                          \n",
    " 6   entities                                    \n",
    " 7   extended_entities                           \n",
    " 8   source                                      \n",
    " 9   in_reply_to_status_id                      \n",
    " 10  in_reply_to_status_id_str                  \n",
    " 11  in_reply_to_user_id                        \n",
    " 12  in_reply_to_user_id_str                    \n",
    " 13  in_reply_to_screen_name                    \n",
    " 14  user                                        \n",
    " 15  geo                                        \n",
    " 16  coordinates                                \n",
    " 17  place                                      \n",
    " 18  contributors                              \n",
    " 19  is_quote_status                               \n",
    " 20  retweet_count                               \n",
    " 21  favorite_count                              \n",
    " 22  favorited                                  \n",
    " 23  retweeted                                    \n",
    " 24  possibly_sensitive                         \n",
    " 25  possibly_sensitive_appealable              \n",
    " 26  lang                                        \n",
    " 27  retweeted_status                            \n",
    " 28  quoted_status_id                           \n",
    " 29  quoted_status_id_str                       \n",
    " 30  quoted_status                  "
   ]
  },
  {
   "cell_type": "markdown",
   "id": "b62e7467",
   "metadata": {},
   "source": [
    "#### The main reason of this project is to gather the data, assess and clean it but however some insights were also noted and observed since data analysis is not complete without getting insight from it.\n",
    "Since we are dealing with rating of Dogs, It is of important to know the reasons why Twitter users rated some Dogs above others.\n",
    "These are what we are going to be looking into to analyze our dataset."
   ]
  },
  {
   "cell_type": "markdown",
   "id": "9079e3a2",
   "metadata": {},
   "source": [
    "### QUESTIONS\n",
    "It is time to ask ourselves some questions that begs for answer which will lead us to fact and truth about the twitter users ratings\n",
    "\n",
    "###### 1- What type of breeds is most popular??\n",
    "###### 1- which of the breeds hihgest favourite count??\n",
    "###### 3- which year do we highest user's rating??\n",
    "###### 4- which of the season does user's has higher ratings??\n",
    "\n",
    "The questions are widely open and\n",
    "\n",
    "we are starting our analysis now."
   ]
  },
  {
   "cell_type": "markdown",
   "id": "817997ec",
   "metadata": {},
   "source": [
    "# Importing Libraries"
   ]
  },
  {
   "cell_type": "code",
   "execution_count": 12,
   "id": "df4bc82b",
   "metadata": {},
   "outputs": [],
   "source": [
    "import pandas as pd\n",
    "import numpy as np\n",
    "import os\n",
    "import requests\n",
    "import json\n",
    "import glob\n",
    "import seaborn as snb\n",
    "%matplotlib inline\n",
    "from matplotlib import pyplot as plt"
   ]
  },
  {
   "cell_type": "markdown",
   "id": "d6fa7a2e",
   "metadata": {},
   "source": [
    "# 1 - DATA GATHERING"
   ]
  },
  {
   "cell_type": "markdown",
   "id": "c85145bf",
   "metadata": {},
   "source": [
    "##### 1 -     twitter-archive-enhanced dataset was downloaded manually\n",
    "\n",
    "##### 2 - Image prediction dataset was downloaded programatically \n",
    " using this url = 'https://d17h27t6h515a5.cloudfront.net/topher/2017/August/599fd2ad_image-predictions/image-predictions.tsv'\n",
    "\n",
    "##### 3 - twitter_json dataset was downloaded manually\n"
   ]
  },
  {
   "cell_type": "markdown",
   "id": "d70ec402",
   "metadata": {},
   "source": [
    "### 1.2 - twitter-archive-enhanced dataset"
   ]
  },
  {
   "cell_type": "raw",
   "id": "5f6161d9",
   "metadata": {},
   "source": [
    "# loads twitter-archive-enhanced file from the folder"
   ]
  },
  {
   "cell_type": "code",
   "execution_count": 13,
   "id": "218c65af",
   "metadata": {},
   "outputs": [],
   "source": [
    "df = pd.read_csv('twitter-archive-enhanced.csv', sep =',')"
   ]
  },
  {
   "cell_type": "markdown",
   "id": "9d8ed23f",
   "metadata": {},
   "source": [
    "### view the data"
   ]
  },
  {
   "cell_type": "code",
   "execution_count": 14,
   "id": "3ab822f0",
   "metadata": {},
   "outputs": [
    {
     "data": {
      "text/html": [
       "<div>\n",
       "<style scoped>\n",
       "    .dataframe tbody tr th:only-of-type {\n",
       "        vertical-align: middle;\n",
       "    }\n",
       "\n",
       "    .dataframe tbody tr th {\n",
       "        vertical-align: top;\n",
       "    }\n",
       "\n",
       "    .dataframe thead th {\n",
       "        text-align: right;\n",
       "    }\n",
       "</style>\n",
       "<table border=\"1\" class=\"dataframe\">\n",
       "  <thead>\n",
       "    <tr style=\"text-align: right;\">\n",
       "      <th></th>\n",
       "      <th>tweet_id</th>\n",
       "      <th>in_reply_to_status_id</th>\n",
       "      <th>in_reply_to_user_id</th>\n",
       "      <th>timestamp</th>\n",
       "      <th>source</th>\n",
       "      <th>text</th>\n",
       "      <th>retweeted_status_id</th>\n",
       "      <th>retweeted_status_user_id</th>\n",
       "      <th>retweeted_status_timestamp</th>\n",
       "      <th>expanded_urls</th>\n",
       "      <th>rating_numerator</th>\n",
       "      <th>rating_denominator</th>\n",
       "      <th>name</th>\n",
       "      <th>doggo</th>\n",
       "      <th>floofer</th>\n",
       "      <th>pupper</th>\n",
       "      <th>puppo</th>\n",
       "    </tr>\n",
       "  </thead>\n",
       "  <tbody>\n",
       "    <tr>\n",
       "      <th>0</th>\n",
       "      <td>892420643555336193</td>\n",
       "      <td>NaN</td>\n",
       "      <td>NaN</td>\n",
       "      <td>2017-08-01 16:23:56 +0000</td>\n",
       "      <td>&lt;a href=\"http://twitter.com/download/iphone\" r...</td>\n",
       "      <td>This is Phineas. He's a mystical boy. Only eve...</td>\n",
       "      <td>NaN</td>\n",
       "      <td>NaN</td>\n",
       "      <td>NaN</td>\n",
       "      <td>https://twitter.com/dog_rates/status/892420643...</td>\n",
       "      <td>13</td>\n",
       "      <td>10</td>\n",
       "      <td>Phineas</td>\n",
       "      <td>None</td>\n",
       "      <td>None</td>\n",
       "      <td>None</td>\n",
       "      <td>None</td>\n",
       "    </tr>\n",
       "    <tr>\n",
       "      <th>1</th>\n",
       "      <td>892177421306343426</td>\n",
       "      <td>NaN</td>\n",
       "      <td>NaN</td>\n",
       "      <td>2017-08-01 00:17:27 +0000</td>\n",
       "      <td>&lt;a href=\"http://twitter.com/download/iphone\" r...</td>\n",
       "      <td>This is Tilly. She's just checking pup on you....</td>\n",
       "      <td>NaN</td>\n",
       "      <td>NaN</td>\n",
       "      <td>NaN</td>\n",
       "      <td>https://twitter.com/dog_rates/status/892177421...</td>\n",
       "      <td>13</td>\n",
       "      <td>10</td>\n",
       "      <td>Tilly</td>\n",
       "      <td>None</td>\n",
       "      <td>None</td>\n",
       "      <td>None</td>\n",
       "      <td>None</td>\n",
       "    </tr>\n",
       "    <tr>\n",
       "      <th>2</th>\n",
       "      <td>891815181378084864</td>\n",
       "      <td>NaN</td>\n",
       "      <td>NaN</td>\n",
       "      <td>2017-07-31 00:18:03 +0000</td>\n",
       "      <td>&lt;a href=\"http://twitter.com/download/iphone\" r...</td>\n",
       "      <td>This is Archie. He is a rare Norwegian Pouncin...</td>\n",
       "      <td>NaN</td>\n",
       "      <td>NaN</td>\n",
       "      <td>NaN</td>\n",
       "      <td>https://twitter.com/dog_rates/status/891815181...</td>\n",
       "      <td>12</td>\n",
       "      <td>10</td>\n",
       "      <td>Archie</td>\n",
       "      <td>None</td>\n",
       "      <td>None</td>\n",
       "      <td>None</td>\n",
       "      <td>None</td>\n",
       "    </tr>\n",
       "  </tbody>\n",
       "</table>\n",
       "</div>"
      ],
      "text/plain": [
       "             tweet_id  in_reply_to_status_id  in_reply_to_user_id  \\\n",
       "0  892420643555336193                    NaN                  NaN   \n",
       "1  892177421306343426                    NaN                  NaN   \n",
       "2  891815181378084864                    NaN                  NaN   \n",
       "\n",
       "                   timestamp  \\\n",
       "0  2017-08-01 16:23:56 +0000   \n",
       "1  2017-08-01 00:17:27 +0000   \n",
       "2  2017-07-31 00:18:03 +0000   \n",
       "\n",
       "                                              source  \\\n",
       "0  <a href=\"http://twitter.com/download/iphone\" r...   \n",
       "1  <a href=\"http://twitter.com/download/iphone\" r...   \n",
       "2  <a href=\"http://twitter.com/download/iphone\" r...   \n",
       "\n",
       "                                                text  retweeted_status_id  \\\n",
       "0  This is Phineas. He's a mystical boy. Only eve...                  NaN   \n",
       "1  This is Tilly. She's just checking pup on you....                  NaN   \n",
       "2  This is Archie. He is a rare Norwegian Pouncin...                  NaN   \n",
       "\n",
       "   retweeted_status_user_id retweeted_status_timestamp  \\\n",
       "0                       NaN                        NaN   \n",
       "1                       NaN                        NaN   \n",
       "2                       NaN                        NaN   \n",
       "\n",
       "                                       expanded_urls  rating_numerator  \\\n",
       "0  https://twitter.com/dog_rates/status/892420643...                13   \n",
       "1  https://twitter.com/dog_rates/status/892177421...                13   \n",
       "2  https://twitter.com/dog_rates/status/891815181...                12   \n",
       "\n",
       "   rating_denominator     name doggo floofer pupper puppo  \n",
       "0                  10  Phineas  None    None   None  None  \n",
       "1                  10    Tilly  None    None   None  None  \n",
       "2                  10   Archie  None    None   None  None  "
      ]
     },
     "execution_count": 14,
     "metadata": {},
     "output_type": "execute_result"
    }
   ],
   "source": [
    "df.head(3)"
   ]
  },
  {
   "cell_type": "markdown",
   "id": "e48ae8b6",
   "metadata": {},
   "source": [
    "### 1. 3 - Download Image prediction dataset programatically"
   ]
  },
  {
   "cell_type": "code",
   "execution_count": null,
   "id": "a228937e",
   "metadata": {},
   "outputs": [],
   "source": [
    "url = 'https://d17h27t6h515a5.cloudfront.net/topher/2017/August/599fd2ad_image-predictions/image-predictions.tsv'\n",
    "response = requests.get(url)"
   ]
  },
  {
   "cell_type": "code",
   "execution_count": 16,
   "id": "baacc3d1",
   "metadata": {},
   "outputs": [],
   "source": [
    "with open ('image-predictions.tsv', mode = 'wb') as file:\n",
    "    file.write(response.content)"
   ]
  },
  {
   "cell_type": "markdown",
   "id": "da8212a6",
   "metadata": {},
   "source": [
    "### load the image-predictions.tsv into dataframe and view it"
   ]
  },
  {
   "cell_type": "markdown",
   "id": "199fe846",
   "metadata": {},
   "source": []
  },
  {
   "cell_type": "code",
   "execution_count": 17,
   "id": "0352b848",
   "metadata": {},
   "outputs": [],
   "source": [
    "df1 = pd.read_csv('image-predictions.tsv', sep = '\\t')"
   ]
  },
  {
   "cell_type": "code",
   "execution_count": 18,
   "id": "d65fe492",
   "metadata": {},
   "outputs": [
    {
     "data": {
      "text/html": [
       "<div>\n",
       "<style scoped>\n",
       "    .dataframe tbody tr th:only-of-type {\n",
       "        vertical-align: middle;\n",
       "    }\n",
       "\n",
       "    .dataframe tbody tr th {\n",
       "        vertical-align: top;\n",
       "    }\n",
       "\n",
       "    .dataframe thead th {\n",
       "        text-align: right;\n",
       "    }\n",
       "</style>\n",
       "<table border=\"1\" class=\"dataframe\">\n",
       "  <thead>\n",
       "    <tr style=\"text-align: right;\">\n",
       "      <th></th>\n",
       "      <th>tweet_id</th>\n",
       "      <th>jpg_url</th>\n",
       "      <th>img_num</th>\n",
       "      <th>p1</th>\n",
       "      <th>p1_conf</th>\n",
       "      <th>p1_dog</th>\n",
       "      <th>p2</th>\n",
       "      <th>p2_conf</th>\n",
       "      <th>p2_dog</th>\n",
       "      <th>p3</th>\n",
       "      <th>p3_conf</th>\n",
       "      <th>p3_dog</th>\n",
       "    </tr>\n",
       "  </thead>\n",
       "  <tbody>\n",
       "    <tr>\n",
       "      <th>0</th>\n",
       "      <td>666020888022790149</td>\n",
       "      <td>https://pbs.twimg.com/media/CT4udn0WwAA0aMy.jpg</td>\n",
       "      <td>1</td>\n",
       "      <td>Welsh_springer_spaniel</td>\n",
       "      <td>0.465074</td>\n",
       "      <td>True</td>\n",
       "      <td>collie</td>\n",
       "      <td>0.156665</td>\n",
       "      <td>True</td>\n",
       "      <td>Shetland_sheepdog</td>\n",
       "      <td>0.061428</td>\n",
       "      <td>True</td>\n",
       "    </tr>\n",
       "    <tr>\n",
       "      <th>1</th>\n",
       "      <td>666029285002620928</td>\n",
       "      <td>https://pbs.twimg.com/media/CT42GRgUYAA5iDo.jpg</td>\n",
       "      <td>1</td>\n",
       "      <td>redbone</td>\n",
       "      <td>0.506826</td>\n",
       "      <td>True</td>\n",
       "      <td>miniature_pinscher</td>\n",
       "      <td>0.074192</td>\n",
       "      <td>True</td>\n",
       "      <td>Rhodesian_ridgeback</td>\n",
       "      <td>0.072010</td>\n",
       "      <td>True</td>\n",
       "    </tr>\n",
       "    <tr>\n",
       "      <th>2</th>\n",
       "      <td>666033412701032449</td>\n",
       "      <td>https://pbs.twimg.com/media/CT4521TWwAEvMyu.jpg</td>\n",
       "      <td>1</td>\n",
       "      <td>German_shepherd</td>\n",
       "      <td>0.596461</td>\n",
       "      <td>True</td>\n",
       "      <td>malinois</td>\n",
       "      <td>0.138584</td>\n",
       "      <td>True</td>\n",
       "      <td>bloodhound</td>\n",
       "      <td>0.116197</td>\n",
       "      <td>True</td>\n",
       "    </tr>\n",
       "  </tbody>\n",
       "</table>\n",
       "</div>"
      ],
      "text/plain": [
       "             tweet_id                                          jpg_url  \\\n",
       "0  666020888022790149  https://pbs.twimg.com/media/CT4udn0WwAA0aMy.jpg   \n",
       "1  666029285002620928  https://pbs.twimg.com/media/CT42GRgUYAA5iDo.jpg   \n",
       "2  666033412701032449  https://pbs.twimg.com/media/CT4521TWwAEvMyu.jpg   \n",
       "\n",
       "   img_num                      p1   p1_conf  p1_dog                  p2  \\\n",
       "0        1  Welsh_springer_spaniel  0.465074    True              collie   \n",
       "1        1                 redbone  0.506826    True  miniature_pinscher   \n",
       "2        1         German_shepherd  0.596461    True            malinois   \n",
       "\n",
       "    p2_conf  p2_dog                   p3   p3_conf  p3_dog  \n",
       "0  0.156665    True    Shetland_sheepdog  0.061428    True  \n",
       "1  0.074192    True  Rhodesian_ridgeback  0.072010    True  \n",
       "2  0.138584    True           bloodhound  0.116197    True  "
      ]
     },
     "execution_count": 18,
     "metadata": {},
     "output_type": "execute_result"
    }
   ],
   "source": [
    "df1.head(3)"
   ]
  },
  {
   "cell_type": "markdown",
   "id": "6c83683a",
   "metadata": {},
   "source": [
    "### 1.4 - twitter-json dataset"
   ]
  },
  {
   "cell_type": "markdown",
   "id": "e45a6d96",
   "metadata": {},
   "source": [
    "### load the tweet-json.txt into dataframe and view it"
   ]
  },
  {
   "cell_type": "code",
   "execution_count": 19,
   "id": "0564282a",
   "metadata": {},
   "outputs": [
    {
     "data": {
      "text/html": [
       "<div>\n",
       "<style scoped>\n",
       "    .dataframe tbody tr th:only-of-type {\n",
       "        vertical-align: middle;\n",
       "    }\n",
       "\n",
       "    .dataframe tbody tr th {\n",
       "        vertical-align: top;\n",
       "    }\n",
       "\n",
       "    .dataframe thead th {\n",
       "        text-align: right;\n",
       "    }\n",
       "</style>\n",
       "<table border=\"1\" class=\"dataframe\">\n",
       "  <thead>\n",
       "    <tr style=\"text-align: right;\">\n",
       "      <th></th>\n",
       "      <th>created_at</th>\n",
       "      <th>id</th>\n",
       "      <th>id_str</th>\n",
       "      <th>full_text</th>\n",
       "      <th>truncated</th>\n",
       "      <th>display_text_range</th>\n",
       "      <th>entities</th>\n",
       "      <th>extended_entities</th>\n",
       "      <th>source</th>\n",
       "      <th>in_reply_to_status_id</th>\n",
       "      <th>...</th>\n",
       "      <th>favorite_count</th>\n",
       "      <th>favorited</th>\n",
       "      <th>retweeted</th>\n",
       "      <th>possibly_sensitive</th>\n",
       "      <th>possibly_sensitive_appealable</th>\n",
       "      <th>lang</th>\n",
       "      <th>retweeted_status</th>\n",
       "      <th>quoted_status_id</th>\n",
       "      <th>quoted_status_id_str</th>\n",
       "      <th>quoted_status</th>\n",
       "    </tr>\n",
       "  </thead>\n",
       "  <tbody>\n",
       "    <tr>\n",
       "      <th>0</th>\n",
       "      <td>2017-08-01 16:23:56+00:00</td>\n",
       "      <td>892420643555336193</td>\n",
       "      <td>892420643555336192</td>\n",
       "      <td>This is Phineas. He's a mystical boy. Only eve...</td>\n",
       "      <td>False</td>\n",
       "      <td>[0, 85]</td>\n",
       "      <td>{'hashtags': [], 'symbols': [], 'user_mentions...</td>\n",
       "      <td>{'media': [{'id': 892420639486877696, 'id_str'...</td>\n",
       "      <td>&lt;a href=\"http://twitter.com/download/iphone\" r...</td>\n",
       "      <td>NaN</td>\n",
       "      <td>...</td>\n",
       "      <td>39467</td>\n",
       "      <td>False</td>\n",
       "      <td>False</td>\n",
       "      <td>0.0</td>\n",
       "      <td>0.0</td>\n",
       "      <td>en</td>\n",
       "      <td>NaN</td>\n",
       "      <td>NaN</td>\n",
       "      <td>NaN</td>\n",
       "      <td>NaN</td>\n",
       "    </tr>\n",
       "  </tbody>\n",
       "</table>\n",
       "<p>1 rows × 31 columns</p>\n",
       "</div>"
      ],
      "text/plain": [
       "                 created_at                  id              id_str  \\\n",
       "0 2017-08-01 16:23:56+00:00  892420643555336193  892420643555336192   \n",
       "\n",
       "                                           full_text  truncated  \\\n",
       "0  This is Phineas. He's a mystical boy. Only eve...      False   \n",
       "\n",
       "  display_text_range                                           entities  \\\n",
       "0            [0, 85]  {'hashtags': [], 'symbols': [], 'user_mentions...   \n",
       "\n",
       "                                   extended_entities  \\\n",
       "0  {'media': [{'id': 892420639486877696, 'id_str'...   \n",
       "\n",
       "                                              source  in_reply_to_status_id  \\\n",
       "0  <a href=\"http://twitter.com/download/iphone\" r...                    NaN   \n",
       "\n",
       "   ...  favorite_count  favorited  retweeted possibly_sensitive  \\\n",
       "0  ...           39467      False      False                0.0   \n",
       "\n",
       "  possibly_sensitive_appealable  lang  retweeted_status quoted_status_id  \\\n",
       "0                           0.0    en               NaN              NaN   \n",
       "\n",
       "   quoted_status_id_str  quoted_status  \n",
       "0                   NaN            NaN  \n",
       "\n",
       "[1 rows x 31 columns]"
      ]
     },
     "execution_count": 19,
     "metadata": {},
     "output_type": "execute_result"
    }
   ],
   "source": [
    "df2 = pd.read_json('tweet-json copy.txt' , lines = True, encoding='utf-8-sig')\n",
    "df2.head(1)"
   ]
  },
  {
   "cell_type": "markdown",
   "id": "92765854",
   "metadata": {},
   "source": [
    "# 2 - ASSESING THE DATASETS"
   ]
  },
  {
   "cell_type": "code",
   "execution_count": null,
   "id": "db8dd881",
   "metadata": {},
   "outputs": [],
   "source": [
    "# these are my data 3 dataframe\n",
    "df \n",
    "df1 \n",
    "df2 "
   ]
  },
  {
   "cell_type": "markdown",
   "id": "08884d80",
   "metadata": {},
   "source": [
    "### 2.1 Assessing the datasets visually"
   ]
  },
  {
   "cell_type": "code",
   "execution_count": 20,
   "id": "d1972d0c",
   "metadata": {},
   "outputs": [
    {
     "data": {
      "text/html": [
       "<div>\n",
       "<style scoped>\n",
       "    .dataframe tbody tr th:only-of-type {\n",
       "        vertical-align: middle;\n",
       "    }\n",
       "\n",
       "    .dataframe tbody tr th {\n",
       "        vertical-align: top;\n",
       "    }\n",
       "\n",
       "    .dataframe thead th {\n",
       "        text-align: right;\n",
       "    }\n",
       "</style>\n",
       "<table border=\"1\" class=\"dataframe\">\n",
       "  <thead>\n",
       "    <tr style=\"text-align: right;\">\n",
       "      <th></th>\n",
       "      <th>tweet_id</th>\n",
       "      <th>in_reply_to_status_id</th>\n",
       "      <th>in_reply_to_user_id</th>\n",
       "      <th>timestamp</th>\n",
       "      <th>source</th>\n",
       "      <th>text</th>\n",
       "      <th>retweeted_status_id</th>\n",
       "      <th>retweeted_status_user_id</th>\n",
       "      <th>retweeted_status_timestamp</th>\n",
       "      <th>expanded_urls</th>\n",
       "      <th>rating_numerator</th>\n",
       "      <th>rating_denominator</th>\n",
       "      <th>name</th>\n",
       "      <th>doggo</th>\n",
       "      <th>floofer</th>\n",
       "      <th>pupper</th>\n",
       "      <th>puppo</th>\n",
       "    </tr>\n",
       "  </thead>\n",
       "  <tbody>\n",
       "    <tr>\n",
       "      <th>0</th>\n",
       "      <td>892420643555336193</td>\n",
       "      <td>NaN</td>\n",
       "      <td>NaN</td>\n",
       "      <td>2017-08-01 16:23:56 +0000</td>\n",
       "      <td>&lt;a href=\"http://twitter.com/download/iphone\" r...</td>\n",
       "      <td>This is Phineas. He's a mystical boy. Only eve...</td>\n",
       "      <td>NaN</td>\n",
       "      <td>NaN</td>\n",
       "      <td>NaN</td>\n",
       "      <td>https://twitter.com/dog_rates/status/892420643...</td>\n",
       "      <td>13</td>\n",
       "      <td>10</td>\n",
       "      <td>Phineas</td>\n",
       "      <td>None</td>\n",
       "      <td>None</td>\n",
       "      <td>None</td>\n",
       "      <td>None</td>\n",
       "    </tr>\n",
       "    <tr>\n",
       "      <th>1</th>\n",
       "      <td>892177421306343426</td>\n",
       "      <td>NaN</td>\n",
       "      <td>NaN</td>\n",
       "      <td>2017-08-01 00:17:27 +0000</td>\n",
       "      <td>&lt;a href=\"http://twitter.com/download/iphone\" r...</td>\n",
       "      <td>This is Tilly. She's just checking pup on you....</td>\n",
       "      <td>NaN</td>\n",
       "      <td>NaN</td>\n",
       "      <td>NaN</td>\n",
       "      <td>https://twitter.com/dog_rates/status/892177421...</td>\n",
       "      <td>13</td>\n",
       "      <td>10</td>\n",
       "      <td>Tilly</td>\n",
       "      <td>None</td>\n",
       "      <td>None</td>\n",
       "      <td>None</td>\n",
       "      <td>None</td>\n",
       "    </tr>\n",
       "  </tbody>\n",
       "</table>\n",
       "</div>"
      ],
      "text/plain": [
       "             tweet_id  in_reply_to_status_id  in_reply_to_user_id  \\\n",
       "0  892420643555336193                    NaN                  NaN   \n",
       "1  892177421306343426                    NaN                  NaN   \n",
       "\n",
       "                   timestamp  \\\n",
       "0  2017-08-01 16:23:56 +0000   \n",
       "1  2017-08-01 00:17:27 +0000   \n",
       "\n",
       "                                              source  \\\n",
       "0  <a href=\"http://twitter.com/download/iphone\" r...   \n",
       "1  <a href=\"http://twitter.com/download/iphone\" r...   \n",
       "\n",
       "                                                text  retweeted_status_id  \\\n",
       "0  This is Phineas. He's a mystical boy. Only eve...                  NaN   \n",
       "1  This is Tilly. She's just checking pup on you....                  NaN   \n",
       "\n",
       "   retweeted_status_user_id retweeted_status_timestamp  \\\n",
       "0                       NaN                        NaN   \n",
       "1                       NaN                        NaN   \n",
       "\n",
       "                                       expanded_urls  rating_numerator  \\\n",
       "0  https://twitter.com/dog_rates/status/892420643...                13   \n",
       "1  https://twitter.com/dog_rates/status/892177421...                13   \n",
       "\n",
       "   rating_denominator     name doggo floofer pupper puppo  \n",
       "0                  10  Phineas  None    None   None  None  \n",
       "1                  10    Tilly  None    None   None  None  "
      ]
     },
     "execution_count": 20,
     "metadata": {},
     "output_type": "execute_result"
    }
   ],
   "source": [
    "df.head(2)"
   ]
  },
  {
   "cell_type": "code",
   "execution_count": 21,
   "id": "6c0e2d97",
   "metadata": {},
   "outputs": [
    {
     "data": {
      "text/html": [
       "<div>\n",
       "<style scoped>\n",
       "    .dataframe tbody tr th:only-of-type {\n",
       "        vertical-align: middle;\n",
       "    }\n",
       "\n",
       "    .dataframe tbody tr th {\n",
       "        vertical-align: top;\n",
       "    }\n",
       "\n",
       "    .dataframe thead th {\n",
       "        text-align: right;\n",
       "    }\n",
       "</style>\n",
       "<table border=\"1\" class=\"dataframe\">\n",
       "  <thead>\n",
       "    <tr style=\"text-align: right;\">\n",
       "      <th></th>\n",
       "      <th>tweet_id</th>\n",
       "      <th>jpg_url</th>\n",
       "      <th>img_num</th>\n",
       "      <th>p1</th>\n",
       "      <th>p1_conf</th>\n",
       "      <th>p1_dog</th>\n",
       "      <th>p2</th>\n",
       "      <th>p2_conf</th>\n",
       "      <th>p2_dog</th>\n",
       "      <th>p3</th>\n",
       "      <th>p3_conf</th>\n",
       "      <th>p3_dog</th>\n",
       "    </tr>\n",
       "  </thead>\n",
       "  <tbody>\n",
       "    <tr>\n",
       "      <th>0</th>\n",
       "      <td>666020888022790149</td>\n",
       "      <td>https://pbs.twimg.com/media/CT4udn0WwAA0aMy.jpg</td>\n",
       "      <td>1</td>\n",
       "      <td>Welsh_springer_spaniel</td>\n",
       "      <td>0.465074</td>\n",
       "      <td>True</td>\n",
       "      <td>collie</td>\n",
       "      <td>0.156665</td>\n",
       "      <td>True</td>\n",
       "      <td>Shetland_sheepdog</td>\n",
       "      <td>0.061428</td>\n",
       "      <td>True</td>\n",
       "    </tr>\n",
       "    <tr>\n",
       "      <th>1</th>\n",
       "      <td>666029285002620928</td>\n",
       "      <td>https://pbs.twimg.com/media/CT42GRgUYAA5iDo.jpg</td>\n",
       "      <td>1</td>\n",
       "      <td>redbone</td>\n",
       "      <td>0.506826</td>\n",
       "      <td>True</td>\n",
       "      <td>miniature_pinscher</td>\n",
       "      <td>0.074192</td>\n",
       "      <td>True</td>\n",
       "      <td>Rhodesian_ridgeback</td>\n",
       "      <td>0.072010</td>\n",
       "      <td>True</td>\n",
       "    </tr>\n",
       "  </tbody>\n",
       "</table>\n",
       "</div>"
      ],
      "text/plain": [
       "             tweet_id                                          jpg_url  \\\n",
       "0  666020888022790149  https://pbs.twimg.com/media/CT4udn0WwAA0aMy.jpg   \n",
       "1  666029285002620928  https://pbs.twimg.com/media/CT42GRgUYAA5iDo.jpg   \n",
       "\n",
       "   img_num                      p1   p1_conf  p1_dog                  p2  \\\n",
       "0        1  Welsh_springer_spaniel  0.465074    True              collie   \n",
       "1        1                 redbone  0.506826    True  miniature_pinscher   \n",
       "\n",
       "    p2_conf  p2_dog                   p3   p3_conf  p3_dog  \n",
       "0  0.156665    True    Shetland_sheepdog  0.061428    True  \n",
       "1  0.074192    True  Rhodesian_ridgeback  0.072010    True  "
      ]
     },
     "execution_count": 21,
     "metadata": {},
     "output_type": "execute_result"
    }
   ],
   "source": [
    "df1.head(2)"
   ]
  },
  {
   "cell_type": "code",
   "execution_count": 22,
   "id": "b1ced79e",
   "metadata": {},
   "outputs": [
    {
     "data": {
      "text/html": [
       "<div>\n",
       "<style scoped>\n",
       "    .dataframe tbody tr th:only-of-type {\n",
       "        vertical-align: middle;\n",
       "    }\n",
       "\n",
       "    .dataframe tbody tr th {\n",
       "        vertical-align: top;\n",
       "    }\n",
       "\n",
       "    .dataframe thead th {\n",
       "        text-align: right;\n",
       "    }\n",
       "</style>\n",
       "<table border=\"1\" class=\"dataframe\">\n",
       "  <thead>\n",
       "    <tr style=\"text-align: right;\">\n",
       "      <th></th>\n",
       "      <th>created_at</th>\n",
       "      <th>id</th>\n",
       "      <th>id_str</th>\n",
       "      <th>full_text</th>\n",
       "      <th>truncated</th>\n",
       "      <th>display_text_range</th>\n",
       "      <th>entities</th>\n",
       "      <th>extended_entities</th>\n",
       "      <th>source</th>\n",
       "      <th>in_reply_to_status_id</th>\n",
       "      <th>...</th>\n",
       "      <th>favorite_count</th>\n",
       "      <th>favorited</th>\n",
       "      <th>retweeted</th>\n",
       "      <th>possibly_sensitive</th>\n",
       "      <th>possibly_sensitive_appealable</th>\n",
       "      <th>lang</th>\n",
       "      <th>retweeted_status</th>\n",
       "      <th>quoted_status_id</th>\n",
       "      <th>quoted_status_id_str</th>\n",
       "      <th>quoted_status</th>\n",
       "    </tr>\n",
       "  </thead>\n",
       "  <tbody>\n",
       "    <tr>\n",
       "      <th>0</th>\n",
       "      <td>2017-08-01 16:23:56+00:00</td>\n",
       "      <td>892420643555336193</td>\n",
       "      <td>892420643555336192</td>\n",
       "      <td>This is Phineas. He's a mystical boy. Only eve...</td>\n",
       "      <td>False</td>\n",
       "      <td>[0, 85]</td>\n",
       "      <td>{'hashtags': [], 'symbols': [], 'user_mentions...</td>\n",
       "      <td>{'media': [{'id': 892420639486877696, 'id_str'...</td>\n",
       "      <td>&lt;a href=\"http://twitter.com/download/iphone\" r...</td>\n",
       "      <td>NaN</td>\n",
       "      <td>...</td>\n",
       "      <td>39467</td>\n",
       "      <td>False</td>\n",
       "      <td>False</td>\n",
       "      <td>0.0</td>\n",
       "      <td>0.0</td>\n",
       "      <td>en</td>\n",
       "      <td>NaN</td>\n",
       "      <td>NaN</td>\n",
       "      <td>NaN</td>\n",
       "      <td>NaN</td>\n",
       "    </tr>\n",
       "    <tr>\n",
       "      <th>1</th>\n",
       "      <td>2017-08-01 00:17:27+00:00</td>\n",
       "      <td>892177421306343426</td>\n",
       "      <td>892177421306343424</td>\n",
       "      <td>This is Tilly. She's just checking pup on you....</td>\n",
       "      <td>False</td>\n",
       "      <td>[0, 138]</td>\n",
       "      <td>{'hashtags': [], 'symbols': [], 'user_mentions...</td>\n",
       "      <td>{'media': [{'id': 892177413194625024, 'id_str'...</td>\n",
       "      <td>&lt;a href=\"http://twitter.com/download/iphone\" r...</td>\n",
       "      <td>NaN</td>\n",
       "      <td>...</td>\n",
       "      <td>33819</td>\n",
       "      <td>False</td>\n",
       "      <td>False</td>\n",
       "      <td>0.0</td>\n",
       "      <td>0.0</td>\n",
       "      <td>en</td>\n",
       "      <td>NaN</td>\n",
       "      <td>NaN</td>\n",
       "      <td>NaN</td>\n",
       "      <td>NaN</td>\n",
       "    </tr>\n",
       "  </tbody>\n",
       "</table>\n",
       "<p>2 rows × 31 columns</p>\n",
       "</div>"
      ],
      "text/plain": [
       "                 created_at                  id              id_str  \\\n",
       "0 2017-08-01 16:23:56+00:00  892420643555336193  892420643555336192   \n",
       "1 2017-08-01 00:17:27+00:00  892177421306343426  892177421306343424   \n",
       "\n",
       "                                           full_text  truncated  \\\n",
       "0  This is Phineas. He's a mystical boy. Only eve...      False   \n",
       "1  This is Tilly. She's just checking pup on you....      False   \n",
       "\n",
       "  display_text_range                                           entities  \\\n",
       "0            [0, 85]  {'hashtags': [], 'symbols': [], 'user_mentions...   \n",
       "1           [0, 138]  {'hashtags': [], 'symbols': [], 'user_mentions...   \n",
       "\n",
       "                                   extended_entities  \\\n",
       "0  {'media': [{'id': 892420639486877696, 'id_str'...   \n",
       "1  {'media': [{'id': 892177413194625024, 'id_str'...   \n",
       "\n",
       "                                              source  in_reply_to_status_id  \\\n",
       "0  <a href=\"http://twitter.com/download/iphone\" r...                    NaN   \n",
       "1  <a href=\"http://twitter.com/download/iphone\" r...                    NaN   \n",
       "\n",
       "   ...  favorite_count  favorited  retweeted possibly_sensitive  \\\n",
       "0  ...           39467      False      False                0.0   \n",
       "1  ...           33819      False      False                0.0   \n",
       "\n",
       "  possibly_sensitive_appealable  lang  retweeted_status quoted_status_id  \\\n",
       "0                           0.0    en               NaN              NaN   \n",
       "1                           0.0    en               NaN              NaN   \n",
       "\n",
       "   quoted_status_id_str  quoted_status  \n",
       "0                   NaN            NaN  \n",
       "1                   NaN            NaN  \n",
       "\n",
       "[2 rows x 31 columns]"
      ]
     },
     "execution_count": 22,
     "metadata": {},
     "output_type": "execute_result"
    }
   ],
   "source": [
    "df2.head(2)"
   ]
  },
  {
   "cell_type": "markdown",
   "id": "b06d83f9",
   "metadata": {},
   "source": [
    "### 2.2 - Programatically assesing the datasets"
   ]
  },
  {
   "cell_type": "markdown",
   "id": "b449bf3e",
   "metadata": {},
   "source": [
    "### check the information about the dataset such as data type, columns name and number"
   ]
  },
  {
   "cell_type": "code",
   "execution_count": 23,
   "id": "000c482d",
   "metadata": {},
   "outputs": [
    {
     "name": "stdout",
     "output_type": "stream",
     "text": [
      "<class 'pandas.core.frame.DataFrame'>\n",
      "RangeIndex: 2356 entries, 0 to 2355\n",
      "Data columns (total 17 columns):\n",
      " #   Column                      Non-Null Count  Dtype  \n",
      "---  ------                      --------------  -----  \n",
      " 0   tweet_id                    2356 non-null   int64  \n",
      " 1   in_reply_to_status_id       78 non-null     float64\n",
      " 2   in_reply_to_user_id         78 non-null     float64\n",
      " 3   timestamp                   2356 non-null   object \n",
      " 4   source                      2356 non-null   object \n",
      " 5   text                        2356 non-null   object \n",
      " 6   retweeted_status_id         181 non-null    float64\n",
      " 7   retweeted_status_user_id    181 non-null    float64\n",
      " 8   retweeted_status_timestamp  181 non-null    object \n",
      " 9   expanded_urls               2297 non-null   object \n",
      " 10  rating_numerator            2356 non-null   int64  \n",
      " 11  rating_denominator          2356 non-null   int64  \n",
      " 12  name                        2356 non-null   object \n",
      " 13  doggo                       2356 non-null   object \n",
      " 14  floofer                     2356 non-null   object \n",
      " 15  pupper                      2356 non-null   object \n",
      " 16  puppo                       2356 non-null   object \n",
      "dtypes: float64(4), int64(3), object(10)\n",
      "memory usage: 313.0+ KB\n"
     ]
    }
   ],
   "source": [
    "df.info()"
   ]
  },
  {
   "cell_type": "markdown",
   "id": "9d394fac",
   "metadata": {},
   "source": [
    "### you can see we have wrong data type timestamp which is object instead of datetime with some null columns"
   ]
  },
  {
   "cell_type": "code",
   "execution_count": 24,
   "id": "46fe1cbe",
   "metadata": {},
   "outputs": [
    {
     "data": {
      "text/plain": [
       "(2356, 17)"
      ]
     },
     "execution_count": 24,
     "metadata": {},
     "output_type": "execute_result"
    }
   ],
   "source": [
    "#show my dataset dimension\n",
    "df.shape"
   ]
  },
  {
   "cell_type": "raw",
   "id": "9b4fc104",
   "metadata": {},
   "source": [
    "my dataset has 17 columns and 2356 rows"
   ]
  },
  {
   "cell_type": "code",
   "execution_count": 25,
   "id": "7889ab64",
   "metadata": {},
   "outputs": [
    {
     "data": {
      "text/plain": [
       "0"
      ]
     },
     "execution_count": 25,
     "metadata": {},
     "output_type": "execute_result"
    }
   ],
   "source": [
    "#checking for duplicate in tweet_id column\n",
    "df.tweet_id.duplicated().sum()"
   ]
  },
  {
   "cell_type": "raw",
   "id": "8c8e7af5",
   "metadata": {},
   "source": [
    "No tweet_id was duplicated"
   ]
  },
  {
   "cell_type": "code",
   "execution_count": 31,
   "id": "37c17bb4",
   "metadata": {},
   "outputs": [
    {
     "data": {
      "text/plain": [
       "tweet_id                      1455\n",
       "in_reply_to_status_id           60\n",
       "in_reply_to_user_id             60\n",
       "timestamp                     1455\n",
       "source                        1455\n",
       "text                          1455\n",
       "retweeted_status_id            153\n",
       "retweeted_status_user_id       153\n",
       "retweeted_status_timestamp     153\n",
       "expanded_urls                 1412\n",
       "rating_numerator              1455\n",
       "rating_denominator            1455\n",
       "name                          1455\n",
       "doggo                         1455\n",
       "floofer                       1455\n",
       "pupper                        1455\n",
       "puppo                         1455\n",
       "dtype: int64"
      ]
     },
     "execution_count": 31,
     "metadata": {},
     "output_type": "execute_result"
    }
   ],
   "source": [
    "#checking numerator that is > than 10\n",
    "df[df['rating_numerator'] > 10].count()"
   ]
  },
  {
   "cell_type": "markdown",
   "id": "4edf82e1",
   "metadata": {},
   "source": [
    "we have 1455 users that rated the dog 50/10"
   ]
  },
  {
   "cell_type": "code",
   "execution_count": 32,
   "id": "31aae9b5",
   "metadata": {},
   "outputs": [
    {
     "data": {
      "text/plain": [
       "None       745\n",
       "a           55\n",
       "Charlie     12\n",
       "Lucy        11\n",
       "Oliver      11\n",
       "          ... \n",
       "Fwed         1\n",
       "Jeffri       1\n",
       "Rueben       1\n",
       "Remus        1\n",
       "Clyde        1\n",
       "Name: name, Length: 957, dtype: int64"
      ]
     },
     "execution_count": 32,
     "metadata": {},
     "output_type": "execute_result"
    }
   ],
   "source": [
    "#check names value count\n",
    "df['name'].value_counts()"
   ]
  },
  {
   "cell_type": "markdown",
   "id": "5c3d8b45",
   "metadata": {},
   "source": [
    "We have a aplhabet as name in the name column and they are 55 in numbers"
   ]
  },
  {
   "cell_type": "code",
   "execution_count": 33,
   "id": "8674e167",
   "metadata": {},
   "outputs": [
    {
     "data": {
      "text/plain": [
       "tweet_id                      55\n",
       "in_reply_to_status_id          0\n",
       "in_reply_to_user_id            0\n",
       "timestamp                     55\n",
       "source                        55\n",
       "text                          55\n",
       "retweeted_status_id            0\n",
       "retweeted_status_user_id       0\n",
       "retweeted_status_timestamp     0\n",
       "expanded_urls                 55\n",
       "rating_numerator              55\n",
       "rating_denominator            55\n",
       "name                          55\n",
       "doggo                         55\n",
       "floofer                       55\n",
       "pupper                        55\n",
       "puppo                         55\n",
       "dtype: int64"
      ]
     },
     "execution_count": 33,
     "metadata": {},
     "output_type": "execute_result"
    }
   ],
   "source": [
    "#check name colunm with only alphabet 'a' as name\n",
    "df[df.name == 'a'].count()"
   ]
  },
  {
   "cell_type": "raw",
   "id": "e0ac3d6b",
   "metadata": {},
   "source": [
    "#we have 55 numbers of users named 'a'"
   ]
  },
  {
   "cell_type": "code",
   "execution_count": 34,
   "id": "6c12e955",
   "metadata": {},
   "outputs": [
    {
     "data": {
      "text/plain": [
       "109"
      ]
     },
     "execution_count": 34,
     "metadata": {},
     "output_type": "execute_result"
    }
   ],
   "source": [
    "#check if their are any names that started with small letter\n",
    "df['name'].str.islower().sum()"
   ]
  },
  {
   "cell_type": "raw",
   "id": "f8119e78",
   "metadata": {},
   "source": [
    "#we have 109 users that thier name start with small letter"
   ]
  },
  {
   "cell_type": "code",
   "execution_count": 35,
   "id": "94a10979",
   "metadata": {},
   "outputs": [
    {
     "data": {
      "text/plain": [
       "181"
      ]
     },
     "execution_count": 35,
     "metadata": {},
     "output_type": "execute_result"
    }
   ],
   "source": [
    "#check retweet tweets by users\n",
    "df.retweeted_status_user_id.count()"
   ]
  },
  {
   "cell_type": "code",
   "execution_count": 36,
   "id": "e2f1167b",
   "metadata": {},
   "outputs": [
    {
     "name": "stdout",
     "output_type": "stream",
     "text": [
      "<class 'pandas.core.frame.DataFrame'>\n",
      "RangeIndex: 2356 entries, 0 to 2355\n",
      "Data columns (total 17 columns):\n",
      " #   Column                      Non-Null Count  Dtype  \n",
      "---  ------                      --------------  -----  \n",
      " 0   tweet_id                    2356 non-null   int64  \n",
      " 1   in_reply_to_status_id       78 non-null     float64\n",
      " 2   in_reply_to_user_id         78 non-null     float64\n",
      " 3   timestamp                   2356 non-null   object \n",
      " 4   source                      2356 non-null   object \n",
      " 5   text                        2356 non-null   object \n",
      " 6   retweeted_status_id         181 non-null    float64\n",
      " 7   retweeted_status_user_id    181 non-null    float64\n",
      " 8   retweeted_status_timestamp  181 non-null    object \n",
      " 9   expanded_urls               2297 non-null   object \n",
      " 10  rating_numerator            2356 non-null   int64  \n",
      " 11  rating_denominator          2356 non-null   int64  \n",
      " 12  name                        2356 non-null   object \n",
      " 13  doggo                       2356 non-null   object \n",
      " 14  floofer                     2356 non-null   object \n",
      " 15  pupper                      2356 non-null   object \n",
      " 16  puppo                       2356 non-null   object \n",
      "dtypes: float64(4), int64(3), object(10)\n",
      "memory usage: 313.0+ KB\n"
     ]
    }
   ],
   "source": [
    "#check the columns name\n",
    "df.info()"
   ]
  },
  {
   "cell_type": "code",
   "execution_count": 37,
   "id": "53dcad52",
   "metadata": {},
   "outputs": [
    {
     "data": {
      "text/html": [
       "<div>\n",
       "<style scoped>\n",
       "    .dataframe tbody tr th:only-of-type {\n",
       "        vertical-align: middle;\n",
       "    }\n",
       "\n",
       "    .dataframe tbody tr th {\n",
       "        vertical-align: top;\n",
       "    }\n",
       "\n",
       "    .dataframe thead th {\n",
       "        text-align: right;\n",
       "    }\n",
       "</style>\n",
       "<table border=\"1\" class=\"dataframe\">\n",
       "  <thead>\n",
       "    <tr style=\"text-align: right;\">\n",
       "      <th></th>\n",
       "      <th>tweet_id</th>\n",
       "      <th>in_reply_to_status_id</th>\n",
       "      <th>in_reply_to_user_id</th>\n",
       "      <th>retweeted_status_id</th>\n",
       "      <th>retweeted_status_user_id</th>\n",
       "      <th>rating_numerator</th>\n",
       "      <th>rating_denominator</th>\n",
       "    </tr>\n",
       "  </thead>\n",
       "  <tbody>\n",
       "    <tr>\n",
       "      <th>count</th>\n",
       "      <td>2.356000e+03</td>\n",
       "      <td>7.800000e+01</td>\n",
       "      <td>7.800000e+01</td>\n",
       "      <td>1.810000e+02</td>\n",
       "      <td>1.810000e+02</td>\n",
       "      <td>2356.000000</td>\n",
       "      <td>2356.000000</td>\n",
       "    </tr>\n",
       "    <tr>\n",
       "      <th>mean</th>\n",
       "      <td>7.427716e+17</td>\n",
       "      <td>7.455079e+17</td>\n",
       "      <td>2.014171e+16</td>\n",
       "      <td>7.720400e+17</td>\n",
       "      <td>1.241698e+16</td>\n",
       "      <td>13.126486</td>\n",
       "      <td>10.455433</td>\n",
       "    </tr>\n",
       "    <tr>\n",
       "      <th>std</th>\n",
       "      <td>6.856705e+16</td>\n",
       "      <td>7.582492e+16</td>\n",
       "      <td>1.252797e+17</td>\n",
       "      <td>6.236928e+16</td>\n",
       "      <td>9.599254e+16</td>\n",
       "      <td>45.876648</td>\n",
       "      <td>6.745237</td>\n",
       "    </tr>\n",
       "    <tr>\n",
       "      <th>min</th>\n",
       "      <td>6.660209e+17</td>\n",
       "      <td>6.658147e+17</td>\n",
       "      <td>1.185634e+07</td>\n",
       "      <td>6.661041e+17</td>\n",
       "      <td>7.832140e+05</td>\n",
       "      <td>0.000000</td>\n",
       "      <td>0.000000</td>\n",
       "    </tr>\n",
       "    <tr>\n",
       "      <th>25%</th>\n",
       "      <td>6.783989e+17</td>\n",
       "      <td>6.757419e+17</td>\n",
       "      <td>3.086374e+08</td>\n",
       "      <td>7.186315e+17</td>\n",
       "      <td>4.196984e+09</td>\n",
       "      <td>10.000000</td>\n",
       "      <td>10.000000</td>\n",
       "    </tr>\n",
       "    <tr>\n",
       "      <th>50%</th>\n",
       "      <td>7.196279e+17</td>\n",
       "      <td>7.038708e+17</td>\n",
       "      <td>4.196984e+09</td>\n",
       "      <td>7.804657e+17</td>\n",
       "      <td>4.196984e+09</td>\n",
       "      <td>11.000000</td>\n",
       "      <td>10.000000</td>\n",
       "    </tr>\n",
       "    <tr>\n",
       "      <th>75%</th>\n",
       "      <td>7.993373e+17</td>\n",
       "      <td>8.257804e+17</td>\n",
       "      <td>4.196984e+09</td>\n",
       "      <td>8.203146e+17</td>\n",
       "      <td>4.196984e+09</td>\n",
       "      <td>12.000000</td>\n",
       "      <td>10.000000</td>\n",
       "    </tr>\n",
       "    <tr>\n",
       "      <th>max</th>\n",
       "      <td>8.924206e+17</td>\n",
       "      <td>8.862664e+17</td>\n",
       "      <td>8.405479e+17</td>\n",
       "      <td>8.874740e+17</td>\n",
       "      <td>7.874618e+17</td>\n",
       "      <td>1776.000000</td>\n",
       "      <td>170.000000</td>\n",
       "    </tr>\n",
       "  </tbody>\n",
       "</table>\n",
       "</div>"
      ],
      "text/plain": [
       "           tweet_id  in_reply_to_status_id  in_reply_to_user_id  \\\n",
       "count  2.356000e+03           7.800000e+01         7.800000e+01   \n",
       "mean   7.427716e+17           7.455079e+17         2.014171e+16   \n",
       "std    6.856705e+16           7.582492e+16         1.252797e+17   \n",
       "min    6.660209e+17           6.658147e+17         1.185634e+07   \n",
       "25%    6.783989e+17           6.757419e+17         3.086374e+08   \n",
       "50%    7.196279e+17           7.038708e+17         4.196984e+09   \n",
       "75%    7.993373e+17           8.257804e+17         4.196984e+09   \n",
       "max    8.924206e+17           8.862664e+17         8.405479e+17   \n",
       "\n",
       "       retweeted_status_id  retweeted_status_user_id  rating_numerator  \\\n",
       "count         1.810000e+02              1.810000e+02       2356.000000   \n",
       "mean          7.720400e+17              1.241698e+16         13.126486   \n",
       "std           6.236928e+16              9.599254e+16         45.876648   \n",
       "min           6.661041e+17              7.832140e+05          0.000000   \n",
       "25%           7.186315e+17              4.196984e+09         10.000000   \n",
       "50%           7.804657e+17              4.196984e+09         11.000000   \n",
       "75%           8.203146e+17              4.196984e+09         12.000000   \n",
       "max           8.874740e+17              7.874618e+17       1776.000000   \n",
       "\n",
       "       rating_denominator  \n",
       "count         2356.000000  \n",
       "mean            10.455433  \n",
       "std              6.745237  \n",
       "min              0.000000  \n",
       "25%             10.000000  \n",
       "50%             10.000000  \n",
       "75%             10.000000  \n",
       "max            170.000000  "
      ]
     },
     "execution_count": 37,
     "metadata": {},
     "output_type": "execute_result"
    }
   ],
   "source": [
    "#check the distribution of the dataset\n",
    "df.describe()"
   ]
  },
  {
   "cell_type": "markdown",
   "id": "67727920",
   "metadata": {},
   "source": [
    "### Assessing df1 (Twitter_image_predictions)"
   ]
  },
  {
   "cell_type": "code",
   "execution_count": 38,
   "id": "6042bdd2",
   "metadata": {},
   "outputs": [
    {
     "name": "stdout",
     "output_type": "stream",
     "text": [
      "<class 'pandas.core.frame.DataFrame'>\n",
      "RangeIndex: 2075 entries, 0 to 2074\n",
      "Data columns (total 12 columns):\n",
      " #   Column    Non-Null Count  Dtype  \n",
      "---  ------    --------------  -----  \n",
      " 0   tweet_id  2075 non-null   int64  \n",
      " 1   jpg_url   2075 non-null   object \n",
      " 2   img_num   2075 non-null   int64  \n",
      " 3   p1        2075 non-null   object \n",
      " 4   p1_conf   2075 non-null   float64\n",
      " 5   p1_dog    2075 non-null   bool   \n",
      " 6   p2        2075 non-null   object \n",
      " 7   p2_conf   2075 non-null   float64\n",
      " 8   p2_dog    2075 non-null   bool   \n",
      " 9   p3        2075 non-null   object \n",
      " 10  p3_conf   2075 non-null   float64\n",
      " 11  p3_dog    2075 non-null   bool   \n",
      "dtypes: bool(3), float64(3), int64(2), object(4)\n",
      "memory usage: 152.1+ KB\n"
     ]
    }
   ],
   "source": [
    "#check the information about the dataset such as data type, columns name and number\n",
    "df1.info()"
   ]
  },
  {
   "cell_type": "raw",
   "id": "2b5a363c",
   "metadata": {},
   "source": [
    "#All the data types were correct but their would be need to rename some columns"
   ]
  },
  {
   "cell_type": "code",
   "execution_count": 39,
   "id": "7851c09c",
   "metadata": {},
   "outputs": [
    {
     "data": {
      "text/plain": [
       "0"
      ]
     },
     "execution_count": 39,
     "metadata": {},
     "output_type": "execute_result"
    }
   ],
   "source": [
    "#checking for duplicate in tweet_id column\n",
    "df1.tweet_id.duplicated().sum()"
   ]
  },
  {
   "cell_type": "raw",
   "id": "2ec6ffed",
   "metadata": {},
   "source": [
    "Non duplicate"
   ]
  },
  {
   "cell_type": "code",
   "execution_count": 40,
   "id": "2a061bc0",
   "metadata": {},
   "outputs": [
    {
     "data": {
      "text/plain": [
       "66"
      ]
     },
     "execution_count": 40,
     "metadata": {},
     "output_type": "execute_result"
    }
   ],
   "source": [
    "#check for duplicate in jpg_url\n",
    "df1.jpg_url.duplicated().sum()"
   ]
  },
  {
   "cell_type": "raw",
   "id": "67c38dea",
   "metadata": {},
   "source": [
    "#we have 66 duplicated roles in jpg_url"
   ]
  },
  {
   "cell_type": "code",
   "execution_count": 41,
   "id": "953ed8bc",
   "metadata": {},
   "outputs": [
    {
     "data": {
      "text/plain": [
       "True     1532\n",
       "False     543\n",
       "Name: p1_dog, dtype: int64"
      ]
     },
     "execution_count": 41,
     "metadata": {},
     "output_type": "execute_result"
    }
   ],
   "source": [
    "#check if first predictions are dogs and their total numbers\n",
    "df1['p1_dog'].value_counts()"
   ]
  },
  {
   "cell_type": "raw",
   "id": "3b2f10d6",
   "metadata": {},
   "source": [
    "#1532 predicted to be dog in first prediction while 543 predictions are not dogs"
   ]
  },
  {
   "cell_type": "code",
   "execution_count": 42,
   "id": "b9e44c1c",
   "metadata": {},
   "outputs": [
    {
     "data": {
      "text/plain": [
       "True     1553\n",
       "False     522\n",
       "Name: p2_dog, dtype: int64"
      ]
     },
     "execution_count": 42,
     "metadata": {},
     "output_type": "execute_result"
    }
   ],
   "source": [
    "#check if first predictions are dogs and the values\n",
    "df1['p2_dog'].value_counts()"
   ]
  },
  {
   "cell_type": "raw",
   "id": "dc644576",
   "metadata": {},
   "source": [
    "#1553 predicted to be dog in first prediction while 522 predictions are not dogs"
   ]
  },
  {
   "cell_type": "code",
   "execution_count": 43,
   "id": "31fae832",
   "metadata": {},
   "outputs": [
    {
     "data": {
      "text/plain": [
       "True     1499\n",
       "False     576\n",
       "Name: p3_dog, dtype: int64"
      ]
     },
     "execution_count": 43,
     "metadata": {},
     "output_type": "execute_result"
    }
   ],
   "source": [
    "#check if first predictions are dogs and the values\n",
    "df1['p3_dog'].value_counts()"
   ]
  },
  {
   "cell_type": "raw",
   "id": "a52bed3e",
   "metadata": {},
   "source": [
    "#1499 predicted to be dog in first prediction while 576 predictions are not dogs"
   ]
  },
  {
   "cell_type": "code",
   "execution_count": 44,
   "id": "45d4a62c",
   "metadata": {},
   "outputs": [
    {
     "data": {
      "text/plain": [
       "tweet_id    0\n",
       "jpg_url     0\n",
       "img_num     0\n",
       "p1          0\n",
       "p1_conf     0\n",
       "p1_dog      0\n",
       "p2          0\n",
       "p2_conf     0\n",
       "p2_dog      0\n",
       "p3          0\n",
       "p3_conf     0\n",
       "p3_dog      0\n",
       "dtype: int64"
      ]
     },
     "execution_count": 44,
     "metadata": {},
     "output_type": "execute_result"
    }
   ],
   "source": [
    "#check for any lost in the dataset\n",
    "df1.isnull().sum()"
   ]
  },
  {
   "cell_type": "markdown",
   "id": "c1d178e9",
   "metadata": {},
   "source": [
    "### Assessing df2 (tweet-json.text)"
   ]
  },
  {
   "cell_type": "code",
   "execution_count": 45,
   "id": "366e667e",
   "metadata": {},
   "outputs": [],
   "source": [
    "df2 = pd.read_json('tweet-json copy.txt' , lines = True, encoding='utf-8-sig')"
   ]
  },
  {
   "cell_type": "code",
   "execution_count": 46,
   "id": "8ca88773",
   "metadata": {},
   "outputs": [
    {
     "name": "stdout",
     "output_type": "stream",
     "text": [
      "<class 'pandas.core.frame.DataFrame'>\n",
      "RangeIndex: 2354 entries, 0 to 2353\n",
      "Data columns (total 31 columns):\n",
      " #   Column                         Non-Null Count  Dtype              \n",
      "---  ------                         --------------  -----              \n",
      " 0   created_at                     2354 non-null   datetime64[ns, UTC]\n",
      " 1   id                             2354 non-null   int64              \n",
      " 2   id_str                         2354 non-null   int64              \n",
      " 3   full_text                      2354 non-null   object             \n",
      " 4   truncated                      2354 non-null   bool               \n",
      " 5   display_text_range             2354 non-null   object             \n",
      " 6   entities                       2354 non-null   object             \n",
      " 7   extended_entities              2073 non-null   object             \n",
      " 8   source                         2354 non-null   object             \n",
      " 9   in_reply_to_status_id          78 non-null     float64            \n",
      " 10  in_reply_to_status_id_str      78 non-null     float64            \n",
      " 11  in_reply_to_user_id            78 non-null     float64            \n",
      " 12  in_reply_to_user_id_str        78 non-null     float64            \n",
      " 13  in_reply_to_screen_name        78 non-null     object             \n",
      " 14  user                           2354 non-null   object             \n",
      " 15  geo                            0 non-null      float64            \n",
      " 16  coordinates                    0 non-null      float64            \n",
      " 17  place                          1 non-null      object             \n",
      " 18  contributors                   0 non-null      float64            \n",
      " 19  is_quote_status                2354 non-null   bool               \n",
      " 20  retweet_count                  2354 non-null   int64              \n",
      " 21  favorite_count                 2354 non-null   int64              \n",
      " 22  favorited                      2354 non-null   bool               \n",
      " 23  retweeted                      2354 non-null   bool               \n",
      " 24  possibly_sensitive             2211 non-null   float64            \n",
      " 25  possibly_sensitive_appealable  2211 non-null   float64            \n",
      " 26  lang                           2354 non-null   object             \n",
      " 27  retweeted_status               179 non-null    object             \n",
      " 28  quoted_status_id               29 non-null     float64            \n",
      " 29  quoted_status_id_str           29 non-null     float64            \n",
      " 30  quoted_status                  28 non-null     object             \n",
      "dtypes: bool(4), datetime64[ns, UTC](1), float64(11), int64(4), object(11)\n",
      "memory usage: 505.9+ KB\n"
     ]
    }
   ],
   "source": [
    "df2.info()"
   ]
  },
  {
   "cell_type": "markdown",
   "id": "84876bf6",
   "metadata": {},
   "source": [
    "it was observed that many columns are not useful in the data set"
   ]
  },
  {
   "cell_type": "code",
   "execution_count": 47,
   "id": "cb7d9214",
   "metadata": {},
   "outputs": [
    {
     "data": {
      "text/plain": [
       "(2356, 17)"
      ]
     },
     "execution_count": 47,
     "metadata": {},
     "output_type": "execute_result"
    }
   ],
   "source": [
    "#check the dataset dimenssion\n",
    "df.shape"
   ]
  },
  {
   "cell_type": "code",
   "execution_count": 48,
   "id": "fd39a995",
   "metadata": {},
   "outputs": [
    {
     "data": {
      "text/plain": [
       "en     2336\n",
       "und       7\n",
       "in        3\n",
       "nl        3\n",
       "et        1\n",
       "ro        1\n",
       "tl        1\n",
       "es        1\n",
       "eu        1\n",
       "Name: lang, dtype: int64"
      ]
     },
     "execution_count": 48,
     "metadata": {},
     "output_type": "execute_result"
    }
   ],
   "source": [
    "#check the languages in which users tweet\n",
    "df2[df2.lang != 'es']\n",
    "df2.lang.value_counts()"
   ]
  },
  {
   "cell_type": "raw",
   "id": "84f52325",
   "metadata": {},
   "source": [
    "we have english (EN) users dominated the ratings"
   ]
  },
  {
   "cell_type": "code",
   "execution_count": 49,
   "id": "18fae25d",
   "metadata": {},
   "outputs": [
    {
     "data": {
      "text/plain": [
       "0"
      ]
     },
     "execution_count": 49,
     "metadata": {},
     "output_type": "execute_result"
    }
   ],
   "source": [
    "#check duplicated id\n",
    "df2.id.duplicated().sum()"
   ]
  },
  {
   "cell_type": "code",
   "execution_count": 50,
   "id": "b56cb3ea",
   "metadata": {},
   "outputs": [
    {
     "data": {
      "text/plain": [
       "179"
      ]
     },
     "execution_count": 50,
     "metadata": {},
     "output_type": "execute_result"
    }
   ],
   "source": [
    "#check the count of retweeted tweets\n",
    "df2['retweeted_status'].count()"
   ]
  },
  {
   "cell_type": "code",
   "execution_count": 51,
   "id": "14c0cea0",
   "metadata": {},
   "outputs": [
    {
     "data": {
      "text/html": [
       "<div>\n",
       "<style scoped>\n",
       "    .dataframe tbody tr th:only-of-type {\n",
       "        vertical-align: middle;\n",
       "    }\n",
       "\n",
       "    .dataframe tbody tr th {\n",
       "        vertical-align: top;\n",
       "    }\n",
       "\n",
       "    .dataframe thead th {\n",
       "        text-align: right;\n",
       "    }\n",
       "</style>\n",
       "<table border=\"1\" class=\"dataframe\">\n",
       "  <thead>\n",
       "    <tr style=\"text-align: right;\">\n",
       "      <th></th>\n",
       "      <th>created_at</th>\n",
       "      <th>id</th>\n",
       "      <th>id_str</th>\n",
       "      <th>full_text</th>\n",
       "      <th>truncated</th>\n",
       "      <th>display_text_range</th>\n",
       "      <th>entities</th>\n",
       "      <th>extended_entities</th>\n",
       "      <th>source</th>\n",
       "      <th>in_reply_to_status_id</th>\n",
       "      <th>...</th>\n",
       "      <th>favorite_count</th>\n",
       "      <th>favorited</th>\n",
       "      <th>retweeted</th>\n",
       "      <th>possibly_sensitive</th>\n",
       "      <th>possibly_sensitive_appealable</th>\n",
       "      <th>lang</th>\n",
       "      <th>retweeted_status</th>\n",
       "      <th>quoted_status_id</th>\n",
       "      <th>quoted_status_id_str</th>\n",
       "      <th>quoted_status</th>\n",
       "    </tr>\n",
       "  </thead>\n",
       "  <tbody>\n",
       "    <tr>\n",
       "      <th>0</th>\n",
       "      <td>2017-08-01 16:23:56+00:00</td>\n",
       "      <td>892420643555336193</td>\n",
       "      <td>892420643555336192</td>\n",
       "      <td>This is Phineas. He's a mystical boy. Only eve...</td>\n",
       "      <td>False</td>\n",
       "      <td>[0, 85]</td>\n",
       "      <td>{'hashtags': [], 'symbols': [], 'user_mentions...</td>\n",
       "      <td>{'media': [{'id': 892420639486877696, 'id_str'...</td>\n",
       "      <td>&lt;a href=\"http://twitter.com/download/iphone\" r...</td>\n",
       "      <td>NaN</td>\n",
       "      <td>...</td>\n",
       "      <td>39467</td>\n",
       "      <td>False</td>\n",
       "      <td>False</td>\n",
       "      <td>0.0</td>\n",
       "      <td>0.0</td>\n",
       "      <td>en</td>\n",
       "      <td>NaN</td>\n",
       "      <td>NaN</td>\n",
       "      <td>NaN</td>\n",
       "      <td>NaN</td>\n",
       "    </tr>\n",
       "    <tr>\n",
       "      <th>1</th>\n",
       "      <td>2017-08-01 00:17:27+00:00</td>\n",
       "      <td>892177421306343426</td>\n",
       "      <td>892177421306343424</td>\n",
       "      <td>This is Tilly. She's just checking pup on you....</td>\n",
       "      <td>False</td>\n",
       "      <td>[0, 138]</td>\n",
       "      <td>{'hashtags': [], 'symbols': [], 'user_mentions...</td>\n",
       "      <td>{'media': [{'id': 892177413194625024, 'id_str'...</td>\n",
       "      <td>&lt;a href=\"http://twitter.com/download/iphone\" r...</td>\n",
       "      <td>NaN</td>\n",
       "      <td>...</td>\n",
       "      <td>33819</td>\n",
       "      <td>False</td>\n",
       "      <td>False</td>\n",
       "      <td>0.0</td>\n",
       "      <td>0.0</td>\n",
       "      <td>en</td>\n",
       "      <td>NaN</td>\n",
       "      <td>NaN</td>\n",
       "      <td>NaN</td>\n",
       "      <td>NaN</td>\n",
       "    </tr>\n",
       "    <tr>\n",
       "      <th>2</th>\n",
       "      <td>2017-07-31 00:18:03+00:00</td>\n",
       "      <td>891815181378084864</td>\n",
       "      <td>891815181378084864</td>\n",
       "      <td>This is Archie. He is a rare Norwegian Pouncin...</td>\n",
       "      <td>False</td>\n",
       "      <td>[0, 121]</td>\n",
       "      <td>{'hashtags': [], 'symbols': [], 'user_mentions...</td>\n",
       "      <td>{'media': [{'id': 891815175371796480, 'id_str'...</td>\n",
       "      <td>&lt;a href=\"http://twitter.com/download/iphone\" r...</td>\n",
       "      <td>NaN</td>\n",
       "      <td>...</td>\n",
       "      <td>25461</td>\n",
       "      <td>False</td>\n",
       "      <td>False</td>\n",
       "      <td>0.0</td>\n",
       "      <td>0.0</td>\n",
       "      <td>en</td>\n",
       "      <td>NaN</td>\n",
       "      <td>NaN</td>\n",
       "      <td>NaN</td>\n",
       "      <td>NaN</td>\n",
       "    </tr>\n",
       "    <tr>\n",
       "      <th>3</th>\n",
       "      <td>2017-07-30 15:58:51+00:00</td>\n",
       "      <td>891689557279858688</td>\n",
       "      <td>891689557279858688</td>\n",
       "      <td>This is Darla. She commenced a snooze mid meal...</td>\n",
       "      <td>False</td>\n",
       "      <td>[0, 79]</td>\n",
       "      <td>{'hashtags': [], 'symbols': [], 'user_mentions...</td>\n",
       "      <td>{'media': [{'id': 891689552724799489, 'id_str'...</td>\n",
       "      <td>&lt;a href=\"http://twitter.com/download/iphone\" r...</td>\n",
       "      <td>NaN</td>\n",
       "      <td>...</td>\n",
       "      <td>42908</td>\n",
       "      <td>False</td>\n",
       "      <td>False</td>\n",
       "      <td>0.0</td>\n",
       "      <td>0.0</td>\n",
       "      <td>en</td>\n",
       "      <td>NaN</td>\n",
       "      <td>NaN</td>\n",
       "      <td>NaN</td>\n",
       "      <td>NaN</td>\n",
       "    </tr>\n",
       "    <tr>\n",
       "      <th>4</th>\n",
       "      <td>2017-07-29 16:00:24+00:00</td>\n",
       "      <td>891327558926688256</td>\n",
       "      <td>891327558926688256</td>\n",
       "      <td>This is Franklin. He would like you to stop ca...</td>\n",
       "      <td>False</td>\n",
       "      <td>[0, 138]</td>\n",
       "      <td>{'hashtags': [{'text': 'BarkWeek', 'indices': ...</td>\n",
       "      <td>{'media': [{'id': 891327551943041024, 'id_str'...</td>\n",
       "      <td>&lt;a href=\"http://twitter.com/download/iphone\" r...</td>\n",
       "      <td>NaN</td>\n",
       "      <td>...</td>\n",
       "      <td>41048</td>\n",
       "      <td>False</td>\n",
       "      <td>False</td>\n",
       "      <td>0.0</td>\n",
       "      <td>0.0</td>\n",
       "      <td>en</td>\n",
       "      <td>NaN</td>\n",
       "      <td>NaN</td>\n",
       "      <td>NaN</td>\n",
       "      <td>NaN</td>\n",
       "    </tr>\n",
       "  </tbody>\n",
       "</table>\n",
       "<p>5 rows × 31 columns</p>\n",
       "</div>"
      ],
      "text/plain": [
       "                 created_at                  id              id_str  \\\n",
       "0 2017-08-01 16:23:56+00:00  892420643555336193  892420643555336192   \n",
       "1 2017-08-01 00:17:27+00:00  892177421306343426  892177421306343424   \n",
       "2 2017-07-31 00:18:03+00:00  891815181378084864  891815181378084864   \n",
       "3 2017-07-30 15:58:51+00:00  891689557279858688  891689557279858688   \n",
       "4 2017-07-29 16:00:24+00:00  891327558926688256  891327558926688256   \n",
       "\n",
       "                                           full_text  truncated  \\\n",
       "0  This is Phineas. He's a mystical boy. Only eve...      False   \n",
       "1  This is Tilly. She's just checking pup on you....      False   \n",
       "2  This is Archie. He is a rare Norwegian Pouncin...      False   \n",
       "3  This is Darla. She commenced a snooze mid meal...      False   \n",
       "4  This is Franklin. He would like you to stop ca...      False   \n",
       "\n",
       "  display_text_range                                           entities  \\\n",
       "0            [0, 85]  {'hashtags': [], 'symbols': [], 'user_mentions...   \n",
       "1           [0, 138]  {'hashtags': [], 'symbols': [], 'user_mentions...   \n",
       "2           [0, 121]  {'hashtags': [], 'symbols': [], 'user_mentions...   \n",
       "3            [0, 79]  {'hashtags': [], 'symbols': [], 'user_mentions...   \n",
       "4           [0, 138]  {'hashtags': [{'text': 'BarkWeek', 'indices': ...   \n",
       "\n",
       "                                   extended_entities  \\\n",
       "0  {'media': [{'id': 892420639486877696, 'id_str'...   \n",
       "1  {'media': [{'id': 892177413194625024, 'id_str'...   \n",
       "2  {'media': [{'id': 891815175371796480, 'id_str'...   \n",
       "3  {'media': [{'id': 891689552724799489, 'id_str'...   \n",
       "4  {'media': [{'id': 891327551943041024, 'id_str'...   \n",
       "\n",
       "                                              source  in_reply_to_status_id  \\\n",
       "0  <a href=\"http://twitter.com/download/iphone\" r...                    NaN   \n",
       "1  <a href=\"http://twitter.com/download/iphone\" r...                    NaN   \n",
       "2  <a href=\"http://twitter.com/download/iphone\" r...                    NaN   \n",
       "3  <a href=\"http://twitter.com/download/iphone\" r...                    NaN   \n",
       "4  <a href=\"http://twitter.com/download/iphone\" r...                    NaN   \n",
       "\n",
       "   ...  favorite_count  favorited  retweeted possibly_sensitive  \\\n",
       "0  ...           39467      False      False                0.0   \n",
       "1  ...           33819      False      False                0.0   \n",
       "2  ...           25461      False      False                0.0   \n",
       "3  ...           42908      False      False                0.0   \n",
       "4  ...           41048      False      False                0.0   \n",
       "\n",
       "  possibly_sensitive_appealable  lang  retweeted_status quoted_status_id  \\\n",
       "0                           0.0    en               NaN              NaN   \n",
       "1                           0.0    en               NaN              NaN   \n",
       "2                           0.0    en               NaN              NaN   \n",
       "3                           0.0    en               NaN              NaN   \n",
       "4                           0.0    en               NaN              NaN   \n",
       "\n",
       "   quoted_status_id_str  quoted_status  \n",
       "0                   NaN            NaN  \n",
       "1                   NaN            NaN  \n",
       "2                   NaN            NaN  \n",
       "3                   NaN            NaN  \n",
       "4                   NaN            NaN  \n",
       "\n",
       "[5 rows x 31 columns]"
      ]
     },
     "execution_count": 51,
     "metadata": {},
     "output_type": "execute_result"
    }
   ],
   "source": [
    "#sample check the dataset\n",
    "df2.head(5)"
   ]
  },
  {
   "cell_type": "markdown",
   "id": "fa616d22",
   "metadata": {},
   "source": [
    "# 3 - Data Tidiness and Qualities "
   ]
  },
  {
   "cell_type": "markdown",
   "id": "a98bcb98",
   "metadata": {},
   "source": [
    "### Data Tidiness and Qualities for twiter_archive_enhance dataframe(df, df_clean1)\n",
    "\n",
    "### Tideness\n",
    "1 - Wrong data type in timestamp, after converted back to datetime format, i deleted it\n",
    "2 - Renaming of the name columns\n",
    "4 - Create Dog phase column\n",
    "\n",
    "## Qualities\n",
    "\n",
    " - Accuracy: incorrect column names, replacing None to NaN values, \n",
    " - Validity: converting columns back to thier appriopriate data type\n",
    " - Consistency: image with ids likewise original tweet were needed\n",
    " \n",
    "###### 1 - Empty cells with Nan value in doggo, floofer, puppo and pupper, take them to dog_phase column and delete their columns\n",
    "######  2 - change all the names that thier first letter starts with small letter to capital letter\n",
    "###### 3 - Setting denominator standard to 10\n",
    "###### 4 - Modified abnormal numerator ratings\n",
    "###### 5 - Rename the text column with tweet\n",
    "###### 6 - Replace cells with 'a' values with NaN\n",
    "\n",
    "#### Data Qualities for twitter_json data frame(df2, df_clean3)\n",
    "\n",
    "###### 1- Rename the id column to tweet_id\n",
    "###### 2- Delete all the unuseful column\n",
    "\n",
    "#### Data qualities image_prediction dataframe(df1, df_clean2)\n",
    "\n",
    "###### 1 - p1, p2, p3 was properlly renamed for better understanding\n",
    "###### 2 - p1_dog, p2_dog, p3_dog were renamed for easy understanding\n",
    "###### 3 - dropping of duplicated values in img_url column\n",
    "###### 4 - delete the img_num"
   ]
  },
  {
   "cell_type": "markdown",
   "id": "08c5853a",
   "metadata": {},
   "source": [
    "# 4 - CLEANING OF DATA"
   ]
  },
  {
   "cell_type": "markdown",
   "id": "ed4d596d",
   "metadata": {},
   "source": [
    "### since we have finished assessing df dataframe, the lets save it and keep the original copy should in case of any mistake, we can just pick the original copy back. lets wrangle the data"
   ]
  },
  {
   "cell_type": "code",
   "execution_count": 54,
   "id": "6e24c795",
   "metadata": {},
   "outputs": [],
   "source": [
    "#Copy of the main dataset df and it is named df_clean1 which is best for cleaning data\n",
    "df_clean1 = df.copy()"
   ]
  },
  {
   "cell_type": "code",
   "execution_count": 55,
   "id": "7cc76c9c",
   "metadata": {},
   "outputs": [
    {
     "data": {
      "text/html": [
       "<div>\n",
       "<style scoped>\n",
       "    .dataframe tbody tr th:only-of-type {\n",
       "        vertical-align: middle;\n",
       "    }\n",
       "\n",
       "    .dataframe tbody tr th {\n",
       "        vertical-align: top;\n",
       "    }\n",
       "\n",
       "    .dataframe thead th {\n",
       "        text-align: right;\n",
       "    }\n",
       "</style>\n",
       "<table border=\"1\" class=\"dataframe\">\n",
       "  <thead>\n",
       "    <tr style=\"text-align: right;\">\n",
       "      <th></th>\n",
       "      <th>tweet_id</th>\n",
       "      <th>in_reply_to_status_id</th>\n",
       "      <th>in_reply_to_user_id</th>\n",
       "      <th>timestamp</th>\n",
       "      <th>source</th>\n",
       "      <th>text</th>\n",
       "      <th>retweeted_status_id</th>\n",
       "      <th>retweeted_status_user_id</th>\n",
       "      <th>retweeted_status_timestamp</th>\n",
       "      <th>expanded_urls</th>\n",
       "      <th>rating_numerator</th>\n",
       "      <th>rating_denominator</th>\n",
       "      <th>name</th>\n",
       "      <th>doggo</th>\n",
       "      <th>floofer</th>\n",
       "      <th>pupper</th>\n",
       "      <th>puppo</th>\n",
       "    </tr>\n",
       "  </thead>\n",
       "  <tbody>\n",
       "    <tr>\n",
       "      <th>0</th>\n",
       "      <td>892420643555336193</td>\n",
       "      <td>NaN</td>\n",
       "      <td>NaN</td>\n",
       "      <td>2017-08-01 16:23:56 +0000</td>\n",
       "      <td>&lt;a href=\"http://twitter.com/download/iphone\" r...</td>\n",
       "      <td>This is Phineas. He's a mystical boy. Only eve...</td>\n",
       "      <td>NaN</td>\n",
       "      <td>NaN</td>\n",
       "      <td>NaN</td>\n",
       "      <td>https://twitter.com/dog_rates/status/892420643...</td>\n",
       "      <td>13</td>\n",
       "      <td>10</td>\n",
       "      <td>Phineas</td>\n",
       "      <td>None</td>\n",
       "      <td>None</td>\n",
       "      <td>None</td>\n",
       "      <td>None</td>\n",
       "    </tr>\n",
       "    <tr>\n",
       "      <th>1</th>\n",
       "      <td>892177421306343426</td>\n",
       "      <td>NaN</td>\n",
       "      <td>NaN</td>\n",
       "      <td>2017-08-01 00:17:27 +0000</td>\n",
       "      <td>&lt;a href=\"http://twitter.com/download/iphone\" r...</td>\n",
       "      <td>This is Tilly. She's just checking pup on you....</td>\n",
       "      <td>NaN</td>\n",
       "      <td>NaN</td>\n",
       "      <td>NaN</td>\n",
       "      <td>https://twitter.com/dog_rates/status/892177421...</td>\n",
       "      <td>13</td>\n",
       "      <td>10</td>\n",
       "      <td>Tilly</td>\n",
       "      <td>None</td>\n",
       "      <td>None</td>\n",
       "      <td>None</td>\n",
       "      <td>None</td>\n",
       "    </tr>\n",
       "  </tbody>\n",
       "</table>\n",
       "</div>"
      ],
      "text/plain": [
       "             tweet_id  in_reply_to_status_id  in_reply_to_user_id  \\\n",
       "0  892420643555336193                    NaN                  NaN   \n",
       "1  892177421306343426                    NaN                  NaN   \n",
       "\n",
       "                   timestamp  \\\n",
       "0  2017-08-01 16:23:56 +0000   \n",
       "1  2017-08-01 00:17:27 +0000   \n",
       "\n",
       "                                              source  \\\n",
       "0  <a href=\"http://twitter.com/download/iphone\" r...   \n",
       "1  <a href=\"http://twitter.com/download/iphone\" r...   \n",
       "\n",
       "                                                text  retweeted_status_id  \\\n",
       "0  This is Phineas. He's a mystical boy. Only eve...                  NaN   \n",
       "1  This is Tilly. She's just checking pup on you....                  NaN   \n",
       "\n",
       "   retweeted_status_user_id retweeted_status_timestamp  \\\n",
       "0                       NaN                        NaN   \n",
       "1                       NaN                        NaN   \n",
       "\n",
       "                                       expanded_urls  rating_numerator  \\\n",
       "0  https://twitter.com/dog_rates/status/892420643...                13   \n",
       "1  https://twitter.com/dog_rates/status/892177421...                13   \n",
       "\n",
       "   rating_denominator     name doggo floofer pupper puppo  \n",
       "0                  10  Phineas  None    None   None  None  \n",
       "1                  10    Tilly  None    None   None  None  "
      ]
     },
     "execution_count": 55,
     "metadata": {},
     "output_type": "execute_result"
    }
   ],
   "source": [
    "#view it\n",
    "df_clean1.head(2)"
   ]
  },
  {
   "cell_type": "markdown",
   "id": "66da6cd2",
   "metadata": {},
   "source": [
    "# Define"
   ]
  },
  {
   "cell_type": "raw",
   "id": "8c6c0e3c",
   "metadata": {},
   "source": [
    "use loop to to filter dog phases"
   ]
  },
  {
   "cell_type": "markdown",
   "id": "b77c83e6",
   "metadata": {},
   "source": [
    "# Code"
   ]
  },
  {
   "cell_type": "code",
   "execution_count": 56,
   "id": "8bc4f0b2",
   "metadata": {},
   "outputs": [],
   "source": [
    "#use loop to to filter dog phases\n",
    "phases = ['doggo','pupper', 'floofer', 'puppo']\n",
    "for m in phases:\n",
    "    df_clean1[m] = df_clean1[m].replace('None', '')"
   ]
  },
  {
   "cell_type": "markdown",
   "id": "f14a1a63",
   "metadata": {},
   "source": [
    "# Test"
   ]
  },
  {
   "cell_type": "code",
   "execution_count": 57,
   "id": "98bc7968",
   "metadata": {},
   "outputs": [
    {
     "data": {
      "text/html": [
       "<div>\n",
       "<style scoped>\n",
       "    .dataframe tbody tr th:only-of-type {\n",
       "        vertical-align: middle;\n",
       "    }\n",
       "\n",
       "    .dataframe tbody tr th {\n",
       "        vertical-align: top;\n",
       "    }\n",
       "\n",
       "    .dataframe thead th {\n",
       "        text-align: right;\n",
       "    }\n",
       "</style>\n",
       "<table border=\"1\" class=\"dataframe\">\n",
       "  <thead>\n",
       "    <tr style=\"text-align: right;\">\n",
       "      <th></th>\n",
       "      <th>tweet_id</th>\n",
       "      <th>in_reply_to_status_id</th>\n",
       "      <th>in_reply_to_user_id</th>\n",
       "      <th>timestamp</th>\n",
       "      <th>source</th>\n",
       "      <th>text</th>\n",
       "      <th>retweeted_status_id</th>\n",
       "      <th>retweeted_status_user_id</th>\n",
       "      <th>retweeted_status_timestamp</th>\n",
       "      <th>expanded_urls</th>\n",
       "      <th>rating_numerator</th>\n",
       "      <th>rating_denominator</th>\n",
       "      <th>name</th>\n",
       "      <th>doggo</th>\n",
       "      <th>floofer</th>\n",
       "      <th>pupper</th>\n",
       "      <th>puppo</th>\n",
       "    </tr>\n",
       "  </thead>\n",
       "  <tbody>\n",
       "    <tr>\n",
       "      <th>1696</th>\n",
       "      <td>681242418453299201</td>\n",
       "      <td>NaN</td>\n",
       "      <td>NaN</td>\n",
       "      <td>2015-12-27 22:37:04 +0000</td>\n",
       "      <td>&lt;a href=\"http://twitter.com/download/iphone\" r...</td>\n",
       "      <td>This is Champ. He's being sacrificed to the Az...</td>\n",
       "      <td>NaN</td>\n",
       "      <td>NaN</td>\n",
       "      <td>NaN</td>\n",
       "      <td>https://twitter.com/dog_rates/status/681242418...</td>\n",
       "      <td>10</td>\n",
       "      <td>10</td>\n",
       "      <td>Champ</td>\n",
       "      <td></td>\n",
       "      <td></td>\n",
       "      <td></td>\n",
       "      <td></td>\n",
       "    </tr>\n",
       "    <tr>\n",
       "      <th>513</th>\n",
       "      <td>811647686436880384</td>\n",
       "      <td>8.116272e+17</td>\n",
       "      <td>4.196984e+09</td>\n",
       "      <td>2016-12-21 19:01:02 +0000</td>\n",
       "      <td>&lt;a href=\"http://twitter.com/download/iphone\" r...</td>\n",
       "      <td>PUPDATE: I've been informed that Augie was act...</td>\n",
       "      <td>NaN</td>\n",
       "      <td>NaN</td>\n",
       "      <td>NaN</td>\n",
       "      <td>NaN</td>\n",
       "      <td>11</td>\n",
       "      <td>10</td>\n",
       "      <td>None</td>\n",
       "      <td></td>\n",
       "      <td></td>\n",
       "      <td></td>\n",
       "      <td></td>\n",
       "    </tr>\n",
       "  </tbody>\n",
       "</table>\n",
       "</div>"
      ],
      "text/plain": [
       "                tweet_id  in_reply_to_status_id  in_reply_to_user_id  \\\n",
       "1696  681242418453299201                    NaN                  NaN   \n",
       "513   811647686436880384           8.116272e+17         4.196984e+09   \n",
       "\n",
       "                      timestamp  \\\n",
       "1696  2015-12-27 22:37:04 +0000   \n",
       "513   2016-12-21 19:01:02 +0000   \n",
       "\n",
       "                                                 source  \\\n",
       "1696  <a href=\"http://twitter.com/download/iphone\" r...   \n",
       "513   <a href=\"http://twitter.com/download/iphone\" r...   \n",
       "\n",
       "                                                   text  retweeted_status_id  \\\n",
       "1696  This is Champ. He's being sacrificed to the Az...                  NaN   \n",
       "513   PUPDATE: I've been informed that Augie was act...                  NaN   \n",
       "\n",
       "      retweeted_status_user_id retweeted_status_timestamp  \\\n",
       "1696                       NaN                        NaN   \n",
       "513                        NaN                        NaN   \n",
       "\n",
       "                                          expanded_urls  rating_numerator  \\\n",
       "1696  https://twitter.com/dog_rates/status/681242418...                10   \n",
       "513                                                 NaN                11   \n",
       "\n",
       "      rating_denominator   name doggo floofer pupper puppo  \n",
       "1696                  10  Champ                             \n",
       "513                   10   None                             "
      ]
     },
     "execution_count": 57,
     "metadata": {},
     "output_type": "execute_result"
    }
   ],
   "source": [
    "#lets check it out\n",
    "df_clean1.sample(2)"
   ]
  },
  {
   "cell_type": "markdown",
   "id": "f3eeef81",
   "metadata": {},
   "source": [
    "# Define"
   ]
  },
  {
   "cell_type": "raw",
   "id": "f4eaedf9",
   "metadata": {},
   "source": [
    "#use cat to combine and create dog phases"
   ]
  },
  {
   "cell_type": "markdown",
   "id": "cfc15c6a",
   "metadata": {},
   "source": [
    "\n",
    "# Code"
   ]
  },
  {
   "cell_type": "code",
   "execution_count": 58,
   "id": "f621255d",
   "metadata": {},
   "outputs": [],
   "source": [
    "#use cat to combine and create dog phases\n",
    "df_clean1['dog_phase'] = df_clean1.doggo.str.cat(df_clean1.floofer).str.cat(df_clean1.pupper).str.cat(df_clean1.puppo)"
   ]
  },
  {
   "cell_type": "markdown",
   "id": "058b18cf",
   "metadata": {},
   "source": [
    "# Test"
   ]
  },
  {
   "cell_type": "code",
   "execution_count": 59,
   "id": "37b67773",
   "metadata": {},
   "outputs": [
    {
     "data": {
      "text/html": [
       "<div>\n",
       "<style scoped>\n",
       "    .dataframe tbody tr th:only-of-type {\n",
       "        vertical-align: middle;\n",
       "    }\n",
       "\n",
       "    .dataframe tbody tr th {\n",
       "        vertical-align: top;\n",
       "    }\n",
       "\n",
       "    .dataframe thead th {\n",
       "        text-align: right;\n",
       "    }\n",
       "</style>\n",
       "<table border=\"1\" class=\"dataframe\">\n",
       "  <thead>\n",
       "    <tr style=\"text-align: right;\">\n",
       "      <th></th>\n",
       "      <th>tweet_id</th>\n",
       "      <th>in_reply_to_status_id</th>\n",
       "      <th>in_reply_to_user_id</th>\n",
       "      <th>timestamp</th>\n",
       "      <th>source</th>\n",
       "      <th>text</th>\n",
       "      <th>retweeted_status_id</th>\n",
       "      <th>retweeted_status_user_id</th>\n",
       "      <th>retweeted_status_timestamp</th>\n",
       "      <th>expanded_urls</th>\n",
       "      <th>rating_numerator</th>\n",
       "      <th>rating_denominator</th>\n",
       "      <th>name</th>\n",
       "      <th>doggo</th>\n",
       "      <th>floofer</th>\n",
       "      <th>pupper</th>\n",
       "      <th>puppo</th>\n",
       "      <th>dog_phase</th>\n",
       "    </tr>\n",
       "  </thead>\n",
       "  <tbody>\n",
       "    <tr>\n",
       "      <th>2354</th>\n",
       "      <td>666029285002620928</td>\n",
       "      <td>NaN</td>\n",
       "      <td>NaN</td>\n",
       "      <td>2015-11-15 23:05:30 +0000</td>\n",
       "      <td>&lt;a href=\"http://twitter.com/download/iphone\" r...</td>\n",
       "      <td>This is a western brown Mitsubishi terrier. Up...</td>\n",
       "      <td>NaN</td>\n",
       "      <td>NaN</td>\n",
       "      <td>NaN</td>\n",
       "      <td>https://twitter.com/dog_rates/status/666029285...</td>\n",
       "      <td>7</td>\n",
       "      <td>10</td>\n",
       "      <td>a</td>\n",
       "      <td></td>\n",
       "      <td></td>\n",
       "      <td></td>\n",
       "      <td></td>\n",
       "      <td></td>\n",
       "    </tr>\n",
       "    <tr>\n",
       "      <th>2355</th>\n",
       "      <td>666020888022790149</td>\n",
       "      <td>NaN</td>\n",
       "      <td>NaN</td>\n",
       "      <td>2015-11-15 22:32:08 +0000</td>\n",
       "      <td>&lt;a href=\"http://twitter.com/download/iphone\" r...</td>\n",
       "      <td>Here we have a Japanese Irish Setter. Lost eye...</td>\n",
       "      <td>NaN</td>\n",
       "      <td>NaN</td>\n",
       "      <td>NaN</td>\n",
       "      <td>https://twitter.com/dog_rates/status/666020888...</td>\n",
       "      <td>8</td>\n",
       "      <td>10</td>\n",
       "      <td>None</td>\n",
       "      <td></td>\n",
       "      <td></td>\n",
       "      <td></td>\n",
       "      <td></td>\n",
       "      <td></td>\n",
       "    </tr>\n",
       "  </tbody>\n",
       "</table>\n",
       "</div>"
      ],
      "text/plain": [
       "                tweet_id  in_reply_to_status_id  in_reply_to_user_id  \\\n",
       "2354  666029285002620928                    NaN                  NaN   \n",
       "2355  666020888022790149                    NaN                  NaN   \n",
       "\n",
       "                      timestamp  \\\n",
       "2354  2015-11-15 23:05:30 +0000   \n",
       "2355  2015-11-15 22:32:08 +0000   \n",
       "\n",
       "                                                 source  \\\n",
       "2354  <a href=\"http://twitter.com/download/iphone\" r...   \n",
       "2355  <a href=\"http://twitter.com/download/iphone\" r...   \n",
       "\n",
       "                                                   text  retweeted_status_id  \\\n",
       "2354  This is a western brown Mitsubishi terrier. Up...                  NaN   \n",
       "2355  Here we have a Japanese Irish Setter. Lost eye...                  NaN   \n",
       "\n",
       "      retweeted_status_user_id retweeted_status_timestamp  \\\n",
       "2354                       NaN                        NaN   \n",
       "2355                       NaN                        NaN   \n",
       "\n",
       "                                          expanded_urls  rating_numerator  \\\n",
       "2354  https://twitter.com/dog_rates/status/666029285...                 7   \n",
       "2355  https://twitter.com/dog_rates/status/666020888...                 8   \n",
       "\n",
       "      rating_denominator  name doggo floofer pupper puppo dog_phase  \n",
       "2354                  10     a                                       \n",
       "2355                  10  None                                       "
      ]
     },
     "execution_count": 59,
     "metadata": {},
     "output_type": "execute_result"
    }
   ],
   "source": [
    "#lets check it out\n",
    "df_clean1.tail(2)"
   ]
  },
  {
   "cell_type": "markdown",
   "id": "74238074",
   "metadata": {},
   "source": [
    "# Define"
   ]
  },
  {
   "cell_type": "raw",
   "id": "4f3a1c9b",
   "metadata": {},
   "source": [
    "lets delete the doggo, pupper, floofer and puppo column"
   ]
  },
  {
   "cell_type": "markdown",
   "id": "fa4f3c00",
   "metadata": {},
   "source": [
    "# Code"
   ]
  },
  {
   "cell_type": "code",
   "execution_count": 60,
   "id": "a72fdad0",
   "metadata": {},
   "outputs": [],
   "source": [
    "#lets delete the doggo, pupper, floofer and puppo column\n",
    "df_clean1 = df_clean1.drop(['doggo', 'floofer', 'puppo', 'pupper'], axis = 1)\n",
    "\n",
    "#replace '' values in dog_phase column with Nan\n",
    "df_clean1['dog_phase'] = df_clean1['dog_phase'].replace('', np.nan)"
   ]
  },
  {
   "cell_type": "markdown",
   "id": "e4a9617c",
   "metadata": {},
   "source": [
    "# Test"
   ]
  },
  {
   "cell_type": "code",
   "execution_count": 61,
   "id": "78aca3c6",
   "metadata": {},
   "outputs": [
    {
     "data": {
      "text/html": [
       "<div>\n",
       "<style scoped>\n",
       "    .dataframe tbody tr th:only-of-type {\n",
       "        vertical-align: middle;\n",
       "    }\n",
       "\n",
       "    .dataframe tbody tr th {\n",
       "        vertical-align: top;\n",
       "    }\n",
       "\n",
       "    .dataframe thead th {\n",
       "        text-align: right;\n",
       "    }\n",
       "</style>\n",
       "<table border=\"1\" class=\"dataframe\">\n",
       "  <thead>\n",
       "    <tr style=\"text-align: right;\">\n",
       "      <th></th>\n",
       "      <th>tweet_id</th>\n",
       "      <th>in_reply_to_status_id</th>\n",
       "      <th>in_reply_to_user_id</th>\n",
       "      <th>timestamp</th>\n",
       "      <th>source</th>\n",
       "      <th>text</th>\n",
       "      <th>retweeted_status_id</th>\n",
       "      <th>retweeted_status_user_id</th>\n",
       "      <th>retweeted_status_timestamp</th>\n",
       "      <th>expanded_urls</th>\n",
       "      <th>rating_numerator</th>\n",
       "      <th>rating_denominator</th>\n",
       "      <th>name</th>\n",
       "      <th>dog_phase</th>\n",
       "    </tr>\n",
       "  </thead>\n",
       "  <tbody>\n",
       "    <tr>\n",
       "      <th>2351</th>\n",
       "      <td>666049248165822465</td>\n",
       "      <td>NaN</td>\n",
       "      <td>NaN</td>\n",
       "      <td>2015-11-16 00:24:50 +0000</td>\n",
       "      <td>&lt;a href=\"http://twitter.com/download/iphone\" r...</td>\n",
       "      <td>Here we have a 1949 1st generation vulpix. Enj...</td>\n",
       "      <td>NaN</td>\n",
       "      <td>NaN</td>\n",
       "      <td>NaN</td>\n",
       "      <td>https://twitter.com/dog_rates/status/666049248...</td>\n",
       "      <td>5</td>\n",
       "      <td>10</td>\n",
       "      <td>None</td>\n",
       "      <td>NaN</td>\n",
       "    </tr>\n",
       "    <tr>\n",
       "      <th>2352</th>\n",
       "      <td>666044226329800704</td>\n",
       "      <td>NaN</td>\n",
       "      <td>NaN</td>\n",
       "      <td>2015-11-16 00:04:52 +0000</td>\n",
       "      <td>&lt;a href=\"http://twitter.com/download/iphone\" r...</td>\n",
       "      <td>This is a purebred Piers Morgan. Loves to Netf...</td>\n",
       "      <td>NaN</td>\n",
       "      <td>NaN</td>\n",
       "      <td>NaN</td>\n",
       "      <td>https://twitter.com/dog_rates/status/666044226...</td>\n",
       "      <td>6</td>\n",
       "      <td>10</td>\n",
       "      <td>a</td>\n",
       "      <td>NaN</td>\n",
       "    </tr>\n",
       "    <tr>\n",
       "      <th>2353</th>\n",
       "      <td>666033412701032449</td>\n",
       "      <td>NaN</td>\n",
       "      <td>NaN</td>\n",
       "      <td>2015-11-15 23:21:54 +0000</td>\n",
       "      <td>&lt;a href=\"http://twitter.com/download/iphone\" r...</td>\n",
       "      <td>Here is a very happy pup. Big fan of well-main...</td>\n",
       "      <td>NaN</td>\n",
       "      <td>NaN</td>\n",
       "      <td>NaN</td>\n",
       "      <td>https://twitter.com/dog_rates/status/666033412...</td>\n",
       "      <td>9</td>\n",
       "      <td>10</td>\n",
       "      <td>a</td>\n",
       "      <td>NaN</td>\n",
       "    </tr>\n",
       "    <tr>\n",
       "      <th>2354</th>\n",
       "      <td>666029285002620928</td>\n",
       "      <td>NaN</td>\n",
       "      <td>NaN</td>\n",
       "      <td>2015-11-15 23:05:30 +0000</td>\n",
       "      <td>&lt;a href=\"http://twitter.com/download/iphone\" r...</td>\n",
       "      <td>This is a western brown Mitsubishi terrier. Up...</td>\n",
       "      <td>NaN</td>\n",
       "      <td>NaN</td>\n",
       "      <td>NaN</td>\n",
       "      <td>https://twitter.com/dog_rates/status/666029285...</td>\n",
       "      <td>7</td>\n",
       "      <td>10</td>\n",
       "      <td>a</td>\n",
       "      <td>NaN</td>\n",
       "    </tr>\n",
       "    <tr>\n",
       "      <th>2355</th>\n",
       "      <td>666020888022790149</td>\n",
       "      <td>NaN</td>\n",
       "      <td>NaN</td>\n",
       "      <td>2015-11-15 22:32:08 +0000</td>\n",
       "      <td>&lt;a href=\"http://twitter.com/download/iphone\" r...</td>\n",
       "      <td>Here we have a Japanese Irish Setter. Lost eye...</td>\n",
       "      <td>NaN</td>\n",
       "      <td>NaN</td>\n",
       "      <td>NaN</td>\n",
       "      <td>https://twitter.com/dog_rates/status/666020888...</td>\n",
       "      <td>8</td>\n",
       "      <td>10</td>\n",
       "      <td>None</td>\n",
       "      <td>NaN</td>\n",
       "    </tr>\n",
       "  </tbody>\n",
       "</table>\n",
       "</div>"
      ],
      "text/plain": [
       "                tweet_id  in_reply_to_status_id  in_reply_to_user_id  \\\n",
       "2351  666049248165822465                    NaN                  NaN   \n",
       "2352  666044226329800704                    NaN                  NaN   \n",
       "2353  666033412701032449                    NaN                  NaN   \n",
       "2354  666029285002620928                    NaN                  NaN   \n",
       "2355  666020888022790149                    NaN                  NaN   \n",
       "\n",
       "                      timestamp  \\\n",
       "2351  2015-11-16 00:24:50 +0000   \n",
       "2352  2015-11-16 00:04:52 +0000   \n",
       "2353  2015-11-15 23:21:54 +0000   \n",
       "2354  2015-11-15 23:05:30 +0000   \n",
       "2355  2015-11-15 22:32:08 +0000   \n",
       "\n",
       "                                                 source  \\\n",
       "2351  <a href=\"http://twitter.com/download/iphone\" r...   \n",
       "2352  <a href=\"http://twitter.com/download/iphone\" r...   \n",
       "2353  <a href=\"http://twitter.com/download/iphone\" r...   \n",
       "2354  <a href=\"http://twitter.com/download/iphone\" r...   \n",
       "2355  <a href=\"http://twitter.com/download/iphone\" r...   \n",
       "\n",
       "                                                   text  retweeted_status_id  \\\n",
       "2351  Here we have a 1949 1st generation vulpix. Enj...                  NaN   \n",
       "2352  This is a purebred Piers Morgan. Loves to Netf...                  NaN   \n",
       "2353  Here is a very happy pup. Big fan of well-main...                  NaN   \n",
       "2354  This is a western brown Mitsubishi terrier. Up...                  NaN   \n",
       "2355  Here we have a Japanese Irish Setter. Lost eye...                  NaN   \n",
       "\n",
       "      retweeted_status_user_id retweeted_status_timestamp  \\\n",
       "2351                       NaN                        NaN   \n",
       "2352                       NaN                        NaN   \n",
       "2353                       NaN                        NaN   \n",
       "2354                       NaN                        NaN   \n",
       "2355                       NaN                        NaN   \n",
       "\n",
       "                                          expanded_urls  rating_numerator  \\\n",
       "2351  https://twitter.com/dog_rates/status/666049248...                 5   \n",
       "2352  https://twitter.com/dog_rates/status/666044226...                 6   \n",
       "2353  https://twitter.com/dog_rates/status/666033412...                 9   \n",
       "2354  https://twitter.com/dog_rates/status/666029285...                 7   \n",
       "2355  https://twitter.com/dog_rates/status/666020888...                 8   \n",
       "\n",
       "      rating_denominator  name dog_phase  \n",
       "2351                  10  None       NaN  \n",
       "2352                  10     a       NaN  \n",
       "2353                  10     a       NaN  \n",
       "2354                  10     a       NaN  \n",
       "2355                  10  None       NaN  "
      ]
     },
     "execution_count": 61,
     "metadata": {},
     "output_type": "execute_result"
    }
   ],
   "source": [
    "#lets check it out\n",
    "df_clean1.tail(5)"
   ]
  },
  {
   "cell_type": "markdown",
   "id": "6469ae66",
   "metadata": {},
   "source": [
    "# Define"
   ]
  },
  {
   "cell_type": "raw",
   "id": "17d9f9f9",
   "metadata": {},
   "source": [
    "convert the timestamp to datetime data type"
   ]
  },
  {
   "cell_type": "markdown",
   "id": "fe7bb2f8",
   "metadata": {},
   "source": [
    "# Code"
   ]
  },
  {
   "cell_type": "code",
   "execution_count": 62,
   "id": "854d9e24",
   "metadata": {},
   "outputs": [],
   "source": [
    "#convert the timestamp to datetime data type\n",
    "df_clean1['timestamp'] = pd.to_datetime(df_clean1['timestamp'])"
   ]
  },
  {
   "cell_type": "markdown",
   "id": "a7954bde",
   "metadata": {},
   "source": [
    "# Test"
   ]
  },
  {
   "cell_type": "code",
   "execution_count": 64,
   "id": "97a6919c",
   "metadata": {},
   "outputs": [
    {
     "name": "stdout",
     "output_type": "stream",
     "text": [
      "<class 'pandas.core.frame.DataFrame'>\n",
      "RangeIndex: 2356 entries, 0 to 2355\n",
      "Data columns (total 14 columns):\n",
      " #   Column                      Non-Null Count  Dtype              \n",
      "---  ------                      --------------  -----              \n",
      " 0   tweet_id                    2356 non-null   int64              \n",
      " 1   in_reply_to_status_id       78 non-null     float64            \n",
      " 2   in_reply_to_user_id         78 non-null     float64            \n",
      " 3   timestamp                   2356 non-null   datetime64[ns, UTC]\n",
      " 4   source                      2356 non-null   object             \n",
      " 5   text                        2356 non-null   object             \n",
      " 6   retweeted_status_id         181 non-null    float64            \n",
      " 7   retweeted_status_user_id    181 non-null    float64            \n",
      " 8   retweeted_status_timestamp  181 non-null    object             \n",
      " 9   expanded_urls               2297 non-null   object             \n",
      " 10  rating_numerator            2356 non-null   int64              \n",
      " 11  rating_denominator          2356 non-null   int64              \n",
      " 12  name                        2356 non-null   object             \n",
      " 13  dog_phase                   380 non-null    object             \n",
      "dtypes: datetime64[ns, UTC](1), float64(4), int64(3), object(6)\n",
      "memory usage: 257.8+ KB\n"
     ]
    }
   ],
   "source": [
    "df_clean1.info()"
   ]
  },
  {
   "cell_type": "markdown",
   "id": "abbdd51c",
   "metadata": {},
   "source": [
    "# Define"
   ]
  },
  {
   "cell_type": "raw",
   "id": "c3b63014",
   "metadata": {},
   "source": [
    "create month, year, weekday column by extracting it from timestamp"
   ]
  },
  {
   "cell_type": "markdown",
   "id": "accfa430",
   "metadata": {},
   "source": [
    "# Code"
   ]
  },
  {
   "cell_type": "code",
   "execution_count": 67,
   "id": "dfe9e9ac",
   "metadata": {},
   "outputs": [],
   "source": [
    "#create month, year, weekday column by extracting it from timestamp\n",
    "df_clean1['Year'] = df_clean1['timestamp'].dt.year\n",
    "df_clean1['Month'] = df_clean1['timestamp'].dt.month\n",
    "df_clean1['WeekDay'] = df_clean1['timestamp'].dt.day_name()"
   ]
  },
  {
   "cell_type": "markdown",
   "id": "87d8c3b2",
   "metadata": {},
   "source": [
    "# Test"
   ]
  },
  {
   "cell_type": "code",
   "execution_count": 68,
   "id": "3c23548f",
   "metadata": {},
   "outputs": [
    {
     "data": {
      "text/html": [
       "<div>\n",
       "<style scoped>\n",
       "    .dataframe tbody tr th:only-of-type {\n",
       "        vertical-align: middle;\n",
       "    }\n",
       "\n",
       "    .dataframe tbody tr th {\n",
       "        vertical-align: top;\n",
       "    }\n",
       "\n",
       "    .dataframe thead th {\n",
       "        text-align: right;\n",
       "    }\n",
       "</style>\n",
       "<table border=\"1\" class=\"dataframe\">\n",
       "  <thead>\n",
       "    <tr style=\"text-align: right;\">\n",
       "      <th></th>\n",
       "      <th>tweet_id</th>\n",
       "      <th>in_reply_to_status_id</th>\n",
       "      <th>in_reply_to_user_id</th>\n",
       "      <th>timestamp</th>\n",
       "      <th>source</th>\n",
       "      <th>text</th>\n",
       "      <th>retweeted_status_id</th>\n",
       "      <th>retweeted_status_user_id</th>\n",
       "      <th>retweeted_status_timestamp</th>\n",
       "      <th>expanded_urls</th>\n",
       "      <th>rating_numerator</th>\n",
       "      <th>rating_denominator</th>\n",
       "      <th>name</th>\n",
       "      <th>dog_phase</th>\n",
       "      <th>Year</th>\n",
       "      <th>Month</th>\n",
       "      <th>WeekDay</th>\n",
       "    </tr>\n",
       "  </thead>\n",
       "  <tbody>\n",
       "    <tr>\n",
       "      <th>0</th>\n",
       "      <td>892420643555336193</td>\n",
       "      <td>NaN</td>\n",
       "      <td>NaN</td>\n",
       "      <td>2017-08-01 16:23:56+00:00</td>\n",
       "      <td>&lt;a href=\"http://twitter.com/download/iphone\" r...</td>\n",
       "      <td>This is Phineas. He's a mystical boy. Only eve...</td>\n",
       "      <td>NaN</td>\n",
       "      <td>NaN</td>\n",
       "      <td>NaN</td>\n",
       "      <td>https://twitter.com/dog_rates/status/892420643...</td>\n",
       "      <td>13</td>\n",
       "      <td>10</td>\n",
       "      <td>Phineas</td>\n",
       "      <td>NaN</td>\n",
       "      <td>2017</td>\n",
       "      <td>8</td>\n",
       "      <td>Tuesday</td>\n",
       "    </tr>\n",
       "    <tr>\n",
       "      <th>1</th>\n",
       "      <td>892177421306343426</td>\n",
       "      <td>NaN</td>\n",
       "      <td>NaN</td>\n",
       "      <td>2017-08-01 00:17:27+00:00</td>\n",
       "      <td>&lt;a href=\"http://twitter.com/download/iphone\" r...</td>\n",
       "      <td>This is Tilly. She's just checking pup on you....</td>\n",
       "      <td>NaN</td>\n",
       "      <td>NaN</td>\n",
       "      <td>NaN</td>\n",
       "      <td>https://twitter.com/dog_rates/status/892177421...</td>\n",
       "      <td>13</td>\n",
       "      <td>10</td>\n",
       "      <td>Tilly</td>\n",
       "      <td>NaN</td>\n",
       "      <td>2017</td>\n",
       "      <td>8</td>\n",
       "      <td>Tuesday</td>\n",
       "    </tr>\n",
       "    <tr>\n",
       "      <th>2</th>\n",
       "      <td>891815181378084864</td>\n",
       "      <td>NaN</td>\n",
       "      <td>NaN</td>\n",
       "      <td>2017-07-31 00:18:03+00:00</td>\n",
       "      <td>&lt;a href=\"http://twitter.com/download/iphone\" r...</td>\n",
       "      <td>This is Archie. He is a rare Norwegian Pouncin...</td>\n",
       "      <td>NaN</td>\n",
       "      <td>NaN</td>\n",
       "      <td>NaN</td>\n",
       "      <td>https://twitter.com/dog_rates/status/891815181...</td>\n",
       "      <td>12</td>\n",
       "      <td>10</td>\n",
       "      <td>Archie</td>\n",
       "      <td>NaN</td>\n",
       "      <td>2017</td>\n",
       "      <td>7</td>\n",
       "      <td>Monday</td>\n",
       "    </tr>\n",
       "    <tr>\n",
       "      <th>3</th>\n",
       "      <td>891689557279858688</td>\n",
       "      <td>NaN</td>\n",
       "      <td>NaN</td>\n",
       "      <td>2017-07-30 15:58:51+00:00</td>\n",
       "      <td>&lt;a href=\"http://twitter.com/download/iphone\" r...</td>\n",
       "      <td>This is Darla. She commenced a snooze mid meal...</td>\n",
       "      <td>NaN</td>\n",
       "      <td>NaN</td>\n",
       "      <td>NaN</td>\n",
       "      <td>https://twitter.com/dog_rates/status/891689557...</td>\n",
       "      <td>13</td>\n",
       "      <td>10</td>\n",
       "      <td>Darla</td>\n",
       "      <td>NaN</td>\n",
       "      <td>2017</td>\n",
       "      <td>7</td>\n",
       "      <td>Sunday</td>\n",
       "    </tr>\n",
       "    <tr>\n",
       "      <th>4</th>\n",
       "      <td>891327558926688256</td>\n",
       "      <td>NaN</td>\n",
       "      <td>NaN</td>\n",
       "      <td>2017-07-29 16:00:24+00:00</td>\n",
       "      <td>&lt;a href=\"http://twitter.com/download/iphone\" r...</td>\n",
       "      <td>This is Franklin. He would like you to stop ca...</td>\n",
       "      <td>NaN</td>\n",
       "      <td>NaN</td>\n",
       "      <td>NaN</td>\n",
       "      <td>https://twitter.com/dog_rates/status/891327558...</td>\n",
       "      <td>12</td>\n",
       "      <td>10</td>\n",
       "      <td>Franklin</td>\n",
       "      <td>NaN</td>\n",
       "      <td>2017</td>\n",
       "      <td>7</td>\n",
       "      <td>Saturday</td>\n",
       "    </tr>\n",
       "  </tbody>\n",
       "</table>\n",
       "</div>"
      ],
      "text/plain": [
       "             tweet_id  in_reply_to_status_id  in_reply_to_user_id  \\\n",
       "0  892420643555336193                    NaN                  NaN   \n",
       "1  892177421306343426                    NaN                  NaN   \n",
       "2  891815181378084864                    NaN                  NaN   \n",
       "3  891689557279858688                    NaN                  NaN   \n",
       "4  891327558926688256                    NaN                  NaN   \n",
       "\n",
       "                  timestamp  \\\n",
       "0 2017-08-01 16:23:56+00:00   \n",
       "1 2017-08-01 00:17:27+00:00   \n",
       "2 2017-07-31 00:18:03+00:00   \n",
       "3 2017-07-30 15:58:51+00:00   \n",
       "4 2017-07-29 16:00:24+00:00   \n",
       "\n",
       "                                              source  \\\n",
       "0  <a href=\"http://twitter.com/download/iphone\" r...   \n",
       "1  <a href=\"http://twitter.com/download/iphone\" r...   \n",
       "2  <a href=\"http://twitter.com/download/iphone\" r...   \n",
       "3  <a href=\"http://twitter.com/download/iphone\" r...   \n",
       "4  <a href=\"http://twitter.com/download/iphone\" r...   \n",
       "\n",
       "                                                text  retweeted_status_id  \\\n",
       "0  This is Phineas. He's a mystical boy. Only eve...                  NaN   \n",
       "1  This is Tilly. She's just checking pup on you....                  NaN   \n",
       "2  This is Archie. He is a rare Norwegian Pouncin...                  NaN   \n",
       "3  This is Darla. She commenced a snooze mid meal...                  NaN   \n",
       "4  This is Franklin. He would like you to stop ca...                  NaN   \n",
       "\n",
       "   retweeted_status_user_id retweeted_status_timestamp  \\\n",
       "0                       NaN                        NaN   \n",
       "1                       NaN                        NaN   \n",
       "2                       NaN                        NaN   \n",
       "3                       NaN                        NaN   \n",
       "4                       NaN                        NaN   \n",
       "\n",
       "                                       expanded_urls  rating_numerator  \\\n",
       "0  https://twitter.com/dog_rates/status/892420643...                13   \n",
       "1  https://twitter.com/dog_rates/status/892177421...                13   \n",
       "2  https://twitter.com/dog_rates/status/891815181...                12   \n",
       "3  https://twitter.com/dog_rates/status/891689557...                13   \n",
       "4  https://twitter.com/dog_rates/status/891327558...                12   \n",
       "\n",
       "   rating_denominator      name dog_phase  Year  Month   WeekDay  \n",
       "0                  10   Phineas       NaN  2017      8   Tuesday  \n",
       "1                  10     Tilly       NaN  2017      8   Tuesday  \n",
       "2                  10    Archie       NaN  2017      7    Monday  \n",
       "3                  10     Darla       NaN  2017      7    Sunday  \n",
       "4                  10  Franklin       NaN  2017      7  Saturday  "
      ]
     },
     "execution_count": 68,
     "metadata": {},
     "output_type": "execute_result"
    }
   ],
   "source": [
    "#chect it out\n",
    "df_clean1.head(5)"
   ]
  },
  {
   "cell_type": "markdown",
   "id": "23d71e1d",
   "metadata": {},
   "source": [
    "# Define"
   ]
  },
  {
   "cell_type": "raw",
   "id": "b1dbf379",
   "metadata": {},
   "source": [
    "# Delete timestamp column"
   ]
  },
  {
   "cell_type": "markdown",
   "id": "ec34afc3",
   "metadata": {},
   "source": [
    "# Code"
   ]
  },
  {
   "cell_type": "code",
   "execution_count": 69,
   "id": "1a196de1",
   "metadata": {},
   "outputs": [],
   "source": [
    "#Delete timestamp column\n",
    "df_clean1 = df_clean1.drop('timestamp', 1)"
   ]
  },
  {
   "cell_type": "markdown",
   "id": "8a49b279",
   "metadata": {},
   "source": [
    "# Test"
   ]
  },
  {
   "cell_type": "code",
   "execution_count": 70,
   "id": "198b75ee",
   "metadata": {},
   "outputs": [
    {
     "data": {
      "text/html": [
       "<div>\n",
       "<style scoped>\n",
       "    .dataframe tbody tr th:only-of-type {\n",
       "        vertical-align: middle;\n",
       "    }\n",
       "\n",
       "    .dataframe tbody tr th {\n",
       "        vertical-align: top;\n",
       "    }\n",
       "\n",
       "    .dataframe thead th {\n",
       "        text-align: right;\n",
       "    }\n",
       "</style>\n",
       "<table border=\"1\" class=\"dataframe\">\n",
       "  <thead>\n",
       "    <tr style=\"text-align: right;\">\n",
       "      <th></th>\n",
       "      <th>tweet_id</th>\n",
       "      <th>in_reply_to_status_id</th>\n",
       "      <th>in_reply_to_user_id</th>\n",
       "      <th>source</th>\n",
       "      <th>text</th>\n",
       "      <th>retweeted_status_id</th>\n",
       "      <th>retweeted_status_user_id</th>\n",
       "      <th>retweeted_status_timestamp</th>\n",
       "      <th>expanded_urls</th>\n",
       "      <th>rating_numerator</th>\n",
       "      <th>rating_denominator</th>\n",
       "      <th>name</th>\n",
       "      <th>dog_phase</th>\n",
       "      <th>Year</th>\n",
       "      <th>Month</th>\n",
       "      <th>WeekDay</th>\n",
       "    </tr>\n",
       "  </thead>\n",
       "  <tbody>\n",
       "  </tbody>\n",
       "</table>\n",
       "</div>"
      ],
      "text/plain": [
       "Empty DataFrame\n",
       "Columns: [tweet_id, in_reply_to_status_id, in_reply_to_user_id, source, text, retweeted_status_id, retweeted_status_user_id, retweeted_status_timestamp, expanded_urls, rating_numerator, rating_denominator, name, dog_phase, Year, Month, WeekDay]\n",
       "Index: []"
      ]
     },
     "execution_count": 70,
     "metadata": {},
     "output_type": "execute_result"
    }
   ],
   "source": [
    "#check it out\n",
    "df_clean1.head(0)"
   ]
  },
  {
   "cell_type": "markdown",
   "id": "e1b47f8f",
   "metadata": {},
   "source": [
    "# Define"
   ]
  },
  {
   "cell_type": "raw",
   "id": "8393a234",
   "metadata": {},
   "source": [
    "#check ratings_denominator grater than 10"
   ]
  },
  {
   "cell_type": "markdown",
   "id": "5c93f474",
   "metadata": {},
   "source": [
    "# Code & Test"
   ]
  },
  {
   "cell_type": "code",
   "execution_count": 71,
   "id": "6b2bcdab",
   "metadata": {},
   "outputs": [
    {
     "data": {
      "text/plain": [
       "20"
      ]
     },
     "execution_count": 71,
     "metadata": {},
     "output_type": "execute_result"
    }
   ],
   "source": [
    "#check ratings_denominator grater than 10\n",
    "sum(df_clean1.rating_denominator > 10)"
   ]
  },
  {
   "cell_type": "markdown",
   "id": "517bd87f",
   "metadata": {},
   "source": [
    "# Define"
   ]
  },
  {
   "cell_type": "raw",
   "id": "c37bbb41",
   "metadata": {},
   "source": [
    "#set rating_denominator to 10 which is the standard"
   ]
  },
  {
   "cell_type": "markdown",
   "id": "b97391bf",
   "metadata": {},
   "source": [
    "# Code"
   ]
  },
  {
   "cell_type": "code",
   "execution_count": 72,
   "id": "30e038ae",
   "metadata": {},
   "outputs": [],
   "source": [
    "#set rating_denominator to 10 which is the standard\n",
    "for i in df_clean1.rating_denominator:\n",
    "    df_clean1.rating_denominator = 10.0"
   ]
  },
  {
   "cell_type": "markdown",
   "id": "a95b93ff",
   "metadata": {},
   "source": [
    "# Test"
   ]
  },
  {
   "cell_type": "code",
   "execution_count": 73,
   "id": "6cfadc50",
   "metadata": {},
   "outputs": [
    {
     "data": {
      "text/plain": [
       "0"
      ]
     },
     "execution_count": 73,
     "metadata": {},
     "output_type": "execute_result"
    }
   ],
   "source": [
    "#check ratings_denominator grater than 10\n",
    "sum(df_clean1.rating_denominator > 10)"
   ]
  },
  {
   "cell_type": "markdown",
   "id": "6528eb06",
   "metadata": {},
   "source": [
    "# Define"
   ]
  },
  {
   "cell_type": "raw",
   "id": "e66baea0",
   "metadata": {},
   "source": [
    "#do a check using for loop to correct rating_numerator score that were rated above 20"
   ]
  },
  {
   "cell_type": "markdown",
   "id": "cda8395d",
   "metadata": {},
   "source": [
    "# Code"
   ]
  },
  {
   "cell_type": "code",
   "execution_count": 74,
   "id": "5263a795",
   "metadata": {},
   "outputs": [
    {
     "name": "stderr",
     "output_type": "stream",
     "text": [
      "c:\\users\\user\\appdata\\local\\programs\\python\\python39\\lib\\site-packages\\pandas\\core\\indexing.py:1637: SettingWithCopyWarning: \n",
      "A value is trying to be set on a copy of a slice from a DataFrame\n",
      "\n",
      "See the caveats in the documentation: https://pandas.pydata.org/pandas-docs/stable/user_guide/indexing.html#returning-a-view-versus-a-copy\n",
      "  self._setitem_single_block(indexer, value, name)\n"
     ]
    }
   ],
   "source": [
    "#do a check using for loop to correct rating_numerator score that were rated above 20\n",
    "\n",
    "for i in range (1, len(df_clean1.rating_numerator),1):\n",
    "\n",
    "#check if the rating_numerator is less than and equal, if true, then continue\n",
    "  \n",
    "    if df_clean1.rating_numerator.iloc[i]<=20:continue\n",
    "\n",
    "#check if the rating_numerator is above 20 and less than equal to 200, if true, multiply if by 0.1\n",
    "    \n",
    "    elif df_clean1.rating_numerator.iloc[i] > 20 and df_clean1.rating_numerator.iloc[i]<=200:\n",
    "        df_clean1.rating_numerator.iloc[i] = df_clean1.rating_numerator.iloc[i]*0.1\n",
    "\n",
    "#check if the rating_numerator is above 200 and less than equal to 200, if true, multiply if by 0.01\n",
    "    \n",
    "    elif df_clean1.rating_numerator.iloc[i]>200:\n",
    "            df_clean1.rating_numerator.iloc[i] = df_clean1.rating_numerator.iloc[i]*0.01"
   ]
  },
  {
   "cell_type": "markdown",
   "id": "cebc132b",
   "metadata": {},
   "source": [
    "# Test"
   ]
  },
  {
   "cell_type": "code",
   "execution_count": 75,
   "id": "d25b1a7c",
   "metadata": {},
   "outputs": [
    {
     "data": {
      "text/plain": [
       "0"
      ]
     },
     "execution_count": 75,
     "metadata": {},
     "output_type": "execute_result"
    }
   ],
   "source": [
    "#check it out if there is rating_numerator that is above 20\n",
    "sum(df_clean1.rating_numerator >20)"
   ]
  },
  {
   "cell_type": "raw",
   "id": "fa0a5789",
   "metadata": {},
   "source": [
    "Non of the rating_numerator was above 20"
   ]
  },
  {
   "cell_type": "code",
   "execution_count": 76,
   "id": "78dc5e0a",
   "metadata": {},
   "outputs": [
    {
     "name": "stdout",
     "output_type": "stream",
     "text": [
      "<class 'pandas.core.frame.DataFrame'>\n",
      "RangeIndex: 2356 entries, 0 to 2355\n",
      "Data columns (total 16 columns):\n",
      " #   Column                      Non-Null Count  Dtype  \n",
      "---  ------                      --------------  -----  \n",
      " 0   tweet_id                    2356 non-null   int64  \n",
      " 1   in_reply_to_status_id       78 non-null     float64\n",
      " 2   in_reply_to_user_id         78 non-null     float64\n",
      " 3   source                      2356 non-null   object \n",
      " 4   text                        2356 non-null   object \n",
      " 5   retweeted_status_id         181 non-null    float64\n",
      " 6   retweeted_status_user_id    181 non-null    float64\n",
      " 7   retweeted_status_timestamp  181 non-null    object \n",
      " 8   expanded_urls               2297 non-null   object \n",
      " 9   rating_numerator            2356 non-null   float64\n",
      " 10  rating_denominator          2356 non-null   float64\n",
      " 11  name                        2356 non-null   object \n",
      " 12  dog_phase                   380 non-null    object \n",
      " 13  Year                        2356 non-null   int64  \n",
      " 14  Month                       2356 non-null   int64  \n",
      " 15  WeekDay                     2356 non-null   object \n",
      "dtypes: float64(6), int64(3), object(7)\n",
      "memory usage: 294.6+ KB\n"
     ]
    }
   ],
   "source": [
    "df_clean1.info()"
   ]
  },
  {
   "cell_type": "markdown",
   "id": "833905af",
   "metadata": {},
   "source": [
    "# Define"
   ]
  },
  {
   "cell_type": "raw",
   "id": "4b503dd9",
   "metadata": {},
   "source": [
    "filter and null all retweets"
   ]
  },
  {
   "cell_type": "markdown",
   "id": "f2cd0f7b",
   "metadata": {},
   "source": [
    "# Code"
   ]
  },
  {
   "cell_type": "code",
   "execution_count": 77,
   "id": "291c509f",
   "metadata": {},
   "outputs": [],
   "source": [
    "# filter and null all retweets\n",
    "df_clean1 = df_clean1[df_clean1['retweeted_status_id'].isnull()]"
   ]
  },
  {
   "cell_type": "markdown",
   "id": "15c9e14c",
   "metadata": {},
   "source": [
    "# Test"
   ]
  },
  {
   "cell_type": "code",
   "execution_count": 78,
   "id": "2f46f37b",
   "metadata": {},
   "outputs": [
    {
     "name": "stdout",
     "output_type": "stream",
     "text": [
      "<class 'pandas.core.frame.DataFrame'>\n",
      "Int64Index: 2175 entries, 0 to 2355\n",
      "Data columns (total 16 columns):\n",
      " #   Column                      Non-Null Count  Dtype  \n",
      "---  ------                      --------------  -----  \n",
      " 0   tweet_id                    2175 non-null   int64  \n",
      " 1   in_reply_to_status_id       78 non-null     float64\n",
      " 2   in_reply_to_user_id         78 non-null     float64\n",
      " 3   source                      2175 non-null   object \n",
      " 4   text                        2175 non-null   object \n",
      " 5   retweeted_status_id         0 non-null      float64\n",
      " 6   retweeted_status_user_id    0 non-null      float64\n",
      " 7   retweeted_status_timestamp  0 non-null      object \n",
      " 8   expanded_urls               2117 non-null   object \n",
      " 9   rating_numerator            2175 non-null   float64\n",
      " 10  rating_denominator          2175 non-null   float64\n",
      " 11  name                        2175 non-null   object \n",
      " 12  dog_phase                   344 non-null    object \n",
      " 13  Year                        2175 non-null   int64  \n",
      " 14  Month                       2175 non-null   int64  \n",
      " 15  WeekDay                     2175 non-null   object \n",
      "dtypes: float64(6), int64(3), object(7)\n",
      "memory usage: 288.9+ KB\n"
     ]
    }
   ],
   "source": [
    "#lets check it out\n",
    "df_clean1.info()"
   ]
  },
  {
   "cell_type": "markdown",
   "id": "aa354ecc",
   "metadata": {},
   "source": [
    "# Define"
   ]
  },
  {
   "cell_type": "raw",
   "id": "4dd80e31",
   "metadata": {},
   "source": [
    "#delete all the unusefull columns"
   ]
  },
  {
   "cell_type": "markdown",
   "id": "5738a152",
   "metadata": {},
   "source": [
    "# Code"
   ]
  },
  {
   "cell_type": "code",
   "execution_count": 79,
   "id": "6dd75e90",
   "metadata": {},
   "outputs": [],
   "source": [
    "df_clean1 = df_clean1.drop(['in_reply_to_status_id', 'in_reply_to_user_id' ,'source', 'retweeted_status_id','retweeted_status_user_id','retweeted_status_timestamp','expanded_urls'],axis = 1)"
   ]
  },
  {
   "cell_type": "markdown",
   "id": "342ab8c3",
   "metadata": {},
   "source": [
    "# Test"
   ]
  },
  {
   "cell_type": "code",
   "execution_count": 81,
   "id": "3bcc7571",
   "metadata": {},
   "outputs": [
    {
     "name": "stdout",
     "output_type": "stream",
     "text": [
      "<class 'pandas.core.frame.DataFrame'>\n",
      "Int64Index: 2175 entries, 0 to 2355\n",
      "Data columns (total 9 columns):\n",
      " #   Column              Non-Null Count  Dtype  \n",
      "---  ------              --------------  -----  \n",
      " 0   tweet_id            2175 non-null   int64  \n",
      " 1   text                2175 non-null   object \n",
      " 2   rating_numerator    2175 non-null   float64\n",
      " 3   rating_denominator  2175 non-null   float64\n",
      " 4   name                2175 non-null   object \n",
      " 5   dog_phase           344 non-null    object \n",
      " 6   Year                2175 non-null   int64  \n",
      " 7   Month               2175 non-null   int64  \n",
      " 8   WeekDay             2175 non-null   object \n",
      "dtypes: float64(2), int64(3), object(4)\n",
      "memory usage: 169.9+ KB\n"
     ]
    }
   ],
   "source": [
    "df_clean1.info()"
   ]
  },
  {
   "cell_type": "markdown",
   "id": "dab08eff",
   "metadata": {},
   "source": [
    "# Define"
   ]
  },
  {
   "cell_type": "raw",
   "id": "c0fd7303",
   "metadata": {},
   "source": [
    "#rename the text column with tweet"
   ]
  },
  {
   "cell_type": "markdown",
   "id": "b26c2571",
   "metadata": {},
   "source": [
    "# Code"
   ]
  },
  {
   "cell_type": "code",
   "execution_count": 82,
   "id": "266da9d6",
   "metadata": {},
   "outputs": [],
   "source": [
    "#rename the text column with tweet\n",
    "df_clean1.rename(columns = {'text': 'tweet'} ,inplace = True)"
   ]
  },
  {
   "cell_type": "markdown",
   "id": "569cad7f",
   "metadata": {},
   "source": [
    "# Test"
   ]
  },
  {
   "cell_type": "code",
   "execution_count": 83,
   "id": "deea23b1",
   "metadata": {},
   "outputs": [
    {
     "name": "stdout",
     "output_type": "stream",
     "text": [
      "<class 'pandas.core.frame.DataFrame'>\n",
      "Int64Index: 2175 entries, 0 to 2355\n",
      "Data columns (total 9 columns):\n",
      " #   Column              Non-Null Count  Dtype  \n",
      "---  ------              --------------  -----  \n",
      " 0   tweet_id            2175 non-null   int64  \n",
      " 1   tweet               2175 non-null   object \n",
      " 2   rating_numerator    2175 non-null   float64\n",
      " 3   rating_denominator  2175 non-null   float64\n",
      " 4   name                2175 non-null   object \n",
      " 5   dog_phase           344 non-null    object \n",
      " 6   Year                2175 non-null   int64  \n",
      " 7   Month               2175 non-null   int64  \n",
      " 8   WeekDay             2175 non-null   object \n",
      "dtypes: float64(2), int64(3), object(4)\n",
      "memory usage: 169.9+ KB\n"
     ]
    }
   ],
   "source": [
    "#check it out\n",
    "df_clean1.info()"
   ]
  },
  {
   "cell_type": "markdown",
   "id": "ce570ad2",
   "metadata": {},
   "source": [
    "# Define"
   ]
  },
  {
   "cell_type": "raw",
   "id": "dc16c5b8",
   "metadata": {},
   "source": [
    "#Lets select those names with ordinary a and replace them with Nan"
   ]
  },
  {
   "cell_type": "markdown",
   "id": "9addef5c",
   "metadata": {},
   "source": [
    "# Code"
   ]
  },
  {
   "cell_type": "code",
   "execution_count": 84,
   "id": "4cbb3659",
   "metadata": {},
   "outputs": [],
   "source": [
    "for x in df_clean1['name']:\n",
    "    if x == 'a':\n",
    "         df_clean1.name = df_clean1.name.replace('a', np.nan)"
   ]
  },
  {
   "cell_type": "markdown",
   "id": "d36d2ecd",
   "metadata": {},
   "source": [
    "# Test"
   ]
  },
  {
   "cell_type": "code",
   "execution_count": 85,
   "id": "a4fa3ae7",
   "metadata": {},
   "outputs": [
    {
     "name": "stdout",
     "output_type": "stream",
     "text": [
      "0        Phineas\n",
      "1          Tilly\n",
      "2         Archie\n",
      "3          Darla\n",
      "4       Franklin\n",
      "          ...   \n",
      "2351        None\n",
      "2352         NaN\n",
      "2353         NaN\n",
      "2354         NaN\n",
      "2355        None\n",
      "Name: name, Length: 2175, dtype: object\n"
     ]
    }
   ],
   "source": [
    "#check it out\n",
    "print(df_clean1['name'])"
   ]
  },
  {
   "cell_type": "markdown",
   "id": "dbae4fe5",
   "metadata": {},
   "source": [
    "# Define"
   ]
  },
  {
   "cell_type": "raw",
   "id": "7b3545c2",
   "metadata": {},
   "source": [
    "#lets get the idea of names in name column"
   ]
  },
  {
   "cell_type": "markdown",
   "id": "d7938580",
   "metadata": {},
   "source": [
    "# Code & Test"
   ]
  },
  {
   "cell_type": "code",
   "execution_count": 86,
   "id": "476d9ec4",
   "metadata": {},
   "outputs": [
    {
     "data": {
      "text/plain": [
       "None       680\n",
       "Lucy        11\n",
       "Charlie     11\n",
       "Cooper      10\n",
       "Oliver      10\n",
       "          ... \n",
       "Jimbo        1\n",
       "Emma         1\n",
       "Karll        1\n",
       "Joey         1\n",
       "Sweets       1\n",
       "Name: name, Length: 955, dtype: int64"
      ]
     },
     "execution_count": 86,
     "metadata": {},
     "output_type": "execute_result"
    }
   ],
   "source": [
    "#lets get the idea of names in name column\n",
    "df_clean1['name'].value_counts()"
   ]
  },
  {
   "cell_type": "raw",
   "id": "637d52fd",
   "metadata": {},
   "source": [
    "#you can see None has the highest on the list"
   ]
  },
  {
   "cell_type": "markdown",
   "id": "0fc1b2d4",
   "metadata": {},
   "source": [
    "# copy the original file on which cleaning is to be done"
   ]
  },
  {
   "cell_type": "code",
   "execution_count": 87,
   "id": "ab170188",
   "metadata": {},
   "outputs": [],
   "source": [
    "#copy the original file\n",
    "df_clean2 = df1.copy()"
   ]
  },
  {
   "cell_type": "code",
   "execution_count": 88,
   "id": "8596b0a7",
   "metadata": {},
   "outputs": [
    {
     "data": {
      "text/html": [
       "<div>\n",
       "<style scoped>\n",
       "    .dataframe tbody tr th:only-of-type {\n",
       "        vertical-align: middle;\n",
       "    }\n",
       "\n",
       "    .dataframe tbody tr th {\n",
       "        vertical-align: top;\n",
       "    }\n",
       "\n",
       "    .dataframe thead th {\n",
       "        text-align: right;\n",
       "    }\n",
       "</style>\n",
       "<table border=\"1\" class=\"dataframe\">\n",
       "  <thead>\n",
       "    <tr style=\"text-align: right;\">\n",
       "      <th></th>\n",
       "      <th>tweet_id</th>\n",
       "      <th>jpg_url</th>\n",
       "      <th>img_num</th>\n",
       "      <th>p1</th>\n",
       "      <th>p1_conf</th>\n",
       "      <th>p1_dog</th>\n",
       "      <th>p2</th>\n",
       "      <th>p2_conf</th>\n",
       "      <th>p2_dog</th>\n",
       "      <th>p3</th>\n",
       "      <th>p3_conf</th>\n",
       "      <th>p3_dog</th>\n",
       "    </tr>\n",
       "  </thead>\n",
       "  <tbody>\n",
       "    <tr>\n",
       "      <th>0</th>\n",
       "      <td>666020888022790149</td>\n",
       "      <td>https://pbs.twimg.com/media/CT4udn0WwAA0aMy.jpg</td>\n",
       "      <td>1</td>\n",
       "      <td>Welsh_springer_spaniel</td>\n",
       "      <td>0.465074</td>\n",
       "      <td>True</td>\n",
       "      <td>collie</td>\n",
       "      <td>0.156665</td>\n",
       "      <td>True</td>\n",
       "      <td>Shetland_sheepdog</td>\n",
       "      <td>0.061428</td>\n",
       "      <td>True</td>\n",
       "    </tr>\n",
       "    <tr>\n",
       "      <th>1</th>\n",
       "      <td>666029285002620928</td>\n",
       "      <td>https://pbs.twimg.com/media/CT42GRgUYAA5iDo.jpg</td>\n",
       "      <td>1</td>\n",
       "      <td>redbone</td>\n",
       "      <td>0.506826</td>\n",
       "      <td>True</td>\n",
       "      <td>miniature_pinscher</td>\n",
       "      <td>0.074192</td>\n",
       "      <td>True</td>\n",
       "      <td>Rhodesian_ridgeback</td>\n",
       "      <td>0.072010</td>\n",
       "      <td>True</td>\n",
       "    </tr>\n",
       "    <tr>\n",
       "      <th>2</th>\n",
       "      <td>666033412701032449</td>\n",
       "      <td>https://pbs.twimg.com/media/CT4521TWwAEvMyu.jpg</td>\n",
       "      <td>1</td>\n",
       "      <td>German_shepherd</td>\n",
       "      <td>0.596461</td>\n",
       "      <td>True</td>\n",
       "      <td>malinois</td>\n",
       "      <td>0.138584</td>\n",
       "      <td>True</td>\n",
       "      <td>bloodhound</td>\n",
       "      <td>0.116197</td>\n",
       "      <td>True</td>\n",
       "    </tr>\n",
       "    <tr>\n",
       "      <th>3</th>\n",
       "      <td>666044226329800704</td>\n",
       "      <td>https://pbs.twimg.com/media/CT5Dr8HUEAA-lEu.jpg</td>\n",
       "      <td>1</td>\n",
       "      <td>Rhodesian_ridgeback</td>\n",
       "      <td>0.408143</td>\n",
       "      <td>True</td>\n",
       "      <td>redbone</td>\n",
       "      <td>0.360687</td>\n",
       "      <td>True</td>\n",
       "      <td>miniature_pinscher</td>\n",
       "      <td>0.222752</td>\n",
       "      <td>True</td>\n",
       "    </tr>\n",
       "    <tr>\n",
       "      <th>4</th>\n",
       "      <td>666049248165822465</td>\n",
       "      <td>https://pbs.twimg.com/media/CT5IQmsXIAAKY4A.jpg</td>\n",
       "      <td>1</td>\n",
       "      <td>miniature_pinscher</td>\n",
       "      <td>0.560311</td>\n",
       "      <td>True</td>\n",
       "      <td>Rottweiler</td>\n",
       "      <td>0.243682</td>\n",
       "      <td>True</td>\n",
       "      <td>Doberman</td>\n",
       "      <td>0.154629</td>\n",
       "      <td>True</td>\n",
       "    </tr>\n",
       "    <tr>\n",
       "      <th>...</th>\n",
       "      <td>...</td>\n",
       "      <td>...</td>\n",
       "      <td>...</td>\n",
       "      <td>...</td>\n",
       "      <td>...</td>\n",
       "      <td>...</td>\n",
       "      <td>...</td>\n",
       "      <td>...</td>\n",
       "      <td>...</td>\n",
       "      <td>...</td>\n",
       "      <td>...</td>\n",
       "      <td>...</td>\n",
       "    </tr>\n",
       "    <tr>\n",
       "      <th>2070</th>\n",
       "      <td>891327558926688256</td>\n",
       "      <td>https://pbs.twimg.com/media/DF6hr6BUMAAzZgT.jpg</td>\n",
       "      <td>2</td>\n",
       "      <td>basset</td>\n",
       "      <td>0.555712</td>\n",
       "      <td>True</td>\n",
       "      <td>English_springer</td>\n",
       "      <td>0.225770</td>\n",
       "      <td>True</td>\n",
       "      <td>German_short-haired_pointer</td>\n",
       "      <td>0.175219</td>\n",
       "      <td>True</td>\n",
       "    </tr>\n",
       "    <tr>\n",
       "      <th>2071</th>\n",
       "      <td>891689557279858688</td>\n",
       "      <td>https://pbs.twimg.com/media/DF_q7IAWsAEuuN8.jpg</td>\n",
       "      <td>1</td>\n",
       "      <td>paper_towel</td>\n",
       "      <td>0.170278</td>\n",
       "      <td>False</td>\n",
       "      <td>Labrador_retriever</td>\n",
       "      <td>0.168086</td>\n",
       "      <td>True</td>\n",
       "      <td>spatula</td>\n",
       "      <td>0.040836</td>\n",
       "      <td>False</td>\n",
       "    </tr>\n",
       "    <tr>\n",
       "      <th>2072</th>\n",
       "      <td>891815181378084864</td>\n",
       "      <td>https://pbs.twimg.com/media/DGBdLU1WsAANxJ9.jpg</td>\n",
       "      <td>1</td>\n",
       "      <td>Chihuahua</td>\n",
       "      <td>0.716012</td>\n",
       "      <td>True</td>\n",
       "      <td>malamute</td>\n",
       "      <td>0.078253</td>\n",
       "      <td>True</td>\n",
       "      <td>kelpie</td>\n",
       "      <td>0.031379</td>\n",
       "      <td>True</td>\n",
       "    </tr>\n",
       "    <tr>\n",
       "      <th>2073</th>\n",
       "      <td>892177421306343426</td>\n",
       "      <td>https://pbs.twimg.com/media/DGGmoV4XsAAUL6n.jpg</td>\n",
       "      <td>1</td>\n",
       "      <td>Chihuahua</td>\n",
       "      <td>0.323581</td>\n",
       "      <td>True</td>\n",
       "      <td>Pekinese</td>\n",
       "      <td>0.090647</td>\n",
       "      <td>True</td>\n",
       "      <td>papillon</td>\n",
       "      <td>0.068957</td>\n",
       "      <td>True</td>\n",
       "    </tr>\n",
       "    <tr>\n",
       "      <th>2074</th>\n",
       "      <td>892420643555336193</td>\n",
       "      <td>https://pbs.twimg.com/media/DGKD1-bXoAAIAUK.jpg</td>\n",
       "      <td>1</td>\n",
       "      <td>orange</td>\n",
       "      <td>0.097049</td>\n",
       "      <td>False</td>\n",
       "      <td>bagel</td>\n",
       "      <td>0.085851</td>\n",
       "      <td>False</td>\n",
       "      <td>banana</td>\n",
       "      <td>0.076110</td>\n",
       "      <td>False</td>\n",
       "    </tr>\n",
       "  </tbody>\n",
       "</table>\n",
       "<p>2075 rows × 12 columns</p>\n",
       "</div>"
      ],
      "text/plain": [
       "                tweet_id                                          jpg_url  \\\n",
       "0     666020888022790149  https://pbs.twimg.com/media/CT4udn0WwAA0aMy.jpg   \n",
       "1     666029285002620928  https://pbs.twimg.com/media/CT42GRgUYAA5iDo.jpg   \n",
       "2     666033412701032449  https://pbs.twimg.com/media/CT4521TWwAEvMyu.jpg   \n",
       "3     666044226329800704  https://pbs.twimg.com/media/CT5Dr8HUEAA-lEu.jpg   \n",
       "4     666049248165822465  https://pbs.twimg.com/media/CT5IQmsXIAAKY4A.jpg   \n",
       "...                  ...                                              ...   \n",
       "2070  891327558926688256  https://pbs.twimg.com/media/DF6hr6BUMAAzZgT.jpg   \n",
       "2071  891689557279858688  https://pbs.twimg.com/media/DF_q7IAWsAEuuN8.jpg   \n",
       "2072  891815181378084864  https://pbs.twimg.com/media/DGBdLU1WsAANxJ9.jpg   \n",
       "2073  892177421306343426  https://pbs.twimg.com/media/DGGmoV4XsAAUL6n.jpg   \n",
       "2074  892420643555336193  https://pbs.twimg.com/media/DGKD1-bXoAAIAUK.jpg   \n",
       "\n",
       "      img_num                      p1   p1_conf  p1_dog                  p2  \\\n",
       "0           1  Welsh_springer_spaniel  0.465074    True              collie   \n",
       "1           1                 redbone  0.506826    True  miniature_pinscher   \n",
       "2           1         German_shepherd  0.596461    True            malinois   \n",
       "3           1     Rhodesian_ridgeback  0.408143    True             redbone   \n",
       "4           1      miniature_pinscher  0.560311    True          Rottweiler   \n",
       "...       ...                     ...       ...     ...                 ...   \n",
       "2070        2                  basset  0.555712    True    English_springer   \n",
       "2071        1             paper_towel  0.170278   False  Labrador_retriever   \n",
       "2072        1               Chihuahua  0.716012    True            malamute   \n",
       "2073        1               Chihuahua  0.323581    True            Pekinese   \n",
       "2074        1                  orange  0.097049   False               bagel   \n",
       "\n",
       "       p2_conf  p2_dog                           p3   p3_conf  p3_dog  \n",
       "0     0.156665    True            Shetland_sheepdog  0.061428    True  \n",
       "1     0.074192    True          Rhodesian_ridgeback  0.072010    True  \n",
       "2     0.138584    True                   bloodhound  0.116197    True  \n",
       "3     0.360687    True           miniature_pinscher  0.222752    True  \n",
       "4     0.243682    True                     Doberman  0.154629    True  \n",
       "...        ...     ...                          ...       ...     ...  \n",
       "2070  0.225770    True  German_short-haired_pointer  0.175219    True  \n",
       "2071  0.168086    True                      spatula  0.040836   False  \n",
       "2072  0.078253    True                       kelpie  0.031379    True  \n",
       "2073  0.090647    True                     papillon  0.068957    True  \n",
       "2074  0.085851   False                       banana  0.076110   False  \n",
       "\n",
       "[2075 rows x 12 columns]"
      ]
     },
     "execution_count": 88,
     "metadata": {},
     "output_type": "execute_result"
    }
   ],
   "source": [
    "#view the data\n",
    "df_clean2"
   ]
  },
  {
   "cell_type": "markdown",
   "id": "cdda0de0",
   "metadata": {},
   "source": [
    "# Define"
   ]
  },
  {
   "cell_type": "raw",
   "id": "8c056dd0",
   "metadata": {},
   "source": [
    "#lets get the names renamed properlly"
   ]
  },
  {
   "cell_type": "markdown",
   "id": "d05b2631",
   "metadata": {},
   "source": [
    "# Code"
   ]
  },
  {
   "cell_type": "code",
   "execution_count": 89,
   "id": "cd1bc184",
   "metadata": {},
   "outputs": [],
   "source": [
    "df_clean2 = df_clean2.rename(columns = {'p1':'first_prediction', 'p1_conf': 'first_confidence','p2':'second_prediction', 'p2_conf': 'second_confidence'\n",
    "                             ,'p3':'third_prediction', 'p3_conf': 'third_confidence', 'p1_dog': 'first_dog', 'p2_dog': 'second_dog','p3_dog': 'third_dog'})"
   ]
  },
  {
   "cell_type": "markdown",
   "id": "5b323a17",
   "metadata": {},
   "source": [
    "# Test"
   ]
  },
  {
   "cell_type": "code",
   "execution_count": 90,
   "id": "0c364a55",
   "metadata": {},
   "outputs": [
    {
     "name": "stdout",
     "output_type": "stream",
     "text": [
      "<class 'pandas.core.frame.DataFrame'>\n",
      "RangeIndex: 2075 entries, 0 to 2074\n",
      "Data columns (total 12 columns):\n",
      " #   Column             Non-Null Count  Dtype  \n",
      "---  ------             --------------  -----  \n",
      " 0   tweet_id           2075 non-null   int64  \n",
      " 1   jpg_url            2075 non-null   object \n",
      " 2   img_num            2075 non-null   int64  \n",
      " 3   first_prediction   2075 non-null   object \n",
      " 4   first_confidence   2075 non-null   float64\n",
      " 5   first_dog          2075 non-null   bool   \n",
      " 6   second_prediction  2075 non-null   object \n",
      " 7   second_confidence  2075 non-null   float64\n",
      " 8   second_dog         2075 non-null   bool   \n",
      " 9   third_prediction   2075 non-null   object \n",
      " 10  third_confidence   2075 non-null   float64\n",
      " 11  third_dog          2075 non-null   bool   \n",
      "dtypes: bool(3), float64(3), int64(2), object(4)\n",
      "memory usage: 152.1+ KB\n"
     ]
    }
   ],
   "source": [
    "#check if has been renamed.\n",
    "df_clean2.info()"
   ]
  },
  {
   "cell_type": "markdown",
   "id": "0f4678aa",
   "metadata": {},
   "source": [
    "# Define"
   ]
  },
  {
   "cell_type": "raw",
   "id": "f5e79133",
   "metadata": {},
   "source": [
    "#check for duplicate in the image_url, keep the first duplicated and delete others"
   ]
  },
  {
   "cell_type": "markdown",
   "id": "bf499e38",
   "metadata": {},
   "source": [
    "# Code"
   ]
  },
  {
   "cell_type": "code",
   "execution_count": 91,
   "id": "b6084709",
   "metadata": {},
   "outputs": [],
   "source": [
    "df_clean2 = df_clean2.drop_duplicates(subset = ['jpg_url'], keep = 'first')"
   ]
  },
  {
   "cell_type": "markdown",
   "id": "b55a3295",
   "metadata": {},
   "source": [
    "# Test & check it out"
   ]
  },
  {
   "cell_type": "code",
   "execution_count": 92,
   "id": "08152947",
   "metadata": {},
   "outputs": [
    {
     "data": {
      "text/plain": [
       "0"
      ]
     },
     "execution_count": 92,
     "metadata": {},
     "output_type": "execute_result"
    }
   ],
   "source": [
    "df_clean2.jpg_url.duplicated().sum()"
   ]
  },
  {
   "cell_type": "raw",
   "id": "7973e1ac",
   "metadata": {},
   "source": [
    "#No duplicate again"
   ]
  },
  {
   "cell_type": "markdown",
   "id": "e8b7d300",
   "metadata": {},
   "source": [
    "# Define"
   ]
  },
  {
   "cell_type": "raw",
   "id": "2a312b9e",
   "metadata": {},
   "source": [
    "#lets capitalize the firts letter"
   ]
  },
  {
   "cell_type": "markdown",
   "id": "38db944e",
   "metadata": {},
   "source": [
    "# Code"
   ]
  },
  {
   "cell_type": "code",
   "execution_count": 93,
   "id": "7f64b474",
   "metadata": {},
   "outputs": [],
   "source": [
    "df_clean2.first_prediction = df_clean2.first_prediction.str.capitalize()\n",
    "df_clean2.second_prediction = df_clean2.second_prediction.str.capitalize()\n",
    "df_clean2.third_prediction = df_clean2.third_prediction.str.capitalize()"
   ]
  },
  {
   "cell_type": "markdown",
   "id": "8731c377",
   "metadata": {},
   "source": [
    "# Test"
   ]
  },
  {
   "cell_type": "code",
   "execution_count": 95,
   "id": "8f1733fb",
   "metadata": {},
   "outputs": [
    {
     "data": {
      "text/html": [
       "<div>\n",
       "<style scoped>\n",
       "    .dataframe tbody tr th:only-of-type {\n",
       "        vertical-align: middle;\n",
       "    }\n",
       "\n",
       "    .dataframe tbody tr th {\n",
       "        vertical-align: top;\n",
       "    }\n",
       "\n",
       "    .dataframe thead th {\n",
       "        text-align: right;\n",
       "    }\n",
       "</style>\n",
       "<table border=\"1\" class=\"dataframe\">\n",
       "  <thead>\n",
       "    <tr style=\"text-align: right;\">\n",
       "      <th></th>\n",
       "      <th>tweet_id</th>\n",
       "      <th>jpg_url</th>\n",
       "      <th>img_num</th>\n",
       "      <th>first_prediction</th>\n",
       "      <th>first_confidence</th>\n",
       "      <th>first_dog</th>\n",
       "      <th>second_prediction</th>\n",
       "      <th>second_confidence</th>\n",
       "      <th>second_dog</th>\n",
       "      <th>third_prediction</th>\n",
       "      <th>third_confidence</th>\n",
       "      <th>third_dog</th>\n",
       "    </tr>\n",
       "  </thead>\n",
       "  <tbody>\n",
       "    <tr>\n",
       "      <th>0</th>\n",
       "      <td>666020888022790149</td>\n",
       "      <td>https://pbs.twimg.com/media/CT4udn0WwAA0aMy.jpg</td>\n",
       "      <td>1</td>\n",
       "      <td>Welsh_springer_spaniel</td>\n",
       "      <td>0.465074</td>\n",
       "      <td>True</td>\n",
       "      <td>Collie</td>\n",
       "      <td>0.156665</td>\n",
       "      <td>True</td>\n",
       "      <td>Shetland_sheepdog</td>\n",
       "      <td>0.061428</td>\n",
       "      <td>True</td>\n",
       "    </tr>\n",
       "    <tr>\n",
       "      <th>1</th>\n",
       "      <td>666029285002620928</td>\n",
       "      <td>https://pbs.twimg.com/media/CT42GRgUYAA5iDo.jpg</td>\n",
       "      <td>1</td>\n",
       "      <td>Redbone</td>\n",
       "      <td>0.506826</td>\n",
       "      <td>True</td>\n",
       "      <td>Miniature_pinscher</td>\n",
       "      <td>0.074192</td>\n",
       "      <td>True</td>\n",
       "      <td>Rhodesian_ridgeback</td>\n",
       "      <td>0.072010</td>\n",
       "      <td>True</td>\n",
       "    </tr>\n",
       "  </tbody>\n",
       "</table>\n",
       "</div>"
      ],
      "text/plain": [
       "             tweet_id                                          jpg_url  \\\n",
       "0  666020888022790149  https://pbs.twimg.com/media/CT4udn0WwAA0aMy.jpg   \n",
       "1  666029285002620928  https://pbs.twimg.com/media/CT42GRgUYAA5iDo.jpg   \n",
       "\n",
       "   img_num        first_prediction  first_confidence  first_dog  \\\n",
       "0        1  Welsh_springer_spaniel          0.465074       True   \n",
       "1        1                 Redbone          0.506826       True   \n",
       "\n",
       "    second_prediction  second_confidence  second_dog     third_prediction  \\\n",
       "0              Collie           0.156665        True    Shetland_sheepdog   \n",
       "1  Miniature_pinscher           0.074192        True  Rhodesian_ridgeback   \n",
       "\n",
       "   third_confidence  third_dog  \n",
       "0          0.061428       True  \n",
       "1          0.072010       True  "
      ]
     },
     "execution_count": 95,
     "metadata": {},
     "output_type": "execute_result"
    }
   ],
   "source": [
    "#lets check it out\n",
    "df_clean2.head(2)"
   ]
  },
  {
   "cell_type": "markdown",
   "id": "dd4ec7a6",
   "metadata": {},
   "source": [
    "# Define"
   ]
  },
  {
   "cell_type": "raw",
   "id": "efa80bf6",
   "metadata": {},
   "source": [
    "#lets get rid of img_url column"
   ]
  },
  {
   "cell_type": "markdown",
   "id": "00f100c5",
   "metadata": {},
   "source": [
    "# Code"
   ]
  },
  {
   "cell_type": "code",
   "execution_count": 96,
   "id": "c1782a93",
   "metadata": {},
   "outputs": [],
   "source": [
    "df_clean2 = df_clean2.drop(['img_num'],1)"
   ]
  },
  {
   "cell_type": "markdown",
   "id": "a1e7e7e3",
   "metadata": {},
   "source": [
    "# Test & check it out"
   ]
  },
  {
   "cell_type": "code",
   "execution_count": 97,
   "id": "52278479",
   "metadata": {},
   "outputs": [
    {
     "name": "stdout",
     "output_type": "stream",
     "text": [
      "<class 'pandas.core.frame.DataFrame'>\n",
      "Int64Index: 2009 entries, 0 to 2074\n",
      "Data columns (total 11 columns):\n",
      " #   Column             Non-Null Count  Dtype  \n",
      "---  ------             --------------  -----  \n",
      " 0   tweet_id           2009 non-null   int64  \n",
      " 1   jpg_url            2009 non-null   object \n",
      " 2   first_prediction   2009 non-null   object \n",
      " 3   first_confidence   2009 non-null   float64\n",
      " 4   first_dog          2009 non-null   bool   \n",
      " 5   second_prediction  2009 non-null   object \n",
      " 6   second_confidence  2009 non-null   float64\n",
      " 7   second_dog         2009 non-null   bool   \n",
      " 8   third_prediction   2009 non-null   object \n",
      " 9   third_confidence   2009 non-null   float64\n",
      " 10  third_dog          2009 non-null   bool   \n",
      "dtypes: bool(3), float64(3), int64(1), object(4)\n",
      "memory usage: 147.1+ KB\n"
     ]
    }
   ],
   "source": [
    "df_clean2.info()"
   ]
  },
  {
   "cell_type": "markdown",
   "id": "a5c93d4d",
   "metadata": {},
   "source": [
    "# get a copy of df2 for cleaning purpose and get the dataset info "
   ]
  },
  {
   "cell_type": "code",
   "execution_count": 98,
   "id": "587e1e3f",
   "metadata": {},
   "outputs": [
    {
     "name": "stdout",
     "output_type": "stream",
     "text": [
      "<class 'pandas.core.frame.DataFrame'>\n",
      "RangeIndex: 2354 entries, 0 to 2353\n",
      "Data columns (total 31 columns):\n",
      " #   Column                         Non-Null Count  Dtype              \n",
      "---  ------                         --------------  -----              \n",
      " 0   created_at                     2354 non-null   datetime64[ns, UTC]\n",
      " 1   id                             2354 non-null   int64              \n",
      " 2   id_str                         2354 non-null   int64              \n",
      " 3   full_text                      2354 non-null   object             \n",
      " 4   truncated                      2354 non-null   bool               \n",
      " 5   display_text_range             2354 non-null   object             \n",
      " 6   entities                       2354 non-null   object             \n",
      " 7   extended_entities              2073 non-null   object             \n",
      " 8   source                         2354 non-null   object             \n",
      " 9   in_reply_to_status_id          78 non-null     float64            \n",
      " 10  in_reply_to_status_id_str      78 non-null     float64            \n",
      " 11  in_reply_to_user_id            78 non-null     float64            \n",
      " 12  in_reply_to_user_id_str        78 non-null     float64            \n",
      " 13  in_reply_to_screen_name        78 non-null     object             \n",
      " 14  user                           2354 non-null   object             \n",
      " 15  geo                            0 non-null      float64            \n",
      " 16  coordinates                    0 non-null      float64            \n",
      " 17  place                          1 non-null      object             \n",
      " 18  contributors                   0 non-null      float64            \n",
      " 19  is_quote_status                2354 non-null   bool               \n",
      " 20  retweet_count                  2354 non-null   int64              \n",
      " 21  favorite_count                 2354 non-null   int64              \n",
      " 22  favorited                      2354 non-null   bool               \n",
      " 23  retweeted                      2354 non-null   bool               \n",
      " 24  possibly_sensitive             2211 non-null   float64            \n",
      " 25  possibly_sensitive_appealable  2211 non-null   float64            \n",
      " 26  lang                           2354 non-null   object             \n",
      " 27  retweeted_status               179 non-null    object             \n",
      " 28  quoted_status_id               29 non-null     float64            \n",
      " 29  quoted_status_id_str           29 non-null     float64            \n",
      " 30  quoted_status                  28 non-null     object             \n",
      "dtypes: bool(4), datetime64[ns, UTC](1), float64(11), int64(4), object(11)\n",
      "memory usage: 505.9+ KB\n"
     ]
    }
   ],
   "source": [
    "#get a copy of df2 and get the dataset info \n",
    "df_clean3 = df2.copy()\n",
    "df_clean3.info()"
   ]
  },
  {
   "cell_type": "markdown",
   "id": "39c08a20",
   "metadata": {},
   "source": [
    "# Define"
   ]
  },
  {
   "cell_type": "raw",
   "id": "bba6dda6",
   "metadata": {},
   "source": [
    "#reaname id to tweet_id"
   ]
  },
  {
   "cell_type": "markdown",
   "id": "98ddf4db",
   "metadata": {},
   "source": [
    "# Code"
   ]
  },
  {
   "cell_type": "code",
   "execution_count": 99,
   "id": "b355d0cc",
   "metadata": {},
   "outputs": [],
   "source": [
    "#reaname id to tweet_id\n",
    "df_clean3 = df_clean3.rename(columns={'id':'tweet_id'})"
   ]
  },
  {
   "cell_type": "markdown",
   "id": "6adf3d76",
   "metadata": {},
   "source": [
    "# Test"
   ]
  },
  {
   "cell_type": "code",
   "execution_count": 100,
   "id": "622ae72b",
   "metadata": {},
   "outputs": [
    {
     "data": {
      "text/html": [
       "<div>\n",
       "<style scoped>\n",
       "    .dataframe tbody tr th:only-of-type {\n",
       "        vertical-align: middle;\n",
       "    }\n",
       "\n",
       "    .dataframe tbody tr th {\n",
       "        vertical-align: top;\n",
       "    }\n",
       "\n",
       "    .dataframe thead th {\n",
       "        text-align: right;\n",
       "    }\n",
       "</style>\n",
       "<table border=\"1\" class=\"dataframe\">\n",
       "  <thead>\n",
       "    <tr style=\"text-align: right;\">\n",
       "      <th></th>\n",
       "      <th>created_at</th>\n",
       "      <th>tweet_id</th>\n",
       "      <th>id_str</th>\n",
       "      <th>full_text</th>\n",
       "      <th>truncated</th>\n",
       "      <th>display_text_range</th>\n",
       "      <th>entities</th>\n",
       "      <th>extended_entities</th>\n",
       "      <th>source</th>\n",
       "      <th>in_reply_to_status_id</th>\n",
       "      <th>...</th>\n",
       "      <th>favorite_count</th>\n",
       "      <th>favorited</th>\n",
       "      <th>retweeted</th>\n",
       "      <th>possibly_sensitive</th>\n",
       "      <th>possibly_sensitive_appealable</th>\n",
       "      <th>lang</th>\n",
       "      <th>retweeted_status</th>\n",
       "      <th>quoted_status_id</th>\n",
       "      <th>quoted_status_id_str</th>\n",
       "      <th>quoted_status</th>\n",
       "    </tr>\n",
       "  </thead>\n",
       "  <tbody>\n",
       "  </tbody>\n",
       "</table>\n",
       "<p>0 rows × 31 columns</p>\n",
       "</div>"
      ],
      "text/plain": [
       "Empty DataFrame\n",
       "Columns: [created_at, tweet_id, id_str, full_text, truncated, display_text_range, entities, extended_entities, source, in_reply_to_status_id, in_reply_to_status_id_str, in_reply_to_user_id, in_reply_to_user_id_str, in_reply_to_screen_name, user, geo, coordinates, place, contributors, is_quote_status, retweet_count, favorite_count, favorited, retweeted, possibly_sensitive, possibly_sensitive_appealable, lang, retweeted_status, quoted_status_id, quoted_status_id_str, quoted_status]\n",
       "Index: []\n",
       "\n",
       "[0 rows x 31 columns]"
      ]
     },
     "execution_count": 100,
     "metadata": {},
     "output_type": "execute_result"
    }
   ],
   "source": [
    "#lets check it out\n",
    "df_clean3.head(0)"
   ]
  },
  {
   "cell_type": "markdown",
   "id": "3b4e8684",
   "metadata": {},
   "source": [
    "# Define"
   ]
  },
  {
   "cell_type": "raw",
   "id": "bc9a6c26",
   "metadata": {},
   "source": [
    "#lets null some of our unwanted colums before droping them"
   ]
  },
  {
   "cell_type": "markdown",
   "id": "87030dd2",
   "metadata": {},
   "source": [
    "# Code"
   ]
  },
  {
   "cell_type": "code",
   "execution_count": 101,
   "id": "d3baf3db",
   "metadata": {},
   "outputs": [],
   "source": [
    "#lets null some of our unwanted colums before droping them\n",
    "df_clean3 = df_clean3[df_clean3.in_reply_to_status_id_str.isnull()]\n",
    "df_clean3 = df_clean3[df_clean3.retweeted_status.isnull()]"
   ]
  },
  {
   "cell_type": "markdown",
   "id": "482a9825",
   "metadata": {},
   "source": [
    "# Test"
   ]
  },
  {
   "cell_type": "code",
   "execution_count": 102,
   "id": "24dc0f8c",
   "metadata": {},
   "outputs": [
    {
     "name": "stdout",
     "output_type": "stream",
     "text": [
      "<class 'pandas.core.frame.DataFrame'>\n",
      "Int64Index: 2097 entries, 0 to 2353\n",
      "Data columns (total 31 columns):\n",
      " #   Column                         Non-Null Count  Dtype              \n",
      "---  ------                         --------------  -----              \n",
      " 0   created_at                     2097 non-null   datetime64[ns, UTC]\n",
      " 1   tweet_id                       2097 non-null   int64              \n",
      " 2   id_str                         2097 non-null   int64              \n",
      " 3   full_text                      2097 non-null   object             \n",
      " 4   truncated                      2097 non-null   bool               \n",
      " 5   display_text_range             2097 non-null   object             \n",
      " 6   entities                       2097 non-null   object             \n",
      " 7   extended_entities              1971 non-null   object             \n",
      " 8   source                         2097 non-null   object             \n",
      " 9   in_reply_to_status_id          0 non-null      float64            \n",
      " 10  in_reply_to_status_id_str      0 non-null      float64            \n",
      " 11  in_reply_to_user_id            0 non-null      float64            \n",
      " 12  in_reply_to_user_id_str        0 non-null      float64            \n",
      " 13  in_reply_to_screen_name        0 non-null      object             \n",
      " 14  user                           2097 non-null   object             \n",
      " 15  geo                            0 non-null      float64            \n",
      " 16  coordinates                    0 non-null      float64            \n",
      " 17  place                          1 non-null      object             \n",
      " 18  contributors                   0 non-null      float64            \n",
      " 19  is_quote_status                2097 non-null   bool               \n",
      " 20  retweet_count                  2097 non-null   int64              \n",
      " 21  favorite_count                 2097 non-null   int64              \n",
      " 22  favorited                      2097 non-null   bool               \n",
      " 23  retweeted                      2097 non-null   bool               \n",
      " 24  possibly_sensitive             2094 non-null   float64            \n",
      " 25  possibly_sensitive_appealable  2094 non-null   float64            \n",
      " 26  lang                           2097 non-null   object             \n",
      " 27  retweeted_status               0 non-null      object             \n",
      " 28  quoted_status_id               28 non-null     float64            \n",
      " 29  quoted_status_id_str           28 non-null     float64            \n",
      " 30  quoted_status                  28 non-null     object             \n",
      "dtypes: bool(4), datetime64[ns, UTC](1), float64(11), int64(4), object(11)\n",
      "memory usage: 466.9+ KB\n"
     ]
    }
   ],
   "source": [
    "#lets check it out\n",
    "df_clean3.info()"
   ]
  },
  {
   "cell_type": "markdown",
   "id": "2719620d",
   "metadata": {},
   "source": [
    "# Define"
   ]
  },
  {
   "cell_type": "raw",
   "id": "6664e92a",
   "metadata": {},
   "source": [
    "#delete unwanted columns"
   ]
  },
  {
   "cell_type": "markdown",
   "id": "72d293d6",
   "metadata": {},
   "source": [
    "# Code"
   ]
  },
  {
   "cell_type": "code",
   "execution_count": 103,
   "id": "a0697270",
   "metadata": {},
   "outputs": [],
   "source": [
    "#delete unwanted columns\n",
    "df_clean3 = df_clean3.drop(['id_str', 'full_text','truncated','display_text_range', 'entities','extended_entities','source',\n",
    "'in_reply_to_status_id','in_reply_to_status_id_str','in_reply_to_user_id','in_reply_to_user_id','in_reply_to_user_id_str',\n",
    "'in_reply_to_screen_name','user','coordinates','place','contributors', 'is_quote_status','favorited','retweeted',\n",
    "'possibly_sensitive','possibly_sensitive_appealable','retweeted_status','quoted_status_id','quoted_status_id_str',\n",
    "'quoted_status', 'created_at', 'geo'], axis = 1)"
   ]
  },
  {
   "cell_type": "markdown",
   "id": "7c6863d2",
   "metadata": {},
   "source": [
    "# Test"
   ]
  },
  {
   "cell_type": "code",
   "execution_count": 104,
   "id": "28cfe5f0",
   "metadata": {},
   "outputs": [
    {
     "data": {
      "text/plain": [
       "['tweet_id', 'retweet_count', 'favorite_count', 'lang']"
      ]
     },
     "execution_count": 104,
     "metadata": {},
     "output_type": "execute_result"
    }
   ],
   "source": [
    "#check it out\n",
    "list(df_clean3)"
   ]
  },
  {
   "cell_type": "code",
   "execution_count": 105,
   "id": "f5724adc",
   "metadata": {},
   "outputs": [
    {
     "data": {
      "text/html": [
       "<div>\n",
       "<style scoped>\n",
       "    .dataframe tbody tr th:only-of-type {\n",
       "        vertical-align: middle;\n",
       "    }\n",
       "\n",
       "    .dataframe tbody tr th {\n",
       "        vertical-align: top;\n",
       "    }\n",
       "\n",
       "    .dataframe thead th {\n",
       "        text-align: right;\n",
       "    }\n",
       "</style>\n",
       "<table border=\"1\" class=\"dataframe\">\n",
       "  <thead>\n",
       "    <tr style=\"text-align: right;\">\n",
       "      <th></th>\n",
       "      <th>tweet_id</th>\n",
       "      <th>retweet_count</th>\n",
       "      <th>favorite_count</th>\n",
       "      <th>lang</th>\n",
       "    </tr>\n",
       "  </thead>\n",
       "  <tbody>\n",
       "  </tbody>\n",
       "</table>\n",
       "</div>"
      ],
      "text/plain": [
       "Empty DataFrame\n",
       "Columns: [tweet_id, retweet_count, favorite_count, lang]\n",
       "Index: []"
      ]
     },
     "execution_count": 105,
     "metadata": {},
     "output_type": "execute_result"
    }
   ],
   "source": [
    "#check it out again\n",
    "df_clean3.head(0)"
   ]
  },
  {
   "cell_type": "markdown",
   "id": "5efa7d04",
   "metadata": {},
   "source": [
    "# Define"
   ]
  },
  {
   "cell_type": "raw",
   "id": "445ed6ac",
   "metadata": {},
   "source": [
    "#its time to merge the 3 tables but i will merged df_clean1 and _df_clean2 one first"
   ]
  },
  {
   "cell_type": "markdown",
   "id": "c7cfa1ca",
   "metadata": {},
   "source": [
    "# Code"
   ]
  },
  {
   "cell_type": "code",
   "execution_count": 106,
   "id": "cf7f8770",
   "metadata": {},
   "outputs": [],
   "source": [
    "df_merger = pd.merge(df_clean1,df_clean3, how = 'inner',on = None, left_on = None, right_on = None, right_index = False,\n",
    "suffixes = ('_x','_y'), copy = True,left_index = False, sort = True, indicator = False, validate = None)"
   ]
  },
  {
   "cell_type": "markdown",
   "id": "78deb341",
   "metadata": {},
   "source": [
    "# Test"
   ]
  },
  {
   "cell_type": "code",
   "execution_count": 107,
   "id": "b032e1f5",
   "metadata": {},
   "outputs": [
    {
     "name": "stdout",
     "output_type": "stream",
     "text": [
      "<class 'pandas.core.frame.DataFrame'>\n",
      "Int64Index: 2097 entries, 0 to 2096\n",
      "Data columns (total 12 columns):\n",
      " #   Column              Non-Null Count  Dtype  \n",
      "---  ------              --------------  -----  \n",
      " 0   tweet_id            2097 non-null   int64  \n",
      " 1   tweet               2097 non-null   object \n",
      " 2   rating_numerator    2097 non-null   float64\n",
      " 3   rating_denominator  2097 non-null   float64\n",
      " 4   name                2042 non-null   object \n",
      " 5   dog_phase           336 non-null    object \n",
      " 6   Year                2097 non-null   int64  \n",
      " 7   Month               2097 non-null   int64  \n",
      " 8   WeekDay             2097 non-null   object \n",
      " 9   retweet_count       2097 non-null   int64  \n",
      " 10  favorite_count      2097 non-null   int64  \n",
      " 11  lang                2097 non-null   object \n",
      "dtypes: float64(2), int64(5), object(5)\n",
      "memory usage: 213.0+ KB\n"
     ]
    }
   ],
   "source": [
    "#check out the merged table\n",
    "df_merger.info()"
   ]
  },
  {
   "cell_type": "code",
   "execution_count": 108,
   "id": "c321ef70",
   "metadata": {},
   "outputs": [
    {
     "data": {
      "text/plain": [
       "(2097, 12)"
      ]
     },
     "execution_count": 108,
     "metadata": {},
     "output_type": "execute_result"
    }
   ],
   "source": [
    "#check the merged table dimension\n",
    "df_merger.shape"
   ]
  },
  {
   "cell_type": "markdown",
   "id": "443de7c7",
   "metadata": {},
   "source": [
    "# Define"
   ]
  },
  {
   "cell_type": "raw",
   "id": "ad4f54b6",
   "metadata": {},
   "source": [
    "#check the merged table dimension"
   ]
  },
  {
   "cell_type": "markdown",
   "id": "9270f01c",
   "metadata": {},
   "source": [
    "# Code"
   ]
  },
  {
   "cell_type": "code",
   "execution_count": 109,
   "id": "1245ed7c",
   "metadata": {},
   "outputs": [],
   "source": [
    "#merging the df_merger with df_clean1 table\n",
    "df_mergged_all = pd.merge(df_merger,df_clean2, how = 'inner',on = None, left_on = None, right_on = None, right_index = False,\n",
    "suffixes = ('_x','_y'), copy = True,left_index = False, sort = True, indicator = False, validate = None)"
   ]
  },
  {
   "cell_type": "markdown",
   "id": "16b29eff",
   "metadata": {},
   "source": [
    "# check out the df_merged_all table"
   ]
  },
  {
   "cell_type": "code",
   "execution_count": 92,
   "id": "2a7df792",
   "metadata": {},
   "outputs": [
    {
     "name": "stdout",
     "output_type": "stream",
     "text": [
      "<class 'pandas.core.frame.DataFrame'>\n",
      "Int64Index: 1971 entries, 0 to 1970\n",
      "Data columns (total 22 columns):\n",
      " #   Column              Non-Null Count  Dtype  \n",
      "---  ------              --------------  -----  \n",
      " 0   tweet_id            1971 non-null   int64  \n",
      " 1   tweet               1971 non-null   object \n",
      " 2   rating_numerator    1971 non-null   float64\n",
      " 3   rating_denominator  1971 non-null   float64\n",
      " 4   name                1916 non-null   object \n",
      " 5   dog_phase           303 non-null    object \n",
      " 6   Year                1971 non-null   int64  \n",
      " 7   Month               1971 non-null   int64  \n",
      " 8   WeekDay             1971 non-null   object \n",
      " 9   retweet_count       1971 non-null   int64  \n",
      " 10  favorite_count      1971 non-null   int64  \n",
      " 11  lang                1971 non-null   object \n",
      " 12  jpg_url             1971 non-null   object \n",
      " 13  first_prediction    1971 non-null   object \n",
      " 14  first_confidence    1971 non-null   float64\n",
      " 15  first_dog           1971 non-null   bool   \n",
      " 16  second_prediction   1971 non-null   object \n",
      " 17  second_confidence   1971 non-null   float64\n",
      " 18  second_dog          1971 non-null   bool   \n",
      " 19  third_prediction    1971 non-null   object \n",
      " 20  third_confidence    1971 non-null   float64\n",
      " 21  third_dog           1971 non-null   bool   \n",
      "dtypes: bool(3), float64(5), int64(5), object(9)\n",
      "memory usage: 313.7+ KB\n"
     ]
    }
   ],
   "source": [
    "#check out the df_merged_all table\n",
    "df_mergged_all.info()"
   ]
  },
  {
   "cell_type": "code",
   "execution_count": 110,
   "id": "5c478a8d",
   "metadata": {},
   "outputs": [
    {
     "data": {
      "text/html": [
       "<div>\n",
       "<style scoped>\n",
       "    .dataframe tbody tr th:only-of-type {\n",
       "        vertical-align: middle;\n",
       "    }\n",
       "\n",
       "    .dataframe tbody tr th {\n",
       "        vertical-align: top;\n",
       "    }\n",
       "\n",
       "    .dataframe thead th {\n",
       "        text-align: right;\n",
       "    }\n",
       "</style>\n",
       "<table border=\"1\" class=\"dataframe\">\n",
       "  <thead>\n",
       "    <tr style=\"text-align: right;\">\n",
       "      <th></th>\n",
       "      <th>tweet_id</th>\n",
       "      <th>tweet</th>\n",
       "      <th>rating_numerator</th>\n",
       "      <th>rating_denominator</th>\n",
       "      <th>name</th>\n",
       "      <th>dog_phase</th>\n",
       "      <th>Year</th>\n",
       "      <th>Month</th>\n",
       "      <th>WeekDay</th>\n",
       "      <th>retweet_count</th>\n",
       "      <th>...</th>\n",
       "      <th>jpg_url</th>\n",
       "      <th>first_prediction</th>\n",
       "      <th>first_confidence</th>\n",
       "      <th>first_dog</th>\n",
       "      <th>second_prediction</th>\n",
       "      <th>second_confidence</th>\n",
       "      <th>second_dog</th>\n",
       "      <th>third_prediction</th>\n",
       "      <th>third_confidence</th>\n",
       "      <th>third_dog</th>\n",
       "    </tr>\n",
       "  </thead>\n",
       "  <tbody>\n",
       "  </tbody>\n",
       "</table>\n",
       "<p>0 rows × 22 columns</p>\n",
       "</div>"
      ],
      "text/plain": [
       "Empty DataFrame\n",
       "Columns: [tweet_id, tweet, rating_numerator, rating_denominator, name, dog_phase, Year, Month, WeekDay, retweet_count, favorite_count, lang, jpg_url, first_prediction, first_confidence, first_dog, second_prediction, second_confidence, second_dog, third_prediction, third_confidence, third_dog]\n",
       "Index: []\n",
       "\n",
       "[0 rows x 22 columns]"
      ]
     },
     "execution_count": 110,
     "metadata": {},
     "output_type": "execute_result"
    }
   ],
   "source": [
    "#lets check the column names again\n",
    "df_mergged_all.head(0)"
   ]
  },
  {
   "cell_type": "markdown",
   "id": "471214b6",
   "metadata": {},
   "source": [
    "# Define"
   ]
  },
  {
   "cell_type": "raw",
   "id": "18a1744c",
   "metadata": {},
   "source": [
    "#lets check the data base on date value"
   ]
  },
  {
   "cell_type": "markdown",
   "id": "7529c961",
   "metadata": {},
   "source": [
    "# Code and Test"
   ]
  },
  {
   "cell_type": "code",
   "execution_count": 111,
   "id": "faf0940b",
   "metadata": {},
   "outputs": [
    {
     "data": {
      "text/html": [
       "<div>\n",
       "<style scoped>\n",
       "    .dataframe tbody tr th:only-of-type {\n",
       "        vertical-align: middle;\n",
       "    }\n",
       "\n",
       "    .dataframe tbody tr th {\n",
       "        vertical-align: top;\n",
       "    }\n",
       "\n",
       "    .dataframe thead th {\n",
       "        text-align: right;\n",
       "    }\n",
       "</style>\n",
       "<table border=\"1\" class=\"dataframe\">\n",
       "  <thead>\n",
       "    <tr style=\"text-align: right;\">\n",
       "      <th></th>\n",
       "      <th>tweet_id</th>\n",
       "      <th>tweet</th>\n",
       "      <th>rating_numerator</th>\n",
       "      <th>rating_denominator</th>\n",
       "      <th>name</th>\n",
       "      <th>dog_phase</th>\n",
       "      <th>Year</th>\n",
       "      <th>Month</th>\n",
       "      <th>WeekDay</th>\n",
       "      <th>retweet_count</th>\n",
       "      <th>...</th>\n",
       "      <th>jpg_url</th>\n",
       "      <th>first_prediction</th>\n",
       "      <th>first_confidence</th>\n",
       "      <th>first_dog</th>\n",
       "      <th>second_prediction</th>\n",
       "      <th>second_confidence</th>\n",
       "      <th>second_dog</th>\n",
       "      <th>third_prediction</th>\n",
       "      <th>third_confidence</th>\n",
       "      <th>third_dog</th>\n",
       "    </tr>\n",
       "  </thead>\n",
       "  <tbody>\n",
       "    <tr>\n",
       "      <th>83</th>\n",
       "      <td>667495797102141441</td>\n",
       "      <td>This is Philippe from Soviet Russia. Commandin...</td>\n",
       "      <td>9.0</td>\n",
       "      <td>10.0</td>\n",
       "      <td>Philippe</td>\n",
       "      <td>NaN</td>\n",
       "      <td>2015</td>\n",
       "      <td>11</td>\n",
       "      <td>Friday</td>\n",
       "      <td>294</td>\n",
       "      <td>...</td>\n",
       "      <td>https://pbs.twimg.com/media/CUNr4-7UwAAg2lq.jpg</td>\n",
       "      <td>Chihuahua</td>\n",
       "      <td>0.143957</td>\n",
       "      <td>True</td>\n",
       "      <td>Christmas_stocking</td>\n",
       "      <td>0.118651</td>\n",
       "      <td>False</td>\n",
       "      <td>Ski_mask</td>\n",
       "      <td>0.092482</td>\n",
       "      <td>False</td>\n",
       "    </tr>\n",
       "    <tr>\n",
       "      <th>84</th>\n",
       "      <td>667502640335572993</td>\n",
       "      <td>Say hello to Hall and Oates. Oates is winking ...</td>\n",
       "      <td>11.0</td>\n",
       "      <td>10.0</td>\n",
       "      <td>Hall</td>\n",
       "      <td>NaN</td>\n",
       "      <td>2015</td>\n",
       "      <td>11</td>\n",
       "      <td>Friday</td>\n",
       "      <td>231</td>\n",
       "      <td>...</td>\n",
       "      <td>https://pbs.twimg.com/media/CUNyHTMUYAAQVch.jpg</td>\n",
       "      <td>Labrador_retriever</td>\n",
       "      <td>0.996709</td>\n",
       "      <td>True</td>\n",
       "      <td>Golden_retriever</td>\n",
       "      <td>0.001688</td>\n",
       "      <td>True</td>\n",
       "      <td>Beagle</td>\n",
       "      <td>0.000712</td>\n",
       "      <td>True</td>\n",
       "    </tr>\n",
       "    <tr>\n",
       "      <th>85</th>\n",
       "      <td>667509364010450944</td>\n",
       "      <td>This a Norwegian Pewterschmidt named Tickles. ...</td>\n",
       "      <td>12.0</td>\n",
       "      <td>10.0</td>\n",
       "      <td>None</td>\n",
       "      <td>NaN</td>\n",
       "      <td>2015</td>\n",
       "      <td>11</td>\n",
       "      <td>Friday</td>\n",
       "      <td>2272</td>\n",
       "      <td>...</td>\n",
       "      <td>https://pbs.twimg.com/media/CUN4Or5UAAAa5K4.jpg</td>\n",
       "      <td>Beagle</td>\n",
       "      <td>0.636169</td>\n",
       "      <td>True</td>\n",
       "      <td>Labrador_retriever</td>\n",
       "      <td>0.119256</td>\n",
       "      <td>True</td>\n",
       "      <td>Golden_retriever</td>\n",
       "      <td>0.082549</td>\n",
       "      <td>True</td>\n",
       "    </tr>\n",
       "    <tr>\n",
       "      <th>86</th>\n",
       "      <td>667517642048163840</td>\n",
       "      <td>This is Dook &amp;amp; Milo. Dook is struggling to...</td>\n",
       "      <td>8.0</td>\n",
       "      <td>10.0</td>\n",
       "      <td>Dook</td>\n",
       "      <td>NaN</td>\n",
       "      <td>2015</td>\n",
       "      <td>11</td>\n",
       "      <td>Friday</td>\n",
       "      <td>203</td>\n",
       "      <td>...</td>\n",
       "      <td>https://pbs.twimg.com/media/CUN_wiBUkAAakT0.jpg</td>\n",
       "      <td>Italian_greyhound</td>\n",
       "      <td>0.125176</td>\n",
       "      <td>True</td>\n",
       "      <td>Standard_poodle</td>\n",
       "      <td>0.084571</td>\n",
       "      <td>True</td>\n",
       "      <td>Cocker_spaniel</td>\n",
       "      <td>0.081347</td>\n",
       "      <td>True</td>\n",
       "    </tr>\n",
       "    <tr>\n",
       "      <th>87</th>\n",
       "      <td>667524857454854144</td>\n",
       "      <td>Another topnotch dog. His name is Big Jumpy Ra...</td>\n",
       "      <td>12.0</td>\n",
       "      <td>10.0</td>\n",
       "      <td>None</td>\n",
       "      <td>NaN</td>\n",
       "      <td>2015</td>\n",
       "      <td>11</td>\n",
       "      <td>Friday</td>\n",
       "      <td>1198</td>\n",
       "      <td>...</td>\n",
       "      <td>https://pbs.twimg.com/media/CUOGUfJW4AA_eni.jpg</td>\n",
       "      <td>Hare</td>\n",
       "      <td>0.447893</td>\n",
       "      <td>False</td>\n",
       "      <td>Dhole</td>\n",
       "      <td>0.092435</td>\n",
       "      <td>False</td>\n",
       "      <td>Chesapeake_bay_retriever</td>\n",
       "      <td>0.088122</td>\n",
       "      <td>True</td>\n",
       "    </tr>\n",
       "    <tr>\n",
       "      <th>...</th>\n",
       "      <td>...</td>\n",
       "      <td>...</td>\n",
       "      <td>...</td>\n",
       "      <td>...</td>\n",
       "      <td>...</td>\n",
       "      <td>...</td>\n",
       "      <td>...</td>\n",
       "      <td>...</td>\n",
       "      <td>...</td>\n",
       "      <td>...</td>\n",
       "      <td>...</td>\n",
       "      <td>...</td>\n",
       "      <td>...</td>\n",
       "      <td>...</td>\n",
       "      <td>...</td>\n",
       "      <td>...</td>\n",
       "      <td>...</td>\n",
       "      <td>...</td>\n",
       "      <td>...</td>\n",
       "      <td>...</td>\n",
       "      <td>...</td>\n",
       "    </tr>\n",
       "    <tr>\n",
       "      <th>1950</th>\n",
       "      <td>887705289381826560</td>\n",
       "      <td>This is Jeffrey. He has a monopoly on the pool...</td>\n",
       "      <td>13.0</td>\n",
       "      <td>10.0</td>\n",
       "      <td>Jeffrey</td>\n",
       "      <td>NaN</td>\n",
       "      <td>2017</td>\n",
       "      <td>7</td>\n",
       "      <td>Wednesday</td>\n",
       "      <td>5609</td>\n",
       "      <td>...</td>\n",
       "      <td>https://pbs.twimg.com/media/DFHDQBbXgAEqY7t.jpg</td>\n",
       "      <td>Basset</td>\n",
       "      <td>0.821664</td>\n",
       "      <td>True</td>\n",
       "      <td>Redbone</td>\n",
       "      <td>0.087582</td>\n",
       "      <td>True</td>\n",
       "      <td>Weimaraner</td>\n",
       "      <td>0.026236</td>\n",
       "      <td>True</td>\n",
       "    </tr>\n",
       "    <tr>\n",
       "      <th>1960</th>\n",
       "      <td>890006608113172480</td>\n",
       "      <td>This is Koda. He is a South Australian decksha...</td>\n",
       "      <td>13.0</td>\n",
       "      <td>10.0</td>\n",
       "      <td>Koda</td>\n",
       "      <td>NaN</td>\n",
       "      <td>2017</td>\n",
       "      <td>7</td>\n",
       "      <td>Wednesday</td>\n",
       "      <td>7624</td>\n",
       "      <td>...</td>\n",
       "      <td>https://pbs.twimg.com/media/DFnwSY4WAAAMliS.jpg</td>\n",
       "      <td>Samoyed</td>\n",
       "      <td>0.957979</td>\n",
       "      <td>True</td>\n",
       "      <td>Pomeranian</td>\n",
       "      <td>0.013884</td>\n",
       "      <td>True</td>\n",
       "      <td>Chow</td>\n",
       "      <td>0.008167</td>\n",
       "      <td>True</td>\n",
       "    </tr>\n",
       "    <tr>\n",
       "      <th>1961</th>\n",
       "      <td>890240255349198849</td>\n",
       "      <td>This is Cassie. She is a college pup. Studying...</td>\n",
       "      <td>14.0</td>\n",
       "      <td>10.0</td>\n",
       "      <td>Cassie</td>\n",
       "      <td>doggo</td>\n",
       "      <td>2017</td>\n",
       "      <td>7</td>\n",
       "      <td>Wednesday</td>\n",
       "      <td>7711</td>\n",
       "      <td>...</td>\n",
       "      <td>https://pbs.twimg.com/media/DFrEyVuW0AAO3t9.jpg</td>\n",
       "      <td>Pembroke</td>\n",
       "      <td>0.511319</td>\n",
       "      <td>True</td>\n",
       "      <td>Cardigan</td>\n",
       "      <td>0.451038</td>\n",
       "      <td>True</td>\n",
       "      <td>Chihuahua</td>\n",
       "      <td>0.029248</td>\n",
       "      <td>True</td>\n",
       "    </tr>\n",
       "    <tr>\n",
       "      <th>1969</th>\n",
       "      <td>892177421306343426</td>\n",
       "      <td>This is Tilly. She's just checking pup on you....</td>\n",
       "      <td>13.0</td>\n",
       "      <td>10.0</td>\n",
       "      <td>Tilly</td>\n",
       "      <td>NaN</td>\n",
       "      <td>2017</td>\n",
       "      <td>8</td>\n",
       "      <td>Tuesday</td>\n",
       "      <td>6514</td>\n",
       "      <td>...</td>\n",
       "      <td>https://pbs.twimg.com/media/DGGmoV4XsAAUL6n.jpg</td>\n",
       "      <td>Chihuahua</td>\n",
       "      <td>0.323581</td>\n",
       "      <td>True</td>\n",
       "      <td>Pekinese</td>\n",
       "      <td>0.090647</td>\n",
       "      <td>True</td>\n",
       "      <td>Papillon</td>\n",
       "      <td>0.068957</td>\n",
       "      <td>True</td>\n",
       "    </tr>\n",
       "    <tr>\n",
       "      <th>1970</th>\n",
       "      <td>892420643555336193</td>\n",
       "      <td>This is Phineas. He's a mystical boy. Only eve...</td>\n",
       "      <td>13.0</td>\n",
       "      <td>10.0</td>\n",
       "      <td>Phineas</td>\n",
       "      <td>NaN</td>\n",
       "      <td>2017</td>\n",
       "      <td>8</td>\n",
       "      <td>Tuesday</td>\n",
       "      <td>8853</td>\n",
       "      <td>...</td>\n",
       "      <td>https://pbs.twimg.com/media/DGKD1-bXoAAIAUK.jpg</td>\n",
       "      <td>Orange</td>\n",
       "      <td>0.097049</td>\n",
       "      <td>False</td>\n",
       "      <td>Bagel</td>\n",
       "      <td>0.085851</td>\n",
       "      <td>False</td>\n",
       "      <td>Banana</td>\n",
       "      <td>0.076110</td>\n",
       "      <td>False</td>\n",
       "    </tr>\n",
       "  </tbody>\n",
       "</table>\n",
       "<p>1971 rows × 22 columns</p>\n",
       "</div>"
      ],
      "text/plain": [
       "                tweet_id                                              tweet  \\\n",
       "83    667495797102141441  This is Philippe from Soviet Russia. Commandin...   \n",
       "84    667502640335572993  Say hello to Hall and Oates. Oates is winking ...   \n",
       "85    667509364010450944  This a Norwegian Pewterschmidt named Tickles. ...   \n",
       "86    667517642048163840  This is Dook &amp; Milo. Dook is struggling to...   \n",
       "87    667524857454854144  Another topnotch dog. His name is Big Jumpy Ra...   \n",
       "...                  ...                                                ...   \n",
       "1950  887705289381826560  This is Jeffrey. He has a monopoly on the pool...   \n",
       "1960  890006608113172480  This is Koda. He is a South Australian decksha...   \n",
       "1961  890240255349198849  This is Cassie. She is a college pup. Studying...   \n",
       "1969  892177421306343426  This is Tilly. She's just checking pup on you....   \n",
       "1970  892420643555336193  This is Phineas. He's a mystical boy. Only eve...   \n",
       "\n",
       "      rating_numerator  rating_denominator      name dog_phase  Year  Month  \\\n",
       "83                 9.0                10.0  Philippe       NaN  2015     11   \n",
       "84                11.0                10.0      Hall       NaN  2015     11   \n",
       "85                12.0                10.0      None       NaN  2015     11   \n",
       "86                 8.0                10.0      Dook       NaN  2015     11   \n",
       "87                12.0                10.0      None       NaN  2015     11   \n",
       "...                ...                 ...       ...       ...   ...    ...   \n",
       "1950              13.0                10.0   Jeffrey       NaN  2017      7   \n",
       "1960              13.0                10.0      Koda       NaN  2017      7   \n",
       "1961              14.0                10.0    Cassie     doggo  2017      7   \n",
       "1969              13.0                10.0     Tilly       NaN  2017      8   \n",
       "1970              13.0                10.0   Phineas       NaN  2017      8   \n",
       "\n",
       "        WeekDay  retweet_count  ...  \\\n",
       "83       Friday            294  ...   \n",
       "84       Friday            231  ...   \n",
       "85       Friday           2272  ...   \n",
       "86       Friday            203  ...   \n",
       "87       Friday           1198  ...   \n",
       "...         ...            ...  ...   \n",
       "1950  Wednesday           5609  ...   \n",
       "1960  Wednesday           7624  ...   \n",
       "1961  Wednesday           7711  ...   \n",
       "1969    Tuesday           6514  ...   \n",
       "1970    Tuesday           8853  ...   \n",
       "\n",
       "                                              jpg_url    first_prediction  \\\n",
       "83    https://pbs.twimg.com/media/CUNr4-7UwAAg2lq.jpg           Chihuahua   \n",
       "84    https://pbs.twimg.com/media/CUNyHTMUYAAQVch.jpg  Labrador_retriever   \n",
       "85    https://pbs.twimg.com/media/CUN4Or5UAAAa5K4.jpg              Beagle   \n",
       "86    https://pbs.twimg.com/media/CUN_wiBUkAAakT0.jpg   Italian_greyhound   \n",
       "87    https://pbs.twimg.com/media/CUOGUfJW4AA_eni.jpg                Hare   \n",
       "...                                               ...                 ...   \n",
       "1950  https://pbs.twimg.com/media/DFHDQBbXgAEqY7t.jpg              Basset   \n",
       "1960  https://pbs.twimg.com/media/DFnwSY4WAAAMliS.jpg             Samoyed   \n",
       "1961  https://pbs.twimg.com/media/DFrEyVuW0AAO3t9.jpg            Pembroke   \n",
       "1969  https://pbs.twimg.com/media/DGGmoV4XsAAUL6n.jpg           Chihuahua   \n",
       "1970  https://pbs.twimg.com/media/DGKD1-bXoAAIAUK.jpg              Orange   \n",
       "\n",
       "     first_confidence first_dog   second_prediction  second_confidence  \\\n",
       "83           0.143957      True  Christmas_stocking           0.118651   \n",
       "84           0.996709      True    Golden_retriever           0.001688   \n",
       "85           0.636169      True  Labrador_retriever           0.119256   \n",
       "86           0.125176      True     Standard_poodle           0.084571   \n",
       "87           0.447893     False               Dhole           0.092435   \n",
       "...               ...       ...                 ...                ...   \n",
       "1950         0.821664      True             Redbone           0.087582   \n",
       "1960         0.957979      True          Pomeranian           0.013884   \n",
       "1961         0.511319      True            Cardigan           0.451038   \n",
       "1969         0.323581      True            Pekinese           0.090647   \n",
       "1970         0.097049     False               Bagel           0.085851   \n",
       "\n",
       "     second_dog          third_prediction  third_confidence third_dog  \n",
       "83        False                  Ski_mask          0.092482     False  \n",
       "84         True                    Beagle          0.000712      True  \n",
       "85         True          Golden_retriever          0.082549      True  \n",
       "86         True            Cocker_spaniel          0.081347      True  \n",
       "87        False  Chesapeake_bay_retriever          0.088122      True  \n",
       "...         ...                       ...               ...       ...  \n",
       "1950       True                Weimaraner          0.026236      True  \n",
       "1960       True                      Chow          0.008167      True  \n",
       "1961       True                 Chihuahua          0.029248      True  \n",
       "1969       True                  Papillon          0.068957      True  \n",
       "1970      False                    Banana          0.076110     False  \n",
       "\n",
       "[1971 rows x 22 columns]"
      ]
     },
     "execution_count": 111,
     "metadata": {},
     "output_type": "execute_result"
    }
   ],
   "source": [
    "#lets check the data base on date value\n",
    "df_mergged_all.sort_values(by=['Year', 'Month', 'WeekDay'])"
   ]
  },
  {
   "cell_type": "markdown",
   "id": "9c5de110",
   "metadata": {},
   "source": [
    "# 5 - STORE THE MERGED DATAFRAME"
   ]
  },
  {
   "cell_type": "markdown",
   "id": "a9e5cdaa",
   "metadata": {},
   "source": [
    "# Define"
   ]
  },
  {
   "cell_type": "raw",
   "id": "9fcea27f",
   "metadata": {},
   "source": [
    "#we can now save the merged file."
   ]
  },
  {
   "cell_type": "markdown",
   "id": "7c7f8bd2",
   "metadata": {},
   "source": [
    "# Code"
   ]
  },
  {
   "cell_type": "code",
   "execution_count": 112,
   "id": "06edcbfb",
   "metadata": {},
   "outputs": [],
   "source": [
    "#we can now save the merged file.\n",
    "df_mergged_all.to_csv('df_master_table.csv', index = False, encoding = 'utf-8')"
   ]
  },
  {
   "cell_type": "markdown",
   "id": "78575bcb",
   "metadata": {},
   "source": [
    "# 6 VISUALIZING & ANALYSING OF THE MERGED DATASET "
   ]
  },
  {
   "cell_type": "markdown",
   "id": "9c82293e",
   "metadata": {},
   "source": [
    "# Test"
   ]
  },
  {
   "cell_type": "code",
   "execution_count": 113,
   "id": "1f2dcb9a",
   "metadata": {},
   "outputs": [],
   "source": [
    "#load the saved file\n",
    "df_saved_merged = pd.read_csv('df_master_table.csv', sep =',')"
   ]
  },
  {
   "cell_type": "code",
   "execution_count": 114,
   "id": "bdbe2def",
   "metadata": {},
   "outputs": [
    {
     "data": {
      "text/html": [
       "<div>\n",
       "<style scoped>\n",
       "    .dataframe tbody tr th:only-of-type {\n",
       "        vertical-align: middle;\n",
       "    }\n",
       "\n",
       "    .dataframe tbody tr th {\n",
       "        vertical-align: top;\n",
       "    }\n",
       "\n",
       "    .dataframe thead th {\n",
       "        text-align: right;\n",
       "    }\n",
       "</style>\n",
       "<table border=\"1\" class=\"dataframe\">\n",
       "  <thead>\n",
       "    <tr style=\"text-align: right;\">\n",
       "      <th></th>\n",
       "      <th>tweet_id</th>\n",
       "      <th>tweet</th>\n",
       "      <th>rating_numerator</th>\n",
       "      <th>rating_denominator</th>\n",
       "      <th>name</th>\n",
       "      <th>dog_phase</th>\n",
       "      <th>Year</th>\n",
       "      <th>Month</th>\n",
       "      <th>WeekDay</th>\n",
       "      <th>retweet_count</th>\n",
       "      <th>...</th>\n",
       "      <th>jpg_url</th>\n",
       "      <th>first_prediction</th>\n",
       "      <th>first_confidence</th>\n",
       "      <th>first_dog</th>\n",
       "      <th>second_prediction</th>\n",
       "      <th>second_confidence</th>\n",
       "      <th>second_dog</th>\n",
       "      <th>third_prediction</th>\n",
       "      <th>third_confidence</th>\n",
       "      <th>third_dog</th>\n",
       "    </tr>\n",
       "  </thead>\n",
       "  <tbody>\n",
       "    <tr>\n",
       "      <th>0</th>\n",
       "      <td>666020888022790149</td>\n",
       "      <td>Here we have a Japanese Irish Setter. Lost eye...</td>\n",
       "      <td>8.0</td>\n",
       "      <td>10.0</td>\n",
       "      <td>None</td>\n",
       "      <td>NaN</td>\n",
       "      <td>2015</td>\n",
       "      <td>11</td>\n",
       "      <td>Sunday</td>\n",
       "      <td>532</td>\n",
       "      <td>...</td>\n",
       "      <td>https://pbs.twimg.com/media/CT4udn0WwAA0aMy.jpg</td>\n",
       "      <td>Welsh_springer_spaniel</td>\n",
       "      <td>0.465074</td>\n",
       "      <td>True</td>\n",
       "      <td>Collie</td>\n",
       "      <td>0.156665</td>\n",
       "      <td>True</td>\n",
       "      <td>Shetland_sheepdog</td>\n",
       "      <td>0.061428</td>\n",
       "      <td>True</td>\n",
       "    </tr>\n",
       "    <tr>\n",
       "      <th>1</th>\n",
       "      <td>666029285002620928</td>\n",
       "      <td>This is a western brown Mitsubishi terrier. Up...</td>\n",
       "      <td>7.0</td>\n",
       "      <td>10.0</td>\n",
       "      <td>NaN</td>\n",
       "      <td>NaN</td>\n",
       "      <td>2015</td>\n",
       "      <td>11</td>\n",
       "      <td>Sunday</td>\n",
       "      <td>48</td>\n",
       "      <td>...</td>\n",
       "      <td>https://pbs.twimg.com/media/CT42GRgUYAA5iDo.jpg</td>\n",
       "      <td>Redbone</td>\n",
       "      <td>0.506826</td>\n",
       "      <td>True</td>\n",
       "      <td>Miniature_pinscher</td>\n",
       "      <td>0.074192</td>\n",
       "      <td>True</td>\n",
       "      <td>Rhodesian_ridgeback</td>\n",
       "      <td>0.072010</td>\n",
       "      <td>True</td>\n",
       "    </tr>\n",
       "    <tr>\n",
       "      <th>2</th>\n",
       "      <td>666033412701032449</td>\n",
       "      <td>Here is a very happy pup. Big fan of well-main...</td>\n",
       "      <td>9.0</td>\n",
       "      <td>10.0</td>\n",
       "      <td>NaN</td>\n",
       "      <td>NaN</td>\n",
       "      <td>2015</td>\n",
       "      <td>11</td>\n",
       "      <td>Sunday</td>\n",
       "      <td>47</td>\n",
       "      <td>...</td>\n",
       "      <td>https://pbs.twimg.com/media/CT4521TWwAEvMyu.jpg</td>\n",
       "      <td>German_shepherd</td>\n",
       "      <td>0.596461</td>\n",
       "      <td>True</td>\n",
       "      <td>Malinois</td>\n",
       "      <td>0.138584</td>\n",
       "      <td>True</td>\n",
       "      <td>Bloodhound</td>\n",
       "      <td>0.116197</td>\n",
       "      <td>True</td>\n",
       "    </tr>\n",
       "  </tbody>\n",
       "</table>\n",
       "<p>3 rows × 22 columns</p>\n",
       "</div>"
      ],
      "text/plain": [
       "             tweet_id                                              tweet  \\\n",
       "0  666020888022790149  Here we have a Japanese Irish Setter. Lost eye...   \n",
       "1  666029285002620928  This is a western brown Mitsubishi terrier. Up...   \n",
       "2  666033412701032449  Here is a very happy pup. Big fan of well-main...   \n",
       "\n",
       "   rating_numerator  rating_denominator  name dog_phase  Year  Month WeekDay  \\\n",
       "0               8.0                10.0  None       NaN  2015     11  Sunday   \n",
       "1               7.0                10.0   NaN       NaN  2015     11  Sunday   \n",
       "2               9.0                10.0   NaN       NaN  2015     11  Sunday   \n",
       "\n",
       "   retweet_count  ...                                          jpg_url  \\\n",
       "0            532  ...  https://pbs.twimg.com/media/CT4udn0WwAA0aMy.jpg   \n",
       "1             48  ...  https://pbs.twimg.com/media/CT42GRgUYAA5iDo.jpg   \n",
       "2             47  ...  https://pbs.twimg.com/media/CT4521TWwAEvMyu.jpg   \n",
       "\n",
       "         first_prediction first_confidence first_dog   second_prediction  \\\n",
       "0  Welsh_springer_spaniel         0.465074      True              Collie   \n",
       "1                 Redbone         0.506826      True  Miniature_pinscher   \n",
       "2         German_shepherd         0.596461      True            Malinois   \n",
       "\n",
       "   second_confidence second_dog     third_prediction  third_confidence  \\\n",
       "0           0.156665       True    Shetland_sheepdog          0.061428   \n",
       "1           0.074192       True  Rhodesian_ridgeback          0.072010   \n",
       "2           0.138584       True           Bloodhound          0.116197   \n",
       "\n",
       "  third_dog  \n",
       "0      True  \n",
       "1      True  \n",
       "2      True  \n",
       "\n",
       "[3 rows x 22 columns]"
      ]
     },
     "execution_count": 114,
     "metadata": {},
     "output_type": "execute_result"
    }
   ],
   "source": [
    "#check out the merged file\n",
    "df_saved_merged.head(3)"
   ]
  },
  {
   "cell_type": "markdown",
   "id": "83634bee",
   "metadata": {},
   "source": [
    "# Lets go into the insight"
   ]
  },
  {
   "cell_type": "code",
   "execution_count": 115,
   "id": "846431f1",
   "metadata": {},
   "outputs": [
    {
     "data": {
      "text/html": [
       "<div>\n",
       "<style scoped>\n",
       "    .dataframe tbody tr th:only-of-type {\n",
       "        vertical-align: middle;\n",
       "    }\n",
       "\n",
       "    .dataframe tbody tr th {\n",
       "        vertical-align: top;\n",
       "    }\n",
       "\n",
       "    .dataframe thead th {\n",
       "        text-align: right;\n",
       "    }\n",
       "</style>\n",
       "<table border=\"1\" class=\"dataframe\">\n",
       "  <thead>\n",
       "    <tr style=\"text-align: right;\">\n",
       "      <th></th>\n",
       "      <th>tweet_id</th>\n",
       "      <th>rating_numerator</th>\n",
       "      <th>rating_denominator</th>\n",
       "      <th>Year</th>\n",
       "      <th>Month</th>\n",
       "      <th>retweet_count</th>\n",
       "      <th>favorite_count</th>\n",
       "      <th>first_confidence</th>\n",
       "      <th>second_confidence</th>\n",
       "      <th>third_confidence</th>\n",
       "    </tr>\n",
       "  </thead>\n",
       "  <tbody>\n",
       "    <tr>\n",
       "      <th>count</th>\n",
       "      <td>1.971000e+03</td>\n",
       "      <td>1971.000000</td>\n",
       "      <td>1971.0</td>\n",
       "      <td>1971.000000</td>\n",
       "      <td>1971.000000</td>\n",
       "      <td>1971.000000</td>\n",
       "      <td>1971.000000</td>\n",
       "      <td>1971.000000</td>\n",
       "      <td>1.971000e+03</td>\n",
       "      <td>1.971000e+03</td>\n",
       "    </tr>\n",
       "    <tr>\n",
       "      <th>mean</th>\n",
       "      <td>7.360418e+17</td>\n",
       "      <td>10.500863</td>\n",
       "      <td>10.0</td>\n",
       "      <td>2015.847286</td>\n",
       "      <td>7.165906</td>\n",
       "      <td>2784.449518</td>\n",
       "      <td>8949.106545</td>\n",
       "      <td>0.594558</td>\n",
       "      <td>1.345850e-01</td>\n",
       "      <td>6.016556e-02</td>\n",
       "    </tr>\n",
       "    <tr>\n",
       "      <th>std</th>\n",
       "      <td>6.752810e+16</td>\n",
       "      <td>2.243487</td>\n",
       "      <td>0.0</td>\n",
       "      <td>0.699178</td>\n",
       "      <td>4.117485</td>\n",
       "      <td>4697.662893</td>\n",
       "      <td>12267.799790</td>\n",
       "      <td>0.272126</td>\n",
       "      <td>1.010527e-01</td>\n",
       "      <td>5.094156e-02</td>\n",
       "    </tr>\n",
       "    <tr>\n",
       "      <th>min</th>\n",
       "      <td>6.660209e+17</td>\n",
       "      <td>0.000000</td>\n",
       "      <td>10.0</td>\n",
       "      <td>2015.000000</td>\n",
       "      <td>1.000000</td>\n",
       "      <td>16.000000</td>\n",
       "      <td>81.000000</td>\n",
       "      <td>0.044333</td>\n",
       "      <td>1.011300e-08</td>\n",
       "      <td>1.740170e-10</td>\n",
       "    </tr>\n",
       "    <tr>\n",
       "      <th>25%</th>\n",
       "      <td>6.758656e+17</td>\n",
       "      <td>10.000000</td>\n",
       "      <td>10.0</td>\n",
       "      <td>2015.000000</td>\n",
       "      <td>3.000000</td>\n",
       "      <td>628.500000</td>\n",
       "      <td>1997.000000</td>\n",
       "      <td>0.363091</td>\n",
       "      <td>5.339800e-02</td>\n",
       "      <td>1.608055e-02</td>\n",
       "    </tr>\n",
       "    <tr>\n",
       "      <th>50%</th>\n",
       "      <td>7.088343e+17</td>\n",
       "      <td>11.000000</td>\n",
       "      <td>10.0</td>\n",
       "      <td>2016.000000</td>\n",
       "      <td>7.000000</td>\n",
       "      <td>1367.000000</td>\n",
       "      <td>4147.000000</td>\n",
       "      <td>0.587764</td>\n",
       "      <td>1.173970e-01</td>\n",
       "      <td>4.944380e-02</td>\n",
       "    </tr>\n",
       "    <tr>\n",
       "      <th>75%</th>\n",
       "      <td>7.880951e+17</td>\n",
       "      <td>12.000000</td>\n",
       "      <td>10.0</td>\n",
       "      <td>2016.000000</td>\n",
       "      <td>11.000000</td>\n",
       "      <td>3239.000000</td>\n",
       "      <td>11402.500000</td>\n",
       "      <td>0.847827</td>\n",
       "      <td>1.955655e-01</td>\n",
       "      <td>9.153815e-02</td>\n",
       "    </tr>\n",
       "    <tr>\n",
       "      <th>max</th>\n",
       "      <td>8.924206e+17</td>\n",
       "      <td>17.760000</td>\n",
       "      <td>10.0</td>\n",
       "      <td>2017.000000</td>\n",
       "      <td>12.000000</td>\n",
       "      <td>79515.000000</td>\n",
       "      <td>132810.000000</td>\n",
       "      <td>1.000000</td>\n",
       "      <td>4.880140e-01</td>\n",
       "      <td>2.734190e-01</td>\n",
       "    </tr>\n",
       "  </tbody>\n",
       "</table>\n",
       "</div>"
      ],
      "text/plain": [
       "           tweet_id  rating_numerator  rating_denominator         Year  \\\n",
       "count  1.971000e+03       1971.000000              1971.0  1971.000000   \n",
       "mean   7.360418e+17         10.500863                10.0  2015.847286   \n",
       "std    6.752810e+16          2.243487                 0.0     0.699178   \n",
       "min    6.660209e+17          0.000000                10.0  2015.000000   \n",
       "25%    6.758656e+17         10.000000                10.0  2015.000000   \n",
       "50%    7.088343e+17         11.000000                10.0  2016.000000   \n",
       "75%    7.880951e+17         12.000000                10.0  2016.000000   \n",
       "max    8.924206e+17         17.760000                10.0  2017.000000   \n",
       "\n",
       "             Month  retweet_count  favorite_count  first_confidence  \\\n",
       "count  1971.000000    1971.000000     1971.000000       1971.000000   \n",
       "mean      7.165906    2784.449518     8949.106545          0.594558   \n",
       "std       4.117485    4697.662893    12267.799790          0.272126   \n",
       "min       1.000000      16.000000       81.000000          0.044333   \n",
       "25%       3.000000     628.500000     1997.000000          0.363091   \n",
       "50%       7.000000    1367.000000     4147.000000          0.587764   \n",
       "75%      11.000000    3239.000000    11402.500000          0.847827   \n",
       "max      12.000000   79515.000000   132810.000000          1.000000   \n",
       "\n",
       "       second_confidence  third_confidence  \n",
       "count       1.971000e+03      1.971000e+03  \n",
       "mean        1.345850e-01      6.016556e-02  \n",
       "std         1.010527e-01      5.094156e-02  \n",
       "min         1.011300e-08      1.740170e-10  \n",
       "25%         5.339800e-02      1.608055e-02  \n",
       "50%         1.173970e-01      4.944380e-02  \n",
       "75%         1.955655e-01      9.153815e-02  \n",
       "max         4.880140e-01      2.734190e-01  "
      ]
     },
     "execution_count": 115,
     "metadata": {},
     "output_type": "execute_result"
    }
   ],
   "source": [
    "#lets find out how the dataset was distributed\n",
    "df_saved_merged.describe()"
   ]
  },
  {
   "cell_type": "raw",
   "id": "cc726600",
   "metadata": {},
   "source": [
    "# You can see that the highest rating numerator is 17.76 why the mean is 11 and the minimum rating is zero\n",
    "the first confidence also have the probability of 1 which shows that the prdiction was right."
   ]
  },
  {
   "cell_type": "markdown",
   "id": "00fbb1a3",
   "metadata": {},
   "source": [
    "# check the dog with highest breed"
   ]
  },
  {
   "cell_type": "code",
   "execution_count": 116,
   "id": "faabc6aa",
   "metadata": {},
   "outputs": [
    {
     "data": {
      "image/png": "[encoded data removed]",
      "text/plain": [
       "<Figure size 1800x720 with 1 Axes>"
      ]
     },
     "metadata": {
      "needs_background": "light"
     },
     "output_type": "display_data"
    }
   ],
   "source": [
    "#check the dog with highest breed\n",
    "plt.figure(figsize = (25,10))\n",
    "ax = snb.barplot(x = df_saved_merged['first_prediction'].value_counts()[0:20].index,\n",
    "                y= df_saved_merged['first_prediction'].value_counts()[0:20],\n",
    "                data = df_saved_merged);\n",
    "ax.set_xticklabels(ax.get_xticklabels(), rotation = 90, fontsize = 18);\n",
    "plt.xlabel('Dog Breeds', fontsize =30 );\n",
    "plt.ylabel('Prediction Count', fontsize = 30);\n",
    "plt.title('Popular Dog Breeds', fontsize = 30);"
   ]
  },
  {
   "cell_type": "raw",
   "id": "23a592ea",
   "metadata": {},
   "source": [
    "golden_retriever dog breeds has highest popularity due to its gentleness, affectionate in naure with fine colour\n",
    "and very accomodating. tThe golden_retriever have influence on users rating because of its good characteristic"
   ]
  },
  {
   "cell_type": "code",
   "execution_count": 117,
   "id": "e02a937c",
   "metadata": {},
   "outputs": [
    {
     "data": {
      "text/plain": [
       "Year\n",
       "2017    354\n",
       "2015    655\n",
       "2016    962\n",
       "Name: tweet_id, dtype: int64"
      ]
     },
     "execution_count": 117,
     "metadata": {},
     "output_type": "execute_result"
    }
   ],
   "source": [
    "#check the numeric values by year\n",
    "df_saved_merged.groupby('Year')['tweet_id'].count().sort_values(ascending = True)"
   ]
  },
  {
   "cell_type": "raw",
   "id": "72a0e8a6",
   "metadata": {},
   "source": [
    "2016 has the highest user's count and can therefore influence the ratings"
   ]
  },
  {
   "cell_type": "code",
   "execution_count": 118,
   "id": "021c2358",
   "metadata": {},
   "outputs": [
    {
     "data": {
      "text/plain": [
       "<AxesSubplot:title={'center':'Tweet ID'}, ylabel='tweet_id'>"
      ]
     },
     "execution_count": 118,
     "metadata": {},
     "output_type": "execute_result"
    },
    {
     "data": {
      "image/png": "[encoded data removed]",
      "text/plain": [
       "<Figure size 432x288 with 1 Axes>"
      ]
     },
     "metadata": {},
     "output_type": "display_data"
    }
   ],
   "source": [
    "#Check users count base on year..2016 has more tweet than 2015 & 2017\n",
    "df_saved_merged.groupby('Year')['tweet_id'].count().plot(kind = 'pie', title = 'Tweet ID', autopct = '%.2f%%')"
   ]
  },
  {
   "cell_type": "raw",
   "id": "58562bd8",
   "metadata": {},
   "source": [
    "# 2016 has more tweet than 2015 & 2017 which have higher influence on the ratings"
   ]
  },
  {
   "cell_type": "markdown",
   "id": "47fecbf8",
   "metadata": {},
   "source": [
    "# Lets check ratings by month"
   ]
  },
  {
   "cell_type": "code",
   "execution_count": null,
   "id": "0593a277",
   "metadata": {},
   "outputs": [],
   "source": [
    "#Rating using month\n",
    "df_saved_merged.plot(y = 'rating_numerator', x = 'Month', style = 'o', alpha = .7)"
   ]
  },
  {
   "cell_type": "code",
   "execution_count": null,
   "id": "d1381ba9",
   "metadata": {},
   "outputs": [],
   "source": [
    "Ratings increased in november and december which implies in the winter there used to be favourable weather, \n",
    "the weather have influence on users which in return influence ratings count"
   ]
  },
  {
   "cell_type": "markdown",
   "id": "6fd46311",
   "metadata": {},
   "source": [
    "# Lets check the users based on language"
   ]
  },
  {
   "cell_type": "code",
   "execution_count": null,
   "id": "10f4bb7c",
   "metadata": {},
   "outputs": [],
   "source": [
    "#Check users count base on year..2016 has more tweet than 2015 & 2017\n",
    "df_saved_merged.groupby('lang')['tweet_id'].count().plot(kind = 'bar', title = 'Tweet ID')"
   ]
  },
  {
   "cell_type": "raw",
   "id": "4444f9be",
   "metadata": {},
   "source": [
    "English users dominated which means the ratings might not be accepted by other users with another languages"
   ]
  },
  {
   "cell_type": "markdown",
   "id": "46bc2ccb",
   "metadata": {},
   "source": [
    "# Lets check the dog phase with favourite count and bar chart is good"
   ]
  },
  {
   "cell_type": "code",
   "execution_count": null,
   "id": "da1dde0f",
   "metadata": {},
   "outputs": [],
   "source": [
    "df_saved_merged.groupby('dog_phase')['favorite_count'].count().plot(kind = 'bar', title = 'Dog Phase')"
   ]
  },
  {
   "cell_type": "raw",
   "id": "15386bce",
   "metadata": {},
   "source": [
    "# Pupper is the youngest phase of dog and at the stage they looks beautiful and calm \n",
    "which makes users takes them as their favourite"
   ]
  },
  {
   "cell_type": "markdown",
   "id": "93d9fc4f",
   "metadata": {},
   "source": [
    "# Conclussion"
   ]
  },
  {
   "cell_type": "raw",
   "id": "0127b2c3",
   "metadata": {},
   "source": [
    "Well, due to course study project, data wrangling is the major focus here but however we can not ignore visualization & insight\n",
    "Judging from all the analysis that was done, \n",
    "it was deduced that pupper is the most popular phases in dog phase simply because they are younger and they looks cutter when \n",
    "young which influenced user ratings\n",
    "However golden_retriever dog breeds has highest popularity due to its gentleness, affectionate in naure with fine colour\n",
    "\n",
    "\n",
    "In summary,It can be concluded that young,color, beauty & accomodating dogs is what influenced user in rating the dogs.\n"
   ]
  },
  {
   "cell_type": "markdown",
   "id": "e6b3982c",
   "metadata": {},
   "source": [
    "# Limitation"
   ]
  },
  {
   "cell_type": "raw",
   "id": "c6a27395",
   "metadata": {},
   "source": [
    "English speakers dominated the dog_rating dataset which limit the analysis to be widely accepted by other languages since they were not well represented.\n",
    "Scalling of numerator_ratings were normilized which somehow may not represent true users rating simply because it has been modified.\n"
   ]
  }
 ],
 "metadata": {
  "kernelspec": {
   "display_name": "Python 3 (ipykernel)",
   "language": "python",
   "name": "python3"
  },
  "language_info": {
   "codemirror_mode": {
    "name": "ipython",
    "version": 3
   },
   "file_extension": ".py",
   "mimetype": "text/x-python",
   "name": "python",
   "nbconvert_exporter": "python",
   "pygments_lexer": "ipython3",
   "version": "3.9.5"
  }
 },
 "nbformat": 4,
 "nbformat_minor": 5
}
